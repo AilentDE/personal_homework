{
 "cells": [
  {
   "cell_type": "code",
   "execution_count": 1,
   "metadata": {},
   "outputs": [],
   "source": [
    "import pandas as pd\n",
    "import numpy as np\n",
    "import warnings\n",
    "warnings.filterwarnings('ignore')\n",
    "\n",
    "data = pd.read_csv('.\\材料報價總覽 - 001.csv')\n",
    "target = pd.read_csv('.\\材料報價總覽 - Target.csv')"
   ]
  },
  {
   "cell_type": "code",
   "execution_count": 2,
   "metadata": {},
   "outputs": [
    {
     "name": "stdout",
     "output_type": "stream",
     "text": [
      "original data : (170, 61)\n",
      "concat data : (171, 61)\n"
     ]
    },
    {
     "data": {
      "text/html": [
       "<div>\n",
       "<style scoped>\n",
       "    .dataframe tbody tr th:only-of-type {\n",
       "        vertical-align: middle;\n",
       "    }\n",
       "\n",
       "    .dataframe tbody tr th {\n",
       "        vertical-align: top;\n",
       "    }\n",
       "\n",
       "    .dataframe thead th {\n",
       "        text-align: right;\n",
       "    }\n",
       "</style>\n",
       "<table border=\"1\" class=\"dataframe\">\n",
       "  <thead>\n",
       "    <tr style=\"text-align: right;\">\n",
       "      <th></th>\n",
       "      <th>報價日期</th>\n",
       "      <th>報價廠商</th>\n",
       "      <th>專案名</th>\n",
       "      <th>數量</th>\n",
       "      <th>外盒</th>\n",
       "      <th>外盒材質</th>\n",
       "      <th>外盒印刷</th>\n",
       "      <th>外盒加工</th>\n",
       "      <th>外盒單價</th>\n",
       "      <th>外盒新刀</th>\n",
       "      <th>...</th>\n",
       "      <th>配件單價</th>\n",
       "      <th>配件.1</th>\n",
       "      <th>配件材質.1</th>\n",
       "      <th>配件加工.1</th>\n",
       "      <th>配件數量.1</th>\n",
       "      <th>配件單價.1</th>\n",
       "      <th>包裝單價</th>\n",
       "      <th>外箱單價</th>\n",
       "      <th>專案單價</th>\n",
       "      <th>專案總價</th>\n",
       "    </tr>\n",
       "  </thead>\n",
       "  <tbody>\n",
       "    <tr>\n",
       "      <th>166</th>\n",
       "      <td>2019-3-25</td>\n",
       "      <td>墨帥</td>\n",
       "      <td>漢堡</td>\n",
       "      <td>500.0</td>\n",
       "      <td>70x70x60</td>\n",
       "      <td>圓筒盒</td>\n",
       "      <td>4c</td>\n",
       "      <td>NaN</td>\n",
       "      <td>50.0</td>\n",
       "      <td>NaN</td>\n",
       "      <td>...</td>\n",
       "      <td>NaN</td>\n",
       "      <td>NaN</td>\n",
       "      <td>NaN</td>\n",
       "      <td>NaN</td>\n",
       "      <td>NaN</td>\n",
       "      <td>NaN</td>\n",
       "      <td>14.0</td>\n",
       "      <td>2.3</td>\n",
       "      <td>152.3</td>\n",
       "      <td>76150.0</td>\n",
       "    </tr>\n",
       "    <tr>\n",
       "      <th>167</th>\n",
       "      <td>2019-3-25</td>\n",
       "      <td>墨帥</td>\n",
       "      <td>漢堡</td>\n",
       "      <td>1000.0</td>\n",
       "      <td>70x70x60</td>\n",
       "      <td>圓筒盒</td>\n",
       "      <td>4c</td>\n",
       "      <td>NaN</td>\n",
       "      <td>44.5</td>\n",
       "      <td>NaN</td>\n",
       "      <td>...</td>\n",
       "      <td>NaN</td>\n",
       "      <td>NaN</td>\n",
       "      <td>NaN</td>\n",
       "      <td>NaN</td>\n",
       "      <td>NaN</td>\n",
       "      <td>NaN</td>\n",
       "      <td>12.0</td>\n",
       "      <td>2.3</td>\n",
       "      <td>121.3</td>\n",
       "      <td>121300.0</td>\n",
       "    </tr>\n",
       "    <tr>\n",
       "      <th>168</th>\n",
       "      <td>2019-1-14</td>\n",
       "      <td>墨帥</td>\n",
       "      <td>漢堡</td>\n",
       "      <td>500.0</td>\n",
       "      <td>100x100x80</td>\n",
       "      <td>圓筒盒</td>\n",
       "      <td>4c</td>\n",
       "      <td>NaN</td>\n",
       "      <td>52.0</td>\n",
       "      <td>NaN</td>\n",
       "      <td>...</td>\n",
       "      <td>NaN</td>\n",
       "      <td>NaN</td>\n",
       "      <td>NaN</td>\n",
       "      <td>NaN</td>\n",
       "      <td>NaN</td>\n",
       "      <td>NaN</td>\n",
       "      <td>13.0</td>\n",
       "      <td>2.3</td>\n",
       "      <td>151.3</td>\n",
       "      <td>75650.0</td>\n",
       "    </tr>\n",
       "    <tr>\n",
       "      <th>169</th>\n",
       "      <td>2019-1-14</td>\n",
       "      <td>墨帥</td>\n",
       "      <td>漢堡</td>\n",
       "      <td>1000.0</td>\n",
       "      <td>100x100x80</td>\n",
       "      <td>圓筒盒</td>\n",
       "      <td>4c</td>\n",
       "      <td>NaN</td>\n",
       "      <td>43.0</td>\n",
       "      <td>NaN</td>\n",
       "      <td>...</td>\n",
       "      <td>NaN</td>\n",
       "      <td>NaN</td>\n",
       "      <td>NaN</td>\n",
       "      <td>NaN</td>\n",
       "      <td>NaN</td>\n",
       "      <td>NaN</td>\n",
       "      <td>10.0</td>\n",
       "      <td>2.3</td>\n",
       "      <td>115.8</td>\n",
       "      <td>115800.0</td>\n",
       "    </tr>\n",
       "    <tr>\n",
       "      <th>170</th>\n",
       "      <td>2019-12-19</td>\n",
       "      <td>墨帥</td>\n",
       "      <td>兵姬中文版</td>\n",
       "      <td>500.0</td>\n",
       "      <td>224x224x38</td>\n",
       "      <td>天地盒</td>\n",
       "      <td>4c</td>\n",
       "      <td>水消+局部光</td>\n",
       "      <td>NaN</td>\n",
       "      <td>NaN</td>\n",
       "      <td>...</td>\n",
       "      <td>NaN</td>\n",
       "      <td>NaN</td>\n",
       "      <td>NaN</td>\n",
       "      <td>NaN</td>\n",
       "      <td>NaN</td>\n",
       "      <td>NaN</td>\n",
       "      <td>NaN</td>\n",
       "      <td>NaN</td>\n",
       "      <td>NaN</td>\n",
       "      <td>NaN</td>\n",
       "    </tr>\n",
       "  </tbody>\n",
       "</table>\n",
       "<p>5 rows × 61 columns</p>\n",
       "</div>"
      ],
      "text/plain": [
       "           報價日期 報價廠商    專案名      數量          外盒 外盒材質 外盒印刷    外盒加工  外盒單價 外盒新刀  \\\n",
       "166   2019-3-25   墨帥     漢堡   500.0    70x70x60  圓筒盒   4c     NaN  50.0  NaN   \n",
       "167   2019-3-25   墨帥     漢堡  1000.0    70x70x60  圓筒盒   4c     NaN  44.5  NaN   \n",
       "168   2019-1-14   墨帥     漢堡   500.0  100x100x80  圓筒盒   4c     NaN  52.0  NaN   \n",
       "169   2019-1-14   墨帥     漢堡  1000.0  100x100x80  圓筒盒   4c     NaN  43.0  NaN   \n",
       "170  2019-12-19   墨帥  兵姬中文版   500.0  224x224x38  天地盒   4c  水消+局部光   NaN  NaN   \n",
       "\n",
       "     ... 配件單價  配件.1  配件材質.1 配件加工.1 配件數量.1 配件單價.1  包裝單價 外箱單價   專案單價      專案總價  \n",
       "166  ...  NaN   NaN     NaN    NaN    NaN    NaN  14.0  2.3  152.3   76150.0  \n",
       "167  ...  NaN   NaN     NaN    NaN    NaN    NaN  12.0  2.3  121.3  121300.0  \n",
       "168  ...  NaN   NaN     NaN    NaN    NaN    NaN  13.0  2.3  151.3   75650.0  \n",
       "169  ...  NaN   NaN     NaN    NaN    NaN    NaN  10.0  2.3  115.8  115800.0  \n",
       "170  ...  NaN   NaN     NaN    NaN    NaN    NaN   NaN  NaN    NaN       NaN  \n",
       "\n",
       "[5 rows x 61 columns]"
      ]
     },
     "execution_count": 2,
     "metadata": {},
     "output_type": "execute_result"
    }
   ],
   "source": [
    "print('original data :',data.shape)\n",
    "\n",
    "data = pd.concat([data, target], 0)\n",
    "data.reset_index(inplace=True, drop=True)\n",
    "print('concat data :',data.shape)\n",
    "data.tail()"
   ]
  },
  {
   "cell_type": "code",
   "execution_count": 3,
   "metadata": {},
   "outputs": [
    {
     "data": {
      "text/html": [
       "<div>\n",
       "<style scoped>\n",
       "    .dataframe tbody tr th:only-of-type {\n",
       "        vertical-align: middle;\n",
       "    }\n",
       "\n",
       "    .dataframe tbody tr th {\n",
       "        vertical-align: top;\n",
       "    }\n",
       "\n",
       "    .dataframe thead th {\n",
       "        text-align: right;\n",
       "    }\n",
       "</style>\n",
       "<table border=\"1\" class=\"dataframe\">\n",
       "  <thead>\n",
       "    <tr style=\"text-align: right;\">\n",
       "      <th></th>\n",
       "      <th>報價日期</th>\n",
       "      <th>報價廠商</th>\n",
       "      <th>專案名</th>\n",
       "      <th>數量</th>\n",
       "    </tr>\n",
       "  </thead>\n",
       "  <tbody>\n",
       "    <tr>\n",
       "      <th>0</th>\n",
       "      <td>2019-12-17</td>\n",
       "      <td>墨帥</td>\n",
       "      <td>MOTT</td>\n",
       "      <td>500.0</td>\n",
       "    </tr>\n",
       "    <tr>\n",
       "      <th>1</th>\n",
       "      <td>2019-12-05</td>\n",
       "      <td>墨帥</td>\n",
       "      <td>原子怪獸</td>\n",
       "      <td>1000.0</td>\n",
       "    </tr>\n",
       "    <tr>\n",
       "      <th>2</th>\n",
       "      <td>2019-12-05</td>\n",
       "      <td>墨帥</td>\n",
       "      <td>原子怪獸</td>\n",
       "      <td>1500.0</td>\n",
       "    </tr>\n",
       "  </tbody>\n",
       "</table>\n",
       "</div>"
      ],
      "text/plain": [
       "         報價日期 報價廠商   專案名      數量\n",
       "0  2019-12-17   墨帥  MOTT   500.0\n",
       "1  2019-12-05   墨帥  原子怪獸  1000.0\n",
       "2  2019-12-05   墨帥  原子怪獸  1500.0"
      ]
     },
     "execution_count": 3,
     "metadata": {},
     "output_type": "execute_result"
    }
   ],
   "source": [
    "index = data.iloc[:, :4]\n",
    "index.head(3)"
   ]
  },
  {
   "cell_type": "code",
   "execution_count": 4,
   "metadata": {},
   "outputs": [],
   "source": [
    "#擷取兩份卡片資料表\n",
    "card = data.iloc[:, 13:21]\n",
    "card2 = data.iloc[:, 21:29]\n",
    "card = pd.concat([index, card], 1)\n",
    "card2 = pd.concat([index, card2], 1)\n",
    "card2.columns = card.columns"
   ]
  },
  {
   "cell_type": "code",
   "execution_count": 5,
   "metadata": {},
   "outputs": [],
   "source": [
    "#篩選有效資料\n",
    "card = card[card['卡片'].notnull()]\n",
    "card2 = card2[card2['卡片'].notnull()]\n",
    "\n",
    "#合併兩組card資料表\n",
    "card = pd.concat([card, card2], 0)\n",
    "card.reset_index(inplace=True, drop=True)\n",
    "\n",
    "'''\n",
    "【特別注意】\n",
    "card2['卡片數量']都是整數，dtype為int64，與card合併後Object內容物type不變造成split運算錯誤。(.str只能針對str物件)\n",
    "合併到card的target項目同理。\n",
    "這部分必須非常細心。\n",
    "\n",
    "↓↓↓↓↓↓↓↓↓↓↓↓↓↓↓↓↓↓↓↓↓↓↓↓↓↓↓↓↓處理↓↓↓↓↓↓↓↓↓↓↓↓↓↓↓↓↓↓↓↓↓↓↓↓↓↓↓↓↓\n",
    "'''\n",
    "card['卡片數量'] = card['卡片數量'].astype('str')"
   ]
  },
  {
   "cell_type": "code",
   "execution_count": 6,
   "metadata": {},
   "outputs": [
    {
     "data": {
      "text/html": [
       "<div>\n",
       "<style scoped>\n",
       "    .dataframe tbody tr th:only-of-type {\n",
       "        vertical-align: middle;\n",
       "    }\n",
       "\n",
       "    .dataframe tbody tr th {\n",
       "        vertical-align: top;\n",
       "    }\n",
       "\n",
       "    .dataframe thead th {\n",
       "        text-align: right;\n",
       "    }\n",
       "</style>\n",
       "<table border=\"1\" class=\"dataframe\">\n",
       "  <thead>\n",
       "    <tr style=\"text-align: right;\">\n",
       "      <th></th>\n",
       "      <th>報價日期</th>\n",
       "      <th>報價廠商</th>\n",
       "      <th>專案名</th>\n",
       "      <th>數量</th>\n",
       "      <th>卡片</th>\n",
       "      <th>卡片材質</th>\n",
       "      <th>卡片印刷</th>\n",
       "      <th>卡片加工</th>\n",
       "      <th>卡片收縮</th>\n",
       "      <th>卡片數量</th>\n",
       "      <th>卡片單價</th>\n",
       "      <th>卡片新刀</th>\n",
       "    </tr>\n",
       "  </thead>\n",
       "  <tbody>\n",
       "    <tr>\n",
       "      <th>Miss_Data</th>\n",
       "      <td>0</td>\n",
       "      <td>0</td>\n",
       "      <td>0</td>\n",
       "      <td>0</td>\n",
       "      <td>0</td>\n",
       "      <td>0</td>\n",
       "      <td>0</td>\n",
       "      <td>1</td>\n",
       "      <td>0</td>\n",
       "      <td>0</td>\n",
       "      <td>2</td>\n",
       "      <td>139</td>\n",
       "    </tr>\n",
       "  </tbody>\n",
       "</table>\n",
       "</div>"
      ],
      "text/plain": [
       "           報價日期  報價廠商  專案名  數量  卡片  卡片材質  卡片印刷  卡片加工  卡片收縮  卡片數量  卡片單價  卡片新刀\n",
       "Miss_Data     0     0    0   0   0     0     0     1     0     0     2   139"
      ]
     },
     "execution_count": 6,
     "metadata": {},
     "output_type": "execute_result"
    }
   ],
   "source": [
    "pd.DataFrame(card.isnull().sum(), columns=['Miss_Data']).T"
   ]
  },
  {
   "cell_type": "code",
   "execution_count": 7,
   "metadata": {},
   "outputs": [],
   "source": [
    "#拋棄非目標的未加工道林紙\n",
    "card = card.drop((card[card['卡片加工'].isnull()].index[0]))"
   ]
  },
  {
   "cell_type": "code",
   "execution_count": 8,
   "metadata": {},
   "outputs": [
    {
     "data": {
      "text/html": [
       "<div>\n",
       "<style scoped>\n",
       "    .dataframe tbody tr th:only-of-type {\n",
       "        vertical-align: middle;\n",
       "    }\n",
       "\n",
       "    .dataframe tbody tr th {\n",
       "        vertical-align: top;\n",
       "    }\n",
       "\n",
       "    .dataframe thead th {\n",
       "        text-align: right;\n",
       "    }\n",
       "</style>\n",
       "<table border=\"1\" class=\"dataframe\">\n",
       "  <thead>\n",
       "    <tr style=\"text-align: right;\">\n",
       "      <th></th>\n",
       "      <th>報價日期</th>\n",
       "      <th>報價廠商</th>\n",
       "      <th>專案名</th>\n",
       "      <th>數量</th>\n",
       "      <th>卡片</th>\n",
       "      <th>卡片材質</th>\n",
       "      <th>卡片印刷</th>\n",
       "      <th>卡片加工</th>\n",
       "      <th>卡片收縮</th>\n",
       "      <th>卡片數量</th>\n",
       "      <th>卡片單價</th>\n",
       "      <th>卡片新刀</th>\n",
       "    </tr>\n",
       "  </thead>\n",
       "  <tbody>\n",
       "    <tr>\n",
       "      <th>Miss_Data</th>\n",
       "      <td>0</td>\n",
       "      <td>0</td>\n",
       "      <td>0</td>\n",
       "      <td>0</td>\n",
       "      <td>0</td>\n",
       "      <td>0</td>\n",
       "      <td>0</td>\n",
       "      <td>0</td>\n",
       "      <td>0</td>\n",
       "      <td>0</td>\n",
       "      <td>2</td>\n",
       "      <td>138</td>\n",
       "    </tr>\n",
       "  </tbody>\n",
       "</table>\n",
       "</div>"
      ],
      "text/plain": [
       "           報價日期  報價廠商  專案名  數量  卡片  卡片材質  卡片印刷  卡片加工  卡片收縮  卡片數量  卡片單價  卡片新刀\n",
       "Miss_Data     0     0    0   0   0     0     0     0     0     0     2   138"
      ]
     },
     "execution_count": 8,
     "metadata": {},
     "output_type": "execute_result"
    }
   ],
   "source": [
    "pd.DataFrame(card.isnull().sum(), columns=['Miss_Data']).T"
   ]
  },
  {
   "cell_type": "code",
   "execution_count": 9,
   "metadata": {},
   "outputs": [],
   "source": [
    "# card['卡片新刀'].unique()\n",
    "#整理新刀欄位\n",
    "\n",
    "label = {np.nan:0, '有':1, '特製刀膜':1, '擋板':1}\n",
    "card['卡片新刀'] = card['卡片新刀'].map(label)"
   ]
  },
  {
   "cell_type": "code",
   "execution_count": 10,
   "metadata": {},
   "outputs": [
    {
     "data": {
      "text/html": [
       "<div>\n",
       "<style scoped>\n",
       "    .dataframe tbody tr th:only-of-type {\n",
       "        vertical-align: middle;\n",
       "    }\n",
       "\n",
       "    .dataframe tbody tr th {\n",
       "        vertical-align: top;\n",
       "    }\n",
       "\n",
       "    .dataframe thead th {\n",
       "        text-align: right;\n",
       "    }\n",
       "</style>\n",
       "<table border=\"1\" class=\"dataframe\">\n",
       "  <thead>\n",
       "    <tr style=\"text-align: right;\">\n",
       "      <th></th>\n",
       "      <th>第1尺寸</th>\n",
       "      <th>第2尺寸</th>\n",
       "      <th>第3尺寸</th>\n",
       "      <th>第1尺寸面積</th>\n",
       "      <th>第2尺寸面積</th>\n",
       "      <th>第3尺寸面積</th>\n",
       "    </tr>\n",
       "  </thead>\n",
       "  <tbody>\n",
       "    <tr>\n",
       "      <th>0</th>\n",
       "      <td>63x88</td>\n",
       "      <td>0x0</td>\n",
       "      <td>0x0</td>\n",
       "      <td>5544.0</td>\n",
       "      <td>0.0</td>\n",
       "      <td>0.0</td>\n",
       "    </tr>\n",
       "    <tr>\n",
       "      <th>1</th>\n",
       "      <td>63x88</td>\n",
       "      <td>0x0</td>\n",
       "      <td>0x0</td>\n",
       "      <td>5544.0</td>\n",
       "      <td>0.0</td>\n",
       "      <td>0.0</td>\n",
       "    </tr>\n",
       "    <tr>\n",
       "      <th>2</th>\n",
       "      <td>63x88</td>\n",
       "      <td>0x0</td>\n",
       "      <td>0x0</td>\n",
       "      <td>5544.0</td>\n",
       "      <td>0.0</td>\n",
       "      <td>0.0</td>\n",
       "    </tr>\n",
       "    <tr>\n",
       "      <th>3</th>\n",
       "      <td>63x88</td>\n",
       "      <td>0x0</td>\n",
       "      <td>0x0</td>\n",
       "      <td>5544.0</td>\n",
       "      <td>0.0</td>\n",
       "      <td>0.0</td>\n",
       "    </tr>\n",
       "    <tr>\n",
       "      <th>4</th>\n",
       "      <td>63x88</td>\n",
       "      <td>0x0</td>\n",
       "      <td>0x0</td>\n",
       "      <td>5544.0</td>\n",
       "      <td>0.0</td>\n",
       "      <td>0.0</td>\n",
       "    </tr>\n",
       "  </tbody>\n",
       "</table>\n",
       "</div>"
      ],
      "text/plain": [
       "    第1尺寸 第2尺寸 第3尺寸  第1尺寸面積  第2尺寸面積  第3尺寸面積\n",
       "0  63x88  0x0  0x0  5544.0     0.0     0.0\n",
       "1  63x88  0x0  0x0  5544.0     0.0     0.0\n",
       "2  63x88  0x0  0x0  5544.0     0.0     0.0\n",
       "3  63x88  0x0  0x0  5544.0     0.0     0.0\n",
       "4  63x88  0x0  0x0  5544.0     0.0     0.0"
      ]
     },
     "execution_count": 10,
     "metadata": {},
     "output_type": "execute_result"
    }
   ],
   "source": [
    "#拆解卡片尺寸\n",
    "\n",
    "card_in = card['卡片'].str.split('\\n', expand=True)\n",
    "card_in.columns=['第1尺寸', '第2尺寸', '第3尺寸']\n",
    "card_in = card_in.fillna('0x0')\n",
    "\n",
    "for i, x in enumerate(card_in.columns):\n",
    "    card_in['第'+str(i+1)+'尺寸面積'] = card_in[x].str.split('x', expand=True)[0].astype('float64')\\\n",
    "                                    * card_in[x].str.split('x', expand=True)[1].astype('float64')\n",
    "card_in.head()"
   ]
  },
  {
   "cell_type": "code",
   "execution_count": 11,
   "metadata": {},
   "outputs": [
    {
     "data": {
      "text/html": [
       "<div>\n",
       "<style scoped>\n",
       "    .dataframe tbody tr th:only-of-type {\n",
       "        vertical-align: middle;\n",
       "    }\n",
       "\n",
       "    .dataframe tbody tr th {\n",
       "        vertical-align: top;\n",
       "    }\n",
       "\n",
       "    .dataframe thead th {\n",
       "        text-align: right;\n",
       "    }\n",
       "</style>\n",
       "<table border=\"1\" class=\"dataframe\">\n",
       "  <thead>\n",
       "    <tr style=\"text-align: right;\">\n",
       "      <th></th>\n",
       "      <th>第1數量</th>\n",
       "      <th>第2數量</th>\n",
       "      <th>第3數量</th>\n",
       "    </tr>\n",
       "  </thead>\n",
       "  <tbody>\n",
       "    <tr>\n",
       "      <th>0</th>\n",
       "      <td>40.0</td>\n",
       "      <td>0.0</td>\n",
       "      <td>0.0</td>\n",
       "    </tr>\n",
       "    <tr>\n",
       "      <th>1</th>\n",
       "      <td>80.0</td>\n",
       "      <td>0.0</td>\n",
       "      <td>0.0</td>\n",
       "    </tr>\n",
       "    <tr>\n",
       "      <th>2</th>\n",
       "      <td>80.0</td>\n",
       "      <td>0.0</td>\n",
       "      <td>0.0</td>\n",
       "    </tr>\n",
       "    <tr>\n",
       "      <th>3</th>\n",
       "      <td>80.0</td>\n",
       "      <td>0.0</td>\n",
       "      <td>0.0</td>\n",
       "    </tr>\n",
       "    <tr>\n",
       "      <th>4</th>\n",
       "      <td>80.0</td>\n",
       "      <td>0.0</td>\n",
       "      <td>0.0</td>\n",
       "    </tr>\n",
       "  </tbody>\n",
       "</table>\n",
       "</div>"
      ],
      "text/plain": [
       "   第1數量  第2數量  第3數量\n",
       "0  40.0   0.0   0.0\n",
       "1  80.0   0.0   0.0\n",
       "2  80.0   0.0   0.0\n",
       "3  80.0   0.0   0.0\n",
       "4  80.0   0.0   0.0"
      ]
     },
     "execution_count": 11,
     "metadata": {},
     "output_type": "execute_result"
    }
   ],
   "source": [
    "#拆解卡片數量\n",
    "\n",
    "card_inn = card['卡片數量'].str.split('\\n', expand=True)\n",
    "card_inn.columns=['第1數量', '第2數量', '第3數量']\n",
    "card_inn = card_inn.fillna(0).astype('float64')\n",
    "card_inn.head()"
   ]
  },
  {
   "cell_type": "code",
   "execution_count": 12,
   "metadata": {},
   "outputs": [
    {
     "data": {
      "text/html": [
       "<div>\n",
       "<style scoped>\n",
       "    .dataframe tbody tr th:only-of-type {\n",
       "        vertical-align: middle;\n",
       "    }\n",
       "\n",
       "    .dataframe tbody tr th {\n",
       "        vertical-align: top;\n",
       "    }\n",
       "\n",
       "    .dataframe thead th {\n",
       "        text-align: right;\n",
       "    }\n",
       "</style>\n",
       "<table border=\"1\" class=\"dataframe\">\n",
       "  <thead>\n",
       "    <tr style=\"text-align: right;\">\n",
       "      <th></th>\n",
       "      <th>第1數量</th>\n",
       "      <th>第2數量</th>\n",
       "      <th>第3數量</th>\n",
       "      <th>總使用面積</th>\n",
       "    </tr>\n",
       "  </thead>\n",
       "  <tbody>\n",
       "    <tr>\n",
       "      <th>0</th>\n",
       "      <td>40.0</td>\n",
       "      <td>0.0</td>\n",
       "      <td>0.0</td>\n",
       "      <td>221760.0</td>\n",
       "    </tr>\n",
       "    <tr>\n",
       "      <th>1</th>\n",
       "      <td>80.0</td>\n",
       "      <td>0.0</td>\n",
       "      <td>0.0</td>\n",
       "      <td>443520.0</td>\n",
       "    </tr>\n",
       "    <tr>\n",
       "      <th>2</th>\n",
       "      <td>80.0</td>\n",
       "      <td>0.0</td>\n",
       "      <td>0.0</td>\n",
       "      <td>443520.0</td>\n",
       "    </tr>\n",
       "    <tr>\n",
       "      <th>3</th>\n",
       "      <td>80.0</td>\n",
       "      <td>0.0</td>\n",
       "      <td>0.0</td>\n",
       "      <td>443520.0</td>\n",
       "    </tr>\n",
       "    <tr>\n",
       "      <th>4</th>\n",
       "      <td>80.0</td>\n",
       "      <td>0.0</td>\n",
       "      <td>0.0</td>\n",
       "      <td>443520.0</td>\n",
       "    </tr>\n",
       "  </tbody>\n",
       "</table>\n",
       "</div>"
      ],
      "text/plain": [
       "   第1數量  第2數量  第3數量     總使用面積\n",
       "0  40.0   0.0   0.0  221760.0\n",
       "1  80.0   0.0   0.0  443520.0\n",
       "2  80.0   0.0   0.0  443520.0\n",
       "3  80.0   0.0   0.0  443520.0\n",
       "4  80.0   0.0   0.0  443520.0"
      ]
     },
     "execution_count": 12,
     "metadata": {},
     "output_type": "execute_result"
    }
   ],
   "source": [
    "card_inn['總使用面積'] = card_in['第1尺寸面積'] * card_inn['第1數量'] + \\\n",
    "                    card_in['第2尺寸面積'] * card_inn['第2數量'] + \\\n",
    "                    card_in['第3尺寸面積'] * card_inn['第3數量']\n",
    "card_inn.head()"
   ]
  },
  {
   "cell_type": "code",
   "execution_count": 13,
   "metadata": {},
   "outputs": [
    {
     "data": {
      "text/html": [
       "<div>\n",
       "<style scoped>\n",
       "    .dataframe tbody tr th:only-of-type {\n",
       "        vertical-align: middle;\n",
       "    }\n",
       "\n",
       "    .dataframe tbody tr th {\n",
       "        vertical-align: top;\n",
       "    }\n",
       "\n",
       "    .dataframe thead th {\n",
       "        text-align: right;\n",
       "    }\n",
       "</style>\n",
       "<table border=\"1\" class=\"dataframe\">\n",
       "  <thead>\n",
       "    <tr style=\"text-align: right;\">\n",
       "      <th></th>\n",
       "      <th>報價日期</th>\n",
       "      <th>專案名</th>\n",
       "      <th>數量</th>\n",
       "      <th>卡片材質</th>\n",
       "      <th>卡片印刷</th>\n",
       "      <th>卡片加工</th>\n",
       "      <th>卡片收縮</th>\n",
       "      <th>卡片單價</th>\n",
       "      <th>卡片新刀</th>\n",
       "      <th>第1尺寸</th>\n",
       "      <th>第2尺寸</th>\n",
       "      <th>第3尺寸</th>\n",
       "      <th>第1尺寸面積</th>\n",
       "      <th>第2尺寸面積</th>\n",
       "      <th>第3尺寸面積</th>\n",
       "      <th>第1數量</th>\n",
       "      <th>第2數量</th>\n",
       "      <th>第3數量</th>\n",
       "      <th>總使用面積</th>\n",
       "    </tr>\n",
       "  </thead>\n",
       "  <tbody>\n",
       "    <tr>\n",
       "      <th>0</th>\n",
       "      <td>2019-12-17</td>\n",
       "      <td>MOTT</td>\n",
       "      <td>500.0</td>\n",
       "      <td>350g中華寧波</td>\n",
       "      <td>4c/4c</td>\n",
       "      <td>撲克油+壓紋</td>\n",
       "      <td>收縮</td>\n",
       "      <td>58.0</td>\n",
       "      <td>0</td>\n",
       "      <td>63x88</td>\n",
       "      <td>0x0</td>\n",
       "      <td>0x0</td>\n",
       "      <td>5544.0</td>\n",
       "      <td>0.0</td>\n",
       "      <td>0.0</td>\n",
       "      <td>40.0</td>\n",
       "      <td>0.0</td>\n",
       "      <td>0.0</td>\n",
       "      <td>221760.0</td>\n",
       "    </tr>\n",
       "    <tr>\n",
       "      <th>1</th>\n",
       "      <td>2019-12-05</td>\n",
       "      <td>原子怪獸</td>\n",
       "      <td>1000.0</td>\n",
       "      <td>310g日本銅西</td>\n",
       "      <td>4c/4c</td>\n",
       "      <td>撲克油+壓紋</td>\n",
       "      <td>2收縮</td>\n",
       "      <td>39.0</td>\n",
       "      <td>0</td>\n",
       "      <td>63x88</td>\n",
       "      <td>0x0</td>\n",
       "      <td>0x0</td>\n",
       "      <td>5544.0</td>\n",
       "      <td>0.0</td>\n",
       "      <td>0.0</td>\n",
       "      <td>80.0</td>\n",
       "      <td>0.0</td>\n",
       "      <td>0.0</td>\n",
       "      <td>443520.0</td>\n",
       "    </tr>\n",
       "    <tr>\n",
       "      <th>2</th>\n",
       "      <td>2019-12-05</td>\n",
       "      <td>原子怪獸</td>\n",
       "      <td>1500.0</td>\n",
       "      <td>310g日本銅西</td>\n",
       "      <td>4c/4c</td>\n",
       "      <td>撲克油+壓紋</td>\n",
       "      <td>2收縮</td>\n",
       "      <td>37.0</td>\n",
       "      <td>0</td>\n",
       "      <td>63x88</td>\n",
       "      <td>0x0</td>\n",
       "      <td>0x0</td>\n",
       "      <td>5544.0</td>\n",
       "      <td>0.0</td>\n",
       "      <td>0.0</td>\n",
       "      <td>80.0</td>\n",
       "      <td>0.0</td>\n",
       "      <td>0.0</td>\n",
       "      <td>443520.0</td>\n",
       "    </tr>\n",
       "    <tr>\n",
       "      <th>3</th>\n",
       "      <td>2019-12-05</td>\n",
       "      <td>原子怪獸</td>\n",
       "      <td>2000.0</td>\n",
       "      <td>310g日本銅西</td>\n",
       "      <td>4c/4c</td>\n",
       "      <td>撲克油+壓紋</td>\n",
       "      <td>2收縮</td>\n",
       "      <td>35.2</td>\n",
       "      <td>0</td>\n",
       "      <td>63x88</td>\n",
       "      <td>0x0</td>\n",
       "      <td>0x0</td>\n",
       "      <td>5544.0</td>\n",
       "      <td>0.0</td>\n",
       "      <td>0.0</td>\n",
       "      <td>80.0</td>\n",
       "      <td>0.0</td>\n",
       "      <td>0.0</td>\n",
       "      <td>443520.0</td>\n",
       "    </tr>\n",
       "    <tr>\n",
       "      <th>4</th>\n",
       "      <td>2019-12-05</td>\n",
       "      <td>原子怪獸</td>\n",
       "      <td>4000.0</td>\n",
       "      <td>310g日本銅西</td>\n",
       "      <td>4c/4c</td>\n",
       "      <td>撲克油+壓紋</td>\n",
       "      <td>2收縮</td>\n",
       "      <td>29.2</td>\n",
       "      <td>0</td>\n",
       "      <td>63x88</td>\n",
       "      <td>0x0</td>\n",
       "      <td>0x0</td>\n",
       "      <td>5544.0</td>\n",
       "      <td>0.0</td>\n",
       "      <td>0.0</td>\n",
       "      <td>80.0</td>\n",
       "      <td>0.0</td>\n",
       "      <td>0.0</td>\n",
       "      <td>443520.0</td>\n",
       "    </tr>\n",
       "  </tbody>\n",
       "</table>\n",
       "</div>"
      ],
      "text/plain": [
       "         報價日期   專案名      數量      卡片材質   卡片印刷    卡片加工 卡片收縮  卡片單價  卡片新刀   第1尺寸  \\\n",
       "0  2019-12-17  MOTT   500.0  350g中華寧波  4c/4c  撲克油+壓紋   收縮  58.0     0  63x88   \n",
       "1  2019-12-05  原子怪獸  1000.0  310g日本銅西  4c/4c  撲克油+壓紋  2收縮  39.0     0  63x88   \n",
       "2  2019-12-05  原子怪獸  1500.0  310g日本銅西  4c/4c  撲克油+壓紋  2收縮  37.0     0  63x88   \n",
       "3  2019-12-05  原子怪獸  2000.0  310g日本銅西  4c/4c  撲克油+壓紋  2收縮  35.2     0  63x88   \n",
       "4  2019-12-05  原子怪獸  4000.0  310g日本銅西  4c/4c  撲克油+壓紋  2收縮  29.2     0  63x88   \n",
       "\n",
       "  第2尺寸 第3尺寸  第1尺寸面積  第2尺寸面積  第3尺寸面積  第1數量  第2數量  第3數量     總使用面積  \n",
       "0  0x0  0x0  5544.0     0.0     0.0  40.0   0.0   0.0  221760.0  \n",
       "1  0x0  0x0  5544.0     0.0     0.0  80.0   0.0   0.0  443520.0  \n",
       "2  0x0  0x0  5544.0     0.0     0.0  80.0   0.0   0.0  443520.0  \n",
       "3  0x0  0x0  5544.0     0.0     0.0  80.0   0.0   0.0  443520.0  \n",
       "4  0x0  0x0  5544.0     0.0     0.0  80.0   0.0   0.0  443520.0  "
      ]
     },
     "execution_count": 13,
     "metadata": {},
     "output_type": "execute_result"
    }
   ],
   "source": [
    "#合併拆解後資料\n",
    "\n",
    "card = pd.concat([card, card_in], 1)\n",
    "card = pd.concat([card, card_inn], 1)\n",
    "del card_in, card_inn\n",
    "card = card.drop(columns=['報價廠商', '卡片', '卡片數量'])\n",
    "card.head()"
   ]
  },
  {
   "cell_type": "code",
   "execution_count": 14,
   "metadata": {},
   "outputs": [],
   "source": [
    "#拆解日期\n",
    "import datetime\n",
    "card['報價日期'] = card['報價日期'].apply(lambda x: datetime.datetime.strptime(x, '%Y-%m-%d'))\n",
    "card['報價年份'] = card['報價日期'].apply(lambda x: datetime.datetime.strftime(x, '%Y')).astype('int64')\n",
    "card['報價月份'] = card['報價日期'].apply(lambda x: datetime.datetime.strftime(x, '%m')).astype('int64')\n",
    "card['報價日'] = card['報價日期'].apply(lambda x: datetime.datetime.strftime(x, '%d')).astype('int64')\n",
    "\n",
    "card = card.drop(columns=['報價日期'])"
   ]
  },
  {
   "cell_type": "code",
   "execution_count": 15,
   "metadata": {},
   "outputs": [],
   "source": [
    "#Label encoding\n",
    "\n",
    "label = ['專案名', '卡片材質', '卡片印刷', '卡片加工', '卡片收縮', '第1尺寸', '第2尺寸', '第3尺寸']\n",
    "for x in label:\n",
    "    card[x] = card[x].astype('category').cat.codes"
   ]
  },
  {
   "cell_type": "code",
   "execution_count": 16,
   "metadata": {},
   "outputs": [
    {
     "data": {
      "text/plain": [
       "Index(['專案名', '數量', '卡片材質', '卡片印刷', '卡片加工', '卡片收縮', '卡片單價', '卡片新刀', '第1尺寸',\n",
       "       '第2尺寸', '第3尺寸', '第1尺寸面積', '第2尺寸面積', '第3尺寸面積', '第1數量', '第2數量', '第3數量',\n",
       "       '總使用面積', '報價年份', '報價月份', '報價日'],\n",
       "      dtype='object')"
      ]
     },
     "execution_count": 16,
     "metadata": {},
     "output_type": "execute_result"
    }
   ],
   "source": [
    "card.columns"
   ]
  },
  {
   "cell_type": "code",
   "execution_count": 17,
   "metadata": {},
   "outputs": [
    {
     "data": {
      "text/html": [
       "<div>\n",
       "<style scoped>\n",
       "    .dataframe tbody tr th:only-of-type {\n",
       "        vertical-align: middle;\n",
       "    }\n",
       "\n",
       "    .dataframe tbody tr th {\n",
       "        vertical-align: top;\n",
       "    }\n",
       "\n",
       "    .dataframe thead th {\n",
       "        text-align: right;\n",
       "    }\n",
       "</style>\n",
       "<table border=\"1\" class=\"dataframe\">\n",
       "  <thead>\n",
       "    <tr style=\"text-align: right;\">\n",
       "      <th></th>\n",
       "      <th>專案名</th>\n",
       "      <th>數量</th>\n",
       "      <th>卡片材質</th>\n",
       "      <th>卡片印刷</th>\n",
       "      <th>卡片加工</th>\n",
       "      <th>卡片收縮</th>\n",
       "      <th>卡片新刀</th>\n",
       "      <th>第1尺寸</th>\n",
       "      <th>第2尺寸</th>\n",
       "      <th>第3尺寸</th>\n",
       "      <th>...</th>\n",
       "      <th>第2尺寸面積</th>\n",
       "      <th>第3尺寸面積</th>\n",
       "      <th>第1數量</th>\n",
       "      <th>第2數量</th>\n",
       "      <th>第3數量</th>\n",
       "      <th>總使用面積</th>\n",
       "      <th>報價年份</th>\n",
       "      <th>報價月份</th>\n",
       "      <th>報價日</th>\n",
       "      <th>卡片單價</th>\n",
       "    </tr>\n",
       "  </thead>\n",
       "  <tbody>\n",
       "    <tr>\n",
       "      <th>0</th>\n",
       "      <td>5</td>\n",
       "      <td>500.0</td>\n",
       "      <td>8</td>\n",
       "      <td>0</td>\n",
       "      <td>5</td>\n",
       "      <td>5</td>\n",
       "      <td>0</td>\n",
       "      <td>13</td>\n",
       "      <td>0</td>\n",
       "      <td>0</td>\n",
       "      <td>...</td>\n",
       "      <td>0.0</td>\n",
       "      <td>0.0</td>\n",
       "      <td>40.0</td>\n",
       "      <td>0.0</td>\n",
       "      <td>0.0</td>\n",
       "      <td>221760.0</td>\n",
       "      <td>2019</td>\n",
       "      <td>12</td>\n",
       "      <td>17</td>\n",
       "      <td>58.0</td>\n",
       "    </tr>\n",
       "    <tr>\n",
       "      <th>1</th>\n",
       "      <td>19</td>\n",
       "      <td>1000.0</td>\n",
       "      <td>4</td>\n",
       "      <td>0</td>\n",
       "      <td>5</td>\n",
       "      <td>0</td>\n",
       "      <td>0</td>\n",
       "      <td>13</td>\n",
       "      <td>0</td>\n",
       "      <td>0</td>\n",
       "      <td>...</td>\n",
       "      <td>0.0</td>\n",
       "      <td>0.0</td>\n",
       "      <td>80.0</td>\n",
       "      <td>0.0</td>\n",
       "      <td>0.0</td>\n",
       "      <td>443520.0</td>\n",
       "      <td>2019</td>\n",
       "      <td>12</td>\n",
       "      <td>5</td>\n",
       "      <td>39.0</td>\n",
       "    </tr>\n",
       "    <tr>\n",
       "      <th>2</th>\n",
       "      <td>19</td>\n",
       "      <td>1500.0</td>\n",
       "      <td>4</td>\n",
       "      <td>0</td>\n",
       "      <td>5</td>\n",
       "      <td>0</td>\n",
       "      <td>0</td>\n",
       "      <td>13</td>\n",
       "      <td>0</td>\n",
       "      <td>0</td>\n",
       "      <td>...</td>\n",
       "      <td>0.0</td>\n",
       "      <td>0.0</td>\n",
       "      <td>80.0</td>\n",
       "      <td>0.0</td>\n",
       "      <td>0.0</td>\n",
       "      <td>443520.0</td>\n",
       "      <td>2019</td>\n",
       "      <td>12</td>\n",
       "      <td>5</td>\n",
       "      <td>37.0</td>\n",
       "    </tr>\n",
       "    <tr>\n",
       "      <th>3</th>\n",
       "      <td>19</td>\n",
       "      <td>2000.0</td>\n",
       "      <td>4</td>\n",
       "      <td>0</td>\n",
       "      <td>5</td>\n",
       "      <td>0</td>\n",
       "      <td>0</td>\n",
       "      <td>13</td>\n",
       "      <td>0</td>\n",
       "      <td>0</td>\n",
       "      <td>...</td>\n",
       "      <td>0.0</td>\n",
       "      <td>0.0</td>\n",
       "      <td>80.0</td>\n",
       "      <td>0.0</td>\n",
       "      <td>0.0</td>\n",
       "      <td>443520.0</td>\n",
       "      <td>2019</td>\n",
       "      <td>12</td>\n",
       "      <td>5</td>\n",
       "      <td>35.2</td>\n",
       "    </tr>\n",
       "    <tr>\n",
       "      <th>4</th>\n",
       "      <td>19</td>\n",
       "      <td>4000.0</td>\n",
       "      <td>4</td>\n",
       "      <td>0</td>\n",
       "      <td>5</td>\n",
       "      <td>0</td>\n",
       "      <td>0</td>\n",
       "      <td>13</td>\n",
       "      <td>0</td>\n",
       "      <td>0</td>\n",
       "      <td>...</td>\n",
       "      <td>0.0</td>\n",
       "      <td>0.0</td>\n",
       "      <td>80.0</td>\n",
       "      <td>0.0</td>\n",
       "      <td>0.0</td>\n",
       "      <td>443520.0</td>\n",
       "      <td>2019</td>\n",
       "      <td>12</td>\n",
       "      <td>5</td>\n",
       "      <td>29.2</td>\n",
       "    </tr>\n",
       "  </tbody>\n",
       "</table>\n",
       "<p>5 rows × 21 columns</p>\n",
       "</div>"
      ],
      "text/plain": [
       "   專案名      數量  卡片材質  卡片印刷  卡片加工  卡片收縮  卡片新刀  第1尺寸  第2尺寸  第3尺寸  ...  第2尺寸面積  \\\n",
       "0    5   500.0     8     0     5     5     0    13     0     0  ...     0.0   \n",
       "1   19  1000.0     4     0     5     0     0    13     0     0  ...     0.0   \n",
       "2   19  1500.0     4     0     5     0     0    13     0     0  ...     0.0   \n",
       "3   19  2000.0     4     0     5     0     0    13     0     0  ...     0.0   \n",
       "4   19  4000.0     4     0     5     0     0    13     0     0  ...     0.0   \n",
       "\n",
       "   第3尺寸面積  第1數量  第2數量  第3數量     總使用面積  報價年份  報價月份  報價日  卡片單價  \n",
       "0     0.0  40.0   0.0   0.0  221760.0  2019    12   17  58.0  \n",
       "1     0.0  80.0   0.0   0.0  443520.0  2019    12    5  39.0  \n",
       "2     0.0  80.0   0.0   0.0  443520.0  2019    12    5  37.0  \n",
       "3     0.0  80.0   0.0   0.0  443520.0  2019    12    5  35.2  \n",
       "4     0.0  80.0   0.0   0.0  443520.0  2019    12    5  29.2  \n",
       "\n",
       "[5 rows x 21 columns]"
      ]
     },
     "execution_count": 17,
     "metadata": {},
     "output_type": "execute_result"
    }
   ],
   "source": [
    "'''\n",
    "本次執行還在同年份不使用年份欄位\n",
    "'''\n",
    "card = card[['專案名', '數量', '卡片材質', '卡片印刷', '卡片加工', '卡片收縮', '卡片新刀', '第1尺寸',\n",
    "       '第2尺寸', '第3尺寸', '第1尺寸面積', '第2尺寸面積', '第3尺寸面積', '第1數量', '第2數量', '第3數量',\n",
    "       '總使用面積', '報價年份', '報價月份', '報價日', '卡片單價']]\n",
    "card.head()"
   ]
  },
  {
   "cell_type": "markdown",
   "metadata": {},
   "source": [
    "# 預測"
   ]
  },
  {
   "cell_type": "code",
   "execution_count": 18,
   "metadata": {},
   "outputs": [],
   "source": [
    "'''\n",
    "改動 預測目標\n",
    "'''\n",
    "target = card[card['卡片單價'].isnull()]\n",
    "card = card.dropna()"
   ]
  },
  {
   "cell_type": "code",
   "execution_count": 19,
   "metadata": {},
   "outputs": [],
   "source": [
    "from sklearn.ensemble import RandomForestRegressor, GradientBoostingRegressor\n",
    "from xgboost import XGBRegressor\n",
    "from lightgbm import LGBMRegressor\n",
    "from sklearn.model_selection import cross_val_score, GridSearchCV"
   ]
  },
  {
   "cell_type": "markdown",
   "metadata": {},
   "source": [
    "### RandomForestRegression"
   ]
  },
  {
   "cell_type": "code",
   "execution_count": 20,
   "metadata": {},
   "outputs": [
    {
     "data": {
      "text/plain": [
       "0.6806184631383281"
      ]
     },
     "execution_count": 20,
     "metadata": {},
     "output_type": "execute_result"
    }
   ],
   "source": [
    "rfModel = RandomForestRegressor()\n",
    "rfModel.fit(card.iloc[:, : -1], card.iloc[:, -1])\n",
    "cross_val_score(rfModel, card.iloc[:, :-1], card.iloc[:, -1], cv=5).mean()"
   ]
  },
  {
   "cell_type": "code",
   "execution_count": 21,
   "metadata": {},
   "outputs": [
    {
     "data": {
      "text/plain": [
       "array([93.066, 52.2  ])"
      ]
     },
     "execution_count": 21,
     "metadata": {},
     "output_type": "execute_result"
    }
   ],
   "source": [
    "submit_rf = rfModel.predict(target.iloc[:, :-1])\n",
    "submit_rf"
   ]
  },
  {
   "cell_type": "markdown",
   "metadata": {},
   "source": [
    "### GradientBoostingRegression"
   ]
  },
  {
   "cell_type": "code",
   "execution_count": 22,
   "metadata": {},
   "outputs": [
    {
     "data": {
      "text/plain": [
       "0.7283661875070909"
      ]
     },
     "execution_count": 22,
     "metadata": {},
     "output_type": "execute_result"
    }
   ],
   "source": [
    "gbModel = GradientBoostingRegressor()\n",
    "gbModel.fit(card.iloc[:, :-1], card.iloc[:, -1])\n",
    "cross_val_score(gbModel, card.iloc[:, :-1], card.iloc[:, -1], cv=5).mean()"
   ]
  },
  {
   "cell_type": "code",
   "execution_count": 23,
   "metadata": {},
   "outputs": [
    {
     "data": {
      "text/plain": [
       "array([110.01250884,  49.92310242])"
      ]
     },
     "execution_count": 23,
     "metadata": {},
     "output_type": "execute_result"
    }
   ],
   "source": [
    "submit_gb = gbModel.predict(target.iloc[:, :-1])\n",
    "submit_gb"
   ]
  },
  {
   "cell_type": "markdown",
   "metadata": {},
   "source": [
    "### XGB"
   ]
  },
  {
   "cell_type": "code",
   "execution_count": 24,
   "metadata": {},
   "outputs": [
    {
     "name": "stdout",
     "output_type": "stream",
     "text": [
      "[00:49:49] WARNING: src/objective/regression_obj.cu:152: reg:linear is now deprecated in favor of reg:squarederror.\n",
      "[00:49:49] WARNING: src/objective/regression_obj.cu:152: reg:linear is now deprecated in favor of reg:squarederror.\n",
      "[00:49:49] WARNING: src/objective/regression_obj.cu:152: reg:linear is now deprecated in favor of reg:squarederror.\n",
      "[00:49:49] WARNING: src/objective/regression_obj.cu:152: reg:linear is now deprecated in favor of reg:squarederror.\n",
      "[00:49:49] WARNING: src/objective/regression_obj.cu:152: reg:linear is now deprecated in favor of reg:squarederror.\n",
      "[00:49:49] WARNING: src/objective/regression_obj.cu:152: reg:linear is now deprecated in favor of reg:squarederror.\n"
     ]
    },
    {
     "data": {
      "text/plain": [
       "0.6982010053264572"
      ]
     },
     "execution_count": 24,
     "metadata": {},
     "output_type": "execute_result"
    }
   ],
   "source": [
    "xgb = XGBRegressor()\n",
    "xgb.fit(card.iloc[:, :-1], card.iloc[:, -1])\n",
    "cross_val_score(xgb, card.iloc[:, :-1], card.iloc[:, -1], cv=5).mean()"
   ]
  },
  {
   "cell_type": "code",
   "execution_count": 25,
   "metadata": {},
   "outputs": [
    {
     "data": {
      "text/plain": [
       "array([107.64093 ,  34.647675], dtype=float32)"
      ]
     },
     "execution_count": 25,
     "metadata": {},
     "output_type": "execute_result"
    }
   ],
   "source": [
    "submit_xgb = xgb.predict(target.iloc[:, :-1])\n",
    "submit_xgb"
   ]
  },
  {
   "cell_type": "markdown",
   "metadata": {},
   "source": [
    "### LightGBM"
   ]
  },
  {
   "cell_type": "code",
   "execution_count": 26,
   "metadata": {},
   "outputs": [
    {
     "data": {
      "text/plain": [
       "-1.8381398032309317"
      ]
     },
     "execution_count": 26,
     "metadata": {},
     "output_type": "execute_result"
    }
   ],
   "source": [
    "lgbm = LGBMRegressor(objective='regression')\n",
    "lgbm.fit(card.iloc[:, :-1], card.iloc[:, -1])\n",
    "cross_val_score(lgbm, card.iloc[:, :-1], card.iloc[:, -1], cv=5).mean()"
   ]
  },
  {
   "cell_type": "code",
   "execution_count": 27,
   "metadata": {},
   "outputs": [
    {
     "data": {
      "text/plain": [
       "array([97.62648978, 82.45246367])"
      ]
     },
     "execution_count": 27,
     "metadata": {},
     "output_type": "execute_result"
    }
   ],
   "source": [
    "submit_lgbm = lgbm.predict(target.iloc[:, :-1])\n",
    "submit_lgbm"
   ]
  },
  {
   "cell_type": "markdown",
   "metadata": {},
   "source": [
    "# Submit"
   ]
  },
  {
   "cell_type": "code",
   "execution_count": 28,
   "metadata": {},
   "outputs": [
    {
     "data": {
      "text/html": [
       "<div>\n",
       "<style scoped>\n",
       "    .dataframe tbody tr th:only-of-type {\n",
       "        vertical-align: middle;\n",
       "    }\n",
       "\n",
       "    .dataframe tbody tr th {\n",
       "        vertical-align: top;\n",
       "    }\n",
       "\n",
       "    .dataframe thead th {\n",
       "        text-align: right;\n",
       "    }\n",
       "</style>\n",
       "<table border=\"1\" class=\"dataframe\">\n",
       "  <thead>\n",
       "    <tr style=\"text-align: right;\">\n",
       "      <th></th>\n",
       "      <th>卡片1預測</th>\n",
       "      <th>卡片2預測</th>\n",
       "    </tr>\n",
       "  </thead>\n",
       "  <tbody>\n",
       "    <tr>\n",
       "      <th>rfModel</th>\n",
       "      <td>93.066000</td>\n",
       "      <td>52.200000</td>\n",
       "    </tr>\n",
       "    <tr>\n",
       "      <th>gbModel</th>\n",
       "      <td>110.012509</td>\n",
       "      <td>49.923102</td>\n",
       "    </tr>\n",
       "    <tr>\n",
       "      <th>xgbModel</th>\n",
       "      <td>107.640930</td>\n",
       "      <td>34.647675</td>\n",
       "    </tr>\n",
       "    <tr>\n",
       "      <th>lgbmModel</th>\n",
       "      <td>97.626490</td>\n",
       "      <td>82.452464</td>\n",
       "    </tr>\n",
       "  </tbody>\n",
       "</table>\n",
       "</div>"
      ],
      "text/plain": [
       "                卡片1預測      卡片2預測\n",
       "rfModel     93.066000  52.200000\n",
       "gbModel    110.012509  49.923102\n",
       "xgbModel   107.640930  34.647675\n",
       "lgbmModel   97.626490  82.452464"
      ]
     },
     "execution_count": 28,
     "metadata": {},
     "output_type": "execute_result"
    }
   ],
   "source": [
    "submit = []\n",
    "submit.append(submit_rf)\n",
    "submit.append(submit_gb)\n",
    "submit.append(submit_xgb)\n",
    "submit.append(submit_lgbm)\n",
    "pd.DataFrame(submit, index=pd.Index(['rfModel', 'gbModel', 'xgbModel', 'lgbmModel']), columns=['卡片1預測', '卡片2預測'])"
   ]
  },
  {
   "cell_type": "markdown",
   "metadata": {},
   "source": [
    "----\n",
    "# Hyperparameter"
   ]
  },
  {
   "cell_type": "code",
   "execution_count": 29,
   "metadata": {},
   "outputs": [
    {
     "name": "stdout",
     "output_type": "stream",
     "text": [
      "Fitting 3 folds for each of 2916 candidates, totalling 8748 fits\n"
     ]
    },
    {
     "name": "stderr",
     "output_type": "stream",
     "text": [
      "[Parallel(n_jobs=-1)]: Using backend LokyBackend with 8 concurrent workers.\n",
      "[Parallel(n_jobs=-1)]: Done  34 tasks      | elapsed:    2.9s\n",
      "[Parallel(n_jobs=-1)]: Done 322 tasks      | elapsed:    6.0s\n",
      "[Parallel(n_jobs=-1)]: Done 822 tasks      | elapsed:   10.8s\n",
      "[Parallel(n_jobs=-1)]: Done 1522 tasks      | elapsed:   18.7s\n",
      "[Parallel(n_jobs=-1)]: Done 2422 tasks      | elapsed:   29.1s\n",
      "[Parallel(n_jobs=-1)]: Done 3522 tasks      | elapsed:   41.0s\n",
      "[Parallel(n_jobs=-1)]: Done 4822 tasks      | elapsed:   55.3s\n",
      "[Parallel(n_jobs=-1)]: Done 6322 tasks      | elapsed:  1.2min\n",
      "[Parallel(n_jobs=-1)]: Done 8022 tasks      | elapsed:  1.5min\n"
     ]
    },
    {
     "name": "stdout",
     "output_type": "stream",
     "text": [
      "Best Accuracy : 0.8614367681476202\n",
      "Using {'learning_rate': 0.3, 'max_depth': 6, 'min_samples_leaf': 1, 'min_samples_split': 5, 'n_estimators': 100, 'subsample': 1.0, 'tol': 0.1}\n"
     ]
    },
    {
     "name": "stderr",
     "output_type": "stream",
     "text": [
      "[Parallel(n_jobs=-1)]: Done 8748 out of 8748 | elapsed:  1.7min finished\n",
      "C:\\Users\\camer\\Anaconda3\\lib\\site-packages\\sklearn\\model_selection\\_search.py:813: DeprecationWarning: The default of the `iid` parameter will change from True to False in version 0.22 and will be removed in 0.24. This will change numeric results when test-set sizes are unequal.\n",
      "  DeprecationWarning)\n"
     ]
    }
   ],
   "source": [
    "param_grid = {'learning_rate':[0.1, 0.3, 0.5],\n",
    "              'n_estimators':[100, 200, 300],\n",
    "              'subsample':[1.0, 0.5, 0.3, 0.1],\n",
    "              'min_samples_split':[2, 5, 10],\n",
    "              'min_samples_leaf':[1, 2, 4],\n",
    "              'max_depth':[3, 6, 8],\n",
    "              'tol':[0.01, 0.05, 0.1]}\n",
    "gridsearch = GridSearchCV(gbModel, param_grid, n_jobs=-1, verbose=1)\n",
    "grid_result = gridsearch.fit(card.iloc[:, :-1], card.iloc[:, -1])\n",
    "\n",
    "print('Best Accuracy : {}\\nUsing {}'.format(grid_result.best_score_, grid_result.best_params_))"
   ]
  },
  {
   "cell_type": "code",
   "execution_count": 30,
   "metadata": {},
   "outputs": [
    {
     "data": {
      "text/plain": [
       "0.686525215382599"
      ]
     },
     "execution_count": 30,
     "metadata": {},
     "output_type": "execute_result"
    }
   ],
   "source": [
    "hyper_gbModel = GradientBoostingRegressor(learning_rate=0.3,\n",
    "                                          max_depth=6,\n",
    "                                          min_samples_leaf=1,\n",
    "                                          min_samples_split=5,\n",
    "                                          n_estimators=100,\n",
    "                                          subsample=1.0, tol=0.05)\n",
    "hyper_gbModel.fit(card.iloc[:, :-1], card.iloc[:, -1])\n",
    "cross_val_score(hyper_gbModel, card.iloc[:, :-1], card.iloc[:, -1], cv=5).mean()"
   ]
  },
  {
   "cell_type": "code",
   "execution_count": 31,
   "metadata": {},
   "outputs": [
    {
     "data": {
      "text/plain": [
       "array([86.54834865, 75.11298277])"
      ]
     },
     "execution_count": 31,
     "metadata": {},
     "output_type": "execute_result"
    }
   ],
   "source": [
    "submit_hyper_gbModel = hyper_gbModel.predict(target.iloc[:, :-1])\n",
    "submit_hyper_gbModel"
   ]
  },
  {
   "cell_type": "code",
   "execution_count": null,
   "metadata": {},
   "outputs": [],
   "source": []
  },
  {
   "cell_type": "code",
   "execution_count": 32,
   "metadata": {},
   "outputs": [
    {
     "name": "stdout",
     "output_type": "stream",
     "text": [
      "Fitting 5 folds for each of 405 candidates, totalling 2025 fits\n"
     ]
    },
    {
     "name": "stderr",
     "output_type": "stream",
     "text": [
      "[Parallel(n_jobs=-1)]: Using backend LokyBackend with 8 concurrent workers.\n",
      "[Parallel(n_jobs=-1)]: Done  88 tasks      | elapsed:    1.1s\n",
      "[Parallel(n_jobs=-1)]: Done 688 tasks      | elapsed:    8.8s\n",
      "[Parallel(n_jobs=-1)]: Done 1688 tasks      | elapsed:   22.2s\n"
     ]
    },
    {
     "name": "stdout",
     "output_type": "stream",
     "text": [
      "[00:52:29] WARNING: src/objective/regression_obj.cu:152: reg:linear is now deprecated in favor of reg:squarederror.\n",
      "Best Accuracy : 0.7473846193966023\n",
      "Using {'gamma': 1.5, 'max_depth': 3, 'min_child_weight': 1, 'n_estimators': 300, 'subsample': 0.6}\n"
     ]
    },
    {
     "name": "stderr",
     "output_type": "stream",
     "text": [
      "[Parallel(n_jobs=-1)]: Done 2025 out of 2025 | elapsed:   26.9s finished\n",
      "C:\\Users\\camer\\Anaconda3\\lib\\site-packages\\sklearn\\model_selection\\_search.py:813: DeprecationWarning: The default of the `iid` parameter will change from True to False in version 0.22 and will be removed in 0.24. This will change numeric results when test-set sizes are unequal.\n",
      "  DeprecationWarning)\n"
     ]
    }
   ],
   "source": [
    "param_grid = {'n_estimators':[100, 200, 300],\n",
    "              'min_child_weight':[1, 5, 10],\n",
    "             'gamma':[0.5, 1, 1.5, 2, 5],\n",
    "             'subsample':[0.6, 0.8, 1.0],\n",
    "             'max_depth':[3, 4, 5]}\n",
    "gridsearch = GridSearchCV(xgb, param_grid, cv=5, n_jobs=-1, verbose=1)\n",
    "grid_result = gridsearch.fit(card.iloc[:, :-1], card.iloc[:, -1])\n",
    "print('Best Accuracy : {}\\nUsing {}'.format(grid_result.best_score_, grid_result.best_params_) )"
   ]
  },
  {
   "cell_type": "code",
   "execution_count": 33,
   "metadata": {},
   "outputs": [
    {
     "name": "stdout",
     "output_type": "stream",
     "text": [
      "[00:52:51] WARNING: src/objective/regression_obj.cu:152: reg:linear is now deprecated in favor of reg:squarederror.\n",
      "[00:52:51] WARNING: src/objective/regression_obj.cu:152: reg:linear is now deprecated in favor of reg:squarederror.\n",
      "[00:52:51] WARNING: src/objective/regression_obj.cu:152: reg:linear is now deprecated in favor of reg:squarederror.\n",
      "[00:52:51] WARNING: src/objective/regression_obj.cu:152: reg:linear is now deprecated in favor of reg:squarederror.\n",
      "[00:52:51] WARNING: src/objective/regression_obj.cu:152: reg:linear is now deprecated in favor of reg:squarederror.\n",
      "[00:52:52] WARNING: src/objective/regression_obj.cu:152: reg:linear is now deprecated in favor of reg:squarederror.\n"
     ]
    },
    {
     "data": {
      "text/plain": [
       "0.7465694787582813"
      ]
     },
     "execution_count": 33,
     "metadata": {},
     "output_type": "execute_result"
    }
   ],
   "source": [
    "hyper_xgb = XGBRegressor(gamma=1.5,\n",
    "                         max_depth=3,\n",
    "                         min_child_weight=1,\n",
    "                         n_estimators=300,\n",
    "                         subsample=0.6)\n",
    "hyper_xgb.fit(card.iloc[:, :-1], card.iloc[:, -1])\n",
    "cross_val_score(hyper_xgb, card.iloc[:, :-1], card.iloc[:, -1], cv=5).mean()"
   ]
  },
  {
   "cell_type": "code",
   "execution_count": 34,
   "metadata": {},
   "outputs": [
    {
     "data": {
      "text/plain": [
       "array([113.597824,  44.827076], dtype=float32)"
      ]
     },
     "execution_count": 34,
     "metadata": {},
     "output_type": "execute_result"
    }
   ],
   "source": [
    "submit_hyper_xgb = hyper_xgb.predict(target.iloc[:, :-1])\n",
    "submit_hyper_xgb"
   ]
  },
  {
   "cell_type": "code",
   "execution_count": 35,
   "metadata": {},
   "outputs": [
    {
     "data": {
      "text/html": [
       "<div>\n",
       "<style scoped>\n",
       "    .dataframe tbody tr th:only-of-type {\n",
       "        vertical-align: middle;\n",
       "    }\n",
       "\n",
       "    .dataframe tbody tr th {\n",
       "        vertical-align: top;\n",
       "    }\n",
       "\n",
       "    .dataframe thead th {\n",
       "        text-align: right;\n",
       "    }\n",
       "</style>\n",
       "<table border=\"1\" class=\"dataframe\">\n",
       "  <thead>\n",
       "    <tr style=\"text-align: right;\">\n",
       "      <th></th>\n",
       "      <th>卡片1預測</th>\n",
       "      <th>卡片2預測</th>\n",
       "    </tr>\n",
       "  </thead>\n",
       "  <tbody>\n",
       "    <tr>\n",
       "      <th>rfModel</th>\n",
       "      <td>93.066000</td>\n",
       "      <td>52.200000</td>\n",
       "    </tr>\n",
       "    <tr>\n",
       "      <th>gbModel</th>\n",
       "      <td>110.012509</td>\n",
       "      <td>49.923102</td>\n",
       "    </tr>\n",
       "    <tr>\n",
       "      <th>xgbModel</th>\n",
       "      <td>107.640930</td>\n",
       "      <td>34.647675</td>\n",
       "    </tr>\n",
       "    <tr>\n",
       "      <th>lgbmModel</th>\n",
       "      <td>97.626490</td>\n",
       "      <td>82.452464</td>\n",
       "    </tr>\n",
       "    <tr>\n",
       "      <th>hyper_gbModel</th>\n",
       "      <td>86.548349</td>\n",
       "      <td>75.112983</td>\n",
       "    </tr>\n",
       "    <tr>\n",
       "      <th>hyper_xgbModel</th>\n",
       "      <td>113.597824</td>\n",
       "      <td>44.827076</td>\n",
       "    </tr>\n",
       "  </tbody>\n",
       "</table>\n",
       "</div>"
      ],
      "text/plain": [
       "                     卡片1預測      卡片2預測\n",
       "rfModel          93.066000  52.200000\n",
       "gbModel         110.012509  49.923102\n",
       "xgbModel        107.640930  34.647675\n",
       "lgbmModel        97.626490  82.452464\n",
       "hyper_gbModel    86.548349  75.112983\n",
       "hyper_xgbModel  113.597824  44.827076"
      ]
     },
     "execution_count": 35,
     "metadata": {},
     "output_type": "execute_result"
    }
   ],
   "source": [
    "submit.append(submit_hyper_gbModel)\n",
    "submit.append(submit_hyper_xgb)\n",
    "pd.DataFrame(submit, index=pd.Index(['rfModel', 'gbModel', 'xgbModel', 'lgbmModel', 'hyper_gbModel', 'hyper_xgbModel']),\n",
    "             columns=['卡片1預測', '卡片2預測'])"
   ]
  },
  {
   "cell_type": "code",
   "execution_count": 44,
   "metadata": {},
   "outputs": [
    {
     "name": "stdout",
     "output_type": "stream",
     "text": [
      "[01:00:04] WARNING: src/objective/regression_obj.cu:152: reg:linear is now deprecated in favor of reg:squarederror.\n",
      "[01:00:04] WARNING: src/objective/regression_obj.cu:152: reg:linear is now deprecated in favor of reg:squarederror.\n",
      "[01:00:04] WARNING: src/objective/regression_obj.cu:152: reg:linear is now deprecated in favor of reg:squarederror.\n",
      "[01:00:04] WARNING: src/objective/regression_obj.cu:152: reg:linear is now deprecated in favor of reg:squarederror.\n",
      "[01:00:04] WARNING: src/objective/regression_obj.cu:152: reg:linear is now deprecated in favor of reg:squarederror.\n",
      "[01:00:04] WARNING: src/objective/regression_obj.cu:152: reg:linear is now deprecated in favor of reg:squarederror.\n",
      "[01:00:04] WARNING: src/objective/regression_obj.cu:152: reg:linear is now deprecated in favor of reg:squarederror.\n",
      "[01:00:04] WARNING: src/objective/regression_obj.cu:152: reg:linear is now deprecated in favor of reg:squarederror.\n",
      "[01:00:04] WARNING: src/objective/regression_obj.cu:152: reg:linear is now deprecated in favor of reg:squarederror.\n",
      "[01:00:04] WARNING: src/objective/regression_obj.cu:152: reg:linear is now deprecated in favor of reg:squarederror.\n"
     ]
    }
   ],
   "source": [
    "#追加信心水準\n",
    "level = [cross_val_score(rfModel, card.iloc[:, :-1], card.iloc[:, -1], cv=5).mean(),\n",
    "         cross_val_score(gbModel, card.iloc[:, :-1], card.iloc[:, -1], cv=5).mean(),\n",
    "         cross_val_score(xgb, card.iloc[:, :-1], card.iloc[:, -1], cv=5).mean(),\n",
    "         cross_val_score(lgbm, card.iloc[:, :-1], card.iloc[:, -1], cv=5).mean(),\n",
    "         cross_val_score(hyper_gbModel, card.iloc[:, :-1], card.iloc[:, -1], cv=5).mean(),\n",
    "         cross_val_score(hyper_xgb, card.iloc[:, :-1], card.iloc[:, -1], cv=5).mean()]\n",
    "\n",
    "df_level = pd.DataFrame(level, columns=['預測信心'])\n",
    "df = pd.DataFrame(submit, columns=['卡片1預測', '卡片2預測'])\n",
    "df = pd.concat([df, df_level], 1)\n",
    "df.index=pd.Index(['rfModel', 'gbModel', 'xgbModel', 'lgbmModel', 'hyper_gbModel', 'hyper_xgbModel'])"
   ]
  },
  {
   "cell_type": "code",
   "execution_count": 45,
   "metadata": {},
   "outputs": [
    {
     "data": {
      "text/html": [
       "<div>\n",
       "<style scoped>\n",
       "    .dataframe tbody tr th:only-of-type {\n",
       "        vertical-align: middle;\n",
       "    }\n",
       "\n",
       "    .dataframe tbody tr th {\n",
       "        vertical-align: top;\n",
       "    }\n",
       "\n",
       "    .dataframe thead th {\n",
       "        text-align: right;\n",
       "    }\n",
       "</style>\n",
       "<table border=\"1\" class=\"dataframe\">\n",
       "  <thead>\n",
       "    <tr style=\"text-align: right;\">\n",
       "      <th></th>\n",
       "      <th>卡片1預測</th>\n",
       "      <th>卡片2預測</th>\n",
       "      <th>預測信心</th>\n",
       "    </tr>\n",
       "  </thead>\n",
       "  <tbody>\n",
       "    <tr>\n",
       "      <th>rfModel</th>\n",
       "      <td>93.066000</td>\n",
       "      <td>52.200000</td>\n",
       "      <td>0.709036</td>\n",
       "    </tr>\n",
       "    <tr>\n",
       "      <th>gbModel</th>\n",
       "      <td>110.012509</td>\n",
       "      <td>49.923102</td>\n",
       "      <td>0.731059</td>\n",
       "    </tr>\n",
       "    <tr>\n",
       "      <th>xgbModel</th>\n",
       "      <td>107.640930</td>\n",
       "      <td>34.647675</td>\n",
       "      <td>0.698201</td>\n",
       "    </tr>\n",
       "    <tr>\n",
       "      <th>lgbmModel</th>\n",
       "      <td>97.626490</td>\n",
       "      <td>82.452464</td>\n",
       "      <td>-1.838140</td>\n",
       "    </tr>\n",
       "    <tr>\n",
       "      <th>hyper_gbModel</th>\n",
       "      <td>86.548349</td>\n",
       "      <td>75.112983</td>\n",
       "      <td>0.666446</td>\n",
       "    </tr>\n",
       "    <tr>\n",
       "      <th>hyper_xgbModel</th>\n",
       "      <td>113.597824</td>\n",
       "      <td>44.827076</td>\n",
       "      <td>0.746569</td>\n",
       "    </tr>\n",
       "  </tbody>\n",
       "</table>\n",
       "</div>"
      ],
      "text/plain": [
       "                     卡片1預測      卡片2預測      預測信心\n",
       "rfModel          93.066000  52.200000  0.709036\n",
       "gbModel         110.012509  49.923102  0.731059\n",
       "xgbModel        107.640930  34.647675  0.698201\n",
       "lgbmModel        97.626490  82.452464 -1.838140\n",
       "hyper_gbModel    86.548349  75.112983  0.666446\n",
       "hyper_xgbModel  113.597824  44.827076  0.746569"
      ]
     },
     "execution_count": 45,
     "metadata": {},
     "output_type": "execute_result"
    }
   ],
   "source": [
    "df"
   ]
  },
  {
   "cell_type": "code",
   "execution_count": null,
   "metadata": {},
   "outputs": [],
   "source": []
  }
 ],
 "metadata": {
  "kernelspec": {
   "display_name": "Python 3",
   "language": "python",
   "name": "python3"
  },
  "language_info": {
   "codemirror_mode": {
    "name": "ipython",
    "version": 3
   },
   "file_extension": ".py",
   "mimetype": "text/x-python",
   "name": "python",
   "nbconvert_exporter": "python",
   "pygments_lexer": "ipython3",
   "version": "3.7.3"
  }
 },
 "nbformat": 4,
 "nbformat_minor": 2
}
