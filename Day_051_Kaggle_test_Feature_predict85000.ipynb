{
 "cells": [
  {
   "cell_type": "markdown",
   "metadata": {},
   "source": [
    "# Enron Fraud Dataset 安隆公司詐欺案資料集\n",
    "data from [3rd_ML100Marathon Midterm](https://www.kaggle.com/c/3rd-ml100marathon-midterm/overview \"Kaggle\").  \n",
    "+ **This is not offical data.**  \n",
    "Just a exam from the lesson whitch I joined. And **I'm still doing this project.**  \n",
    "\n",
    "----"
   ]
  },
  {
   "cell_type": "markdown",
   "metadata": {},
   "source": [
    "# Loading Data"
   ]
  },
  {
   "cell_type": "code",
   "execution_count": 131,
   "metadata": {},
   "outputs": [],
   "source": [
    "import numpy as np\n",
    "import pandas as pd\n",
    "import matplotlib.pyplot as plt\n",
    "import seaborn as sns\n",
    "%matplotlib inline\n",
    "import warnings\n",
    "warnings.filterwarnings('ignore')\n",
    "warnings.filterwarnings('ignore', category=DeprecationWarning)\n",
    "warnings.filterwarnings('ignore', category=FutureWarning)\n",
    "\n",
    "train = pd.read_csv('./3rd-ml100marathon-midterm/train_data.csv')\n",
    "test = pd.read_csv('./3rd-ml100marathon-midterm/test_features.csv')"
   ]
  },
  {
   "cell_type": "code",
   "execution_count": 132,
   "metadata": {},
   "outputs": [
    {
     "name": "stdout",
     "output_type": "stream",
     "text": [
      "(113, 22)\n"
     ]
    },
    {
     "data": {
      "text/html": [
       "<div>\n",
       "<style scoped>\n",
       "    .dataframe tbody tr th:only-of-type {\n",
       "        vertical-align: middle;\n",
       "    }\n",
       "\n",
       "    .dataframe tbody tr th {\n",
       "        vertical-align: top;\n",
       "    }\n",
       "\n",
       "    .dataframe thead th {\n",
       "        text-align: right;\n",
       "    }\n",
       "</style>\n",
       "<table border=\"1\" class=\"dataframe\">\n",
       "  <thead>\n",
       "    <tr style=\"text-align: right;\">\n",
       "      <th></th>\n",
       "      <th>name</th>\n",
       "      <th>bonus</th>\n",
       "      <th>deferral_payments</th>\n",
       "      <th>deferred_income</th>\n",
       "      <th>director_fees</th>\n",
       "      <th>email_address</th>\n",
       "      <th>exercised_stock_options</th>\n",
       "      <th>expenses</th>\n",
       "      <th>from_messages</th>\n",
       "      <th>from_poi_to_this_person</th>\n",
       "      <th>...</th>\n",
       "      <th>long_term_incentive</th>\n",
       "      <th>other</th>\n",
       "      <th>poi</th>\n",
       "      <th>restricted_stock</th>\n",
       "      <th>restricted_stock_deferred</th>\n",
       "      <th>salary</th>\n",
       "      <th>shared_receipt_with_poi</th>\n",
       "      <th>to_messages</th>\n",
       "      <th>total_payments</th>\n",
       "      <th>total_stock_value</th>\n",
       "    </tr>\n",
       "  </thead>\n",
       "  <tbody>\n",
       "    <tr>\n",
       "      <th>0</th>\n",
       "      <td>RICE KENNETH D</td>\n",
       "      <td>1750000.0</td>\n",
       "      <td>NaN</td>\n",
       "      <td>-3504386.0</td>\n",
       "      <td>NaN</td>\n",
       "      <td>ken.rice@enron.com</td>\n",
       "      <td>19794175.0</td>\n",
       "      <td>46950.0</td>\n",
       "      <td>18.0</td>\n",
       "      <td>42.0</td>\n",
       "      <td>...</td>\n",
       "      <td>1617011.0</td>\n",
       "      <td>174839.0</td>\n",
       "      <td>True</td>\n",
       "      <td>2748364.0</td>\n",
       "      <td>NaN</td>\n",
       "      <td>420636.0</td>\n",
       "      <td>864.0</td>\n",
       "      <td>905.0</td>\n",
       "      <td>505050.0</td>\n",
       "      <td>22542539.0</td>\n",
       "    </tr>\n",
       "    <tr>\n",
       "      <th>1</th>\n",
       "      <td>SKILLING JEFFREY K</td>\n",
       "      <td>5600000.0</td>\n",
       "      <td>NaN</td>\n",
       "      <td>NaN</td>\n",
       "      <td>NaN</td>\n",
       "      <td>jeff.skilling@enron.com</td>\n",
       "      <td>19250000.0</td>\n",
       "      <td>29336.0</td>\n",
       "      <td>108.0</td>\n",
       "      <td>88.0</td>\n",
       "      <td>...</td>\n",
       "      <td>1920000.0</td>\n",
       "      <td>22122.0</td>\n",
       "      <td>True</td>\n",
       "      <td>6843672.0</td>\n",
       "      <td>NaN</td>\n",
       "      <td>1111258.0</td>\n",
       "      <td>2042.0</td>\n",
       "      <td>3627.0</td>\n",
       "      <td>8682716.0</td>\n",
       "      <td>26093672.0</td>\n",
       "    </tr>\n",
       "    <tr>\n",
       "      <th>2</th>\n",
       "      <td>SHELBY REX</td>\n",
       "      <td>200000.0</td>\n",
       "      <td>NaN</td>\n",
       "      <td>-4167.0</td>\n",
       "      <td>NaN</td>\n",
       "      <td>rex.shelby@enron.com</td>\n",
       "      <td>1624396.0</td>\n",
       "      <td>22884.0</td>\n",
       "      <td>39.0</td>\n",
       "      <td>13.0</td>\n",
       "      <td>...</td>\n",
       "      <td>NaN</td>\n",
       "      <td>1573324.0</td>\n",
       "      <td>True</td>\n",
       "      <td>869220.0</td>\n",
       "      <td>NaN</td>\n",
       "      <td>211844.0</td>\n",
       "      <td>91.0</td>\n",
       "      <td>225.0</td>\n",
       "      <td>2003885.0</td>\n",
       "      <td>2493616.0</td>\n",
       "    </tr>\n",
       "    <tr>\n",
       "      <th>3</th>\n",
       "      <td>KOPPER MICHAEL J</td>\n",
       "      <td>800000.0</td>\n",
       "      <td>NaN</td>\n",
       "      <td>NaN</td>\n",
       "      <td>NaN</td>\n",
       "      <td>michael.kopper@enron.com</td>\n",
       "      <td>NaN</td>\n",
       "      <td>118134.0</td>\n",
       "      <td>NaN</td>\n",
       "      <td>NaN</td>\n",
       "      <td>...</td>\n",
       "      <td>602671.0</td>\n",
       "      <td>907502.0</td>\n",
       "      <td>True</td>\n",
       "      <td>985032.0</td>\n",
       "      <td>NaN</td>\n",
       "      <td>224305.0</td>\n",
       "      <td>NaN</td>\n",
       "      <td>NaN</td>\n",
       "      <td>2652612.0</td>\n",
       "      <td>985032.0</td>\n",
       "    </tr>\n",
       "    <tr>\n",
       "      <th>4</th>\n",
       "      <td>CALGER CHRISTOPHER F</td>\n",
       "      <td>1250000.0</td>\n",
       "      <td>NaN</td>\n",
       "      <td>-262500.0</td>\n",
       "      <td>NaN</td>\n",
       "      <td>christopher.calger@enron.com</td>\n",
       "      <td>NaN</td>\n",
       "      <td>35818.0</td>\n",
       "      <td>144.0</td>\n",
       "      <td>199.0</td>\n",
       "      <td>...</td>\n",
       "      <td>375304.0</td>\n",
       "      <td>486.0</td>\n",
       "      <td>True</td>\n",
       "      <td>126027.0</td>\n",
       "      <td>NaN</td>\n",
       "      <td>240189.0</td>\n",
       "      <td>2188.0</td>\n",
       "      <td>2598.0</td>\n",
       "      <td>1639297.0</td>\n",
       "      <td>126027.0</td>\n",
       "    </tr>\n",
       "  </tbody>\n",
       "</table>\n",
       "<p>5 rows × 22 columns</p>\n",
       "</div>"
      ],
      "text/plain": [
       "                   name      bonus  deferral_payments  deferred_income  \\\n",
       "0        RICE KENNETH D  1750000.0                NaN       -3504386.0   \n",
       "1    SKILLING JEFFREY K  5600000.0                NaN              NaN   \n",
       "2            SHELBY REX   200000.0                NaN          -4167.0   \n",
       "3      KOPPER MICHAEL J   800000.0                NaN              NaN   \n",
       "4  CALGER CHRISTOPHER F  1250000.0                NaN        -262500.0   \n",
       "\n",
       "   director_fees                 email_address  exercised_stock_options  \\\n",
       "0            NaN            ken.rice@enron.com               19794175.0   \n",
       "1            NaN       jeff.skilling@enron.com               19250000.0   \n",
       "2            NaN          rex.shelby@enron.com                1624396.0   \n",
       "3            NaN      michael.kopper@enron.com                      NaN   \n",
       "4            NaN  christopher.calger@enron.com                      NaN   \n",
       "\n",
       "   expenses  from_messages  from_poi_to_this_person  ...  long_term_incentive  \\\n",
       "0   46950.0           18.0                     42.0  ...            1617011.0   \n",
       "1   29336.0          108.0                     88.0  ...            1920000.0   \n",
       "2   22884.0           39.0                     13.0  ...                  NaN   \n",
       "3  118134.0            NaN                      NaN  ...             602671.0   \n",
       "4   35818.0          144.0                    199.0  ...             375304.0   \n",
       "\n",
       "       other   poi  restricted_stock  restricted_stock_deferred     salary  \\\n",
       "0   174839.0  True         2748364.0                        NaN   420636.0   \n",
       "1    22122.0  True         6843672.0                        NaN  1111258.0   \n",
       "2  1573324.0  True          869220.0                        NaN   211844.0   \n",
       "3   907502.0  True          985032.0                        NaN   224305.0   \n",
       "4      486.0  True          126027.0                        NaN   240189.0   \n",
       "\n",
       "   shared_receipt_with_poi  to_messages  total_payments  total_stock_value  \n",
       "0                    864.0        905.0        505050.0         22542539.0  \n",
       "1                   2042.0       3627.0       8682716.0         26093672.0  \n",
       "2                     91.0        225.0       2003885.0          2493616.0  \n",
       "3                      NaN          NaN       2652612.0           985032.0  \n",
       "4                   2188.0       2598.0       1639297.0           126027.0  \n",
       "\n",
       "[5 rows x 22 columns]"
      ]
     },
     "execution_count": 132,
     "metadata": {},
     "output_type": "execute_result"
    }
   ],
   "source": [
    "print(train.shape)\n",
    "train.head()"
   ]
  },
  {
   "cell_type": "code",
   "execution_count": 133,
   "metadata": {},
   "outputs": [
    {
     "name": "stdout",
     "output_type": "stream",
     "text": [
      "<class 'pandas.core.frame.DataFrame'>\n",
      "RangeIndex: 113 entries, 0 to 112\n",
      "Data columns (total 22 columns):\n",
      "name                         113 non-null object\n",
      "bonus                        61 non-null float64\n",
      "deferral_payments            28 non-null float64\n",
      "deferred_income              34 non-null float64\n",
      "director_fees                13 non-null float64\n",
      "email_address                83 non-null object\n",
      "exercised_stock_options      81 non-null float64\n",
      "expenses                     73 non-null float64\n",
      "from_messages                65 non-null float64\n",
      "from_poi_to_this_person      65 non-null float64\n",
      "from_this_person_to_poi      65 non-null float64\n",
      "loan_advances                2 non-null float64\n",
      "long_term_incentive          49 non-null float64\n",
      "other                        69 non-null float64\n",
      "poi                          113 non-null bool\n",
      "restricted_stock             82 non-null float64\n",
      "restricted_stock_deferred    10 non-null float64\n",
      "salary                       73 non-null float64\n",
      "shared_receipt_with_poi      65 non-null float64\n",
      "to_messages                  65 non-null float64\n",
      "total_payments               96 non-null float64\n",
      "total_stock_value            98 non-null float64\n",
      "dtypes: bool(1), float64(19), object(2)\n",
      "memory usage: 18.7+ KB\n"
     ]
    }
   ],
   "source": [
    "train.info()"
   ]
  },
  {
   "cell_type": "code",
   "execution_count": 134,
   "metadata": {},
   "outputs": [
    {
     "name": "stdout",
     "output_type": "stream",
     "text": [
      "<class 'pandas.core.frame.DataFrame'>\n",
      "RangeIndex: 33 entries, 0 to 32\n",
      "Data columns (total 21 columns):\n",
      "name                         33 non-null object\n",
      "bonus                        21 non-null float64\n",
      "deferral_payments            11 non-null float64\n",
      "deferred_income              15 non-null float64\n",
      "director_fees                4 non-null float64\n",
      "email_address                28 non-null object\n",
      "exercised_stock_options      21 non-null float64\n",
      "expenses                     22 non-null float64\n",
      "from_messages                21 non-null float64\n",
      "from_poi_to_this_person      21 non-null float64\n",
      "from_this_person_to_poi      21 non-null float64\n",
      "loan_advances                2 non-null float64\n",
      "long_term_incentive          17 non-null float64\n",
      "other                        24 non-null float64\n",
      "restricted_stock             28 non-null float64\n",
      "restricted_stock_deferred    8 non-null float64\n",
      "salary                       22 non-null float64\n",
      "shared_receipt_with_poi      21 non-null float64\n",
      "to_messages                  21 non-null float64\n",
      "total_payments               29 non-null float64\n",
      "total_stock_value            28 non-null float64\n",
      "dtypes: float64(19), object(2)\n",
      "memory usage: 5.5+ KB\n"
     ]
    }
   ],
   "source": [
    "test.info()"
   ]
  },
  {
   "cell_type": "code",
   "execution_count": 135,
   "metadata": {},
   "outputs": [],
   "source": [
    "data = pd.concat([train, test], 0)\n",
    "data.reset_index(inplace=True, drop=True)"
   ]
  },
  {
   "cell_type": "code",
   "execution_count": 136,
   "metadata": {},
   "outputs": [
    {
     "data": {
      "text/html": [
       "<div>\n",
       "<style scoped>\n",
       "    .dataframe tbody tr th:only-of-type {\n",
       "        vertical-align: middle;\n",
       "    }\n",
       "\n",
       "    .dataframe tbody tr th {\n",
       "        vertical-align: top;\n",
       "    }\n",
       "\n",
       "    .dataframe thead th {\n",
       "        text-align: right;\n",
       "    }\n",
       "</style>\n",
       "<table border=\"1\" class=\"dataframe\">\n",
       "  <thead>\n",
       "    <tr style=\"text-align: right;\">\n",
       "      <th></th>\n",
       "      <th>0</th>\n",
       "      <th>1</th>\n",
       "      <th>2</th>\n",
       "      <th>3</th>\n",
       "      <th>4</th>\n",
       "    </tr>\n",
       "  </thead>\n",
       "  <tbody>\n",
       "    <tr>\n",
       "      <th>name</th>\n",
       "      <td>RICE KENNETH D</td>\n",
       "      <td>SKILLING JEFFREY K</td>\n",
       "      <td>SHELBY REX</td>\n",
       "      <td>KOPPER MICHAEL J</td>\n",
       "      <td>CALGER CHRISTOPHER F</td>\n",
       "    </tr>\n",
       "    <tr>\n",
       "      <th>email_address</th>\n",
       "      <td>ken.rice@enron.com</td>\n",
       "      <td>jeff.skilling@enron.com</td>\n",
       "      <td>rex.shelby@enron.com</td>\n",
       "      <td>michael.kopper@enron.com</td>\n",
       "      <td>christopher.calger@enron.com</td>\n",
       "    </tr>\n",
       "    <tr>\n",
       "      <th>deferral_payments</th>\n",
       "      <td>NaN</td>\n",
       "      <td>NaN</td>\n",
       "      <td>NaN</td>\n",
       "      <td>NaN</td>\n",
       "      <td>NaN</td>\n",
       "    </tr>\n",
       "    <tr>\n",
       "      <th>deferred_income</th>\n",
       "      <td>-3.50439e+06</td>\n",
       "      <td>NaN</td>\n",
       "      <td>-4167</td>\n",
       "      <td>NaN</td>\n",
       "      <td>-262500</td>\n",
       "    </tr>\n",
       "    <tr>\n",
       "      <th>director_fees</th>\n",
       "      <td>NaN</td>\n",
       "      <td>NaN</td>\n",
       "      <td>NaN</td>\n",
       "      <td>NaN</td>\n",
       "      <td>NaN</td>\n",
       "    </tr>\n",
       "    <tr>\n",
       "      <th>loan_advances</th>\n",
       "      <td>NaN</td>\n",
       "      <td>NaN</td>\n",
       "      <td>NaN</td>\n",
       "      <td>NaN</td>\n",
       "      <td>NaN</td>\n",
       "    </tr>\n",
       "    <tr>\n",
       "      <th>long_term_incentive</th>\n",
       "      <td>1.61701e+06</td>\n",
       "      <td>1.92e+06</td>\n",
       "      <td>NaN</td>\n",
       "      <td>602671</td>\n",
       "      <td>375304</td>\n",
       "    </tr>\n",
       "    <tr>\n",
       "      <th>salary</th>\n",
       "      <td>420636</td>\n",
       "      <td>1.11126e+06</td>\n",
       "      <td>211844</td>\n",
       "      <td>224305</td>\n",
       "      <td>240189</td>\n",
       "    </tr>\n",
       "    <tr>\n",
       "      <th>bonus</th>\n",
       "      <td>1.75e+06</td>\n",
       "      <td>5.6e+06</td>\n",
       "      <td>200000</td>\n",
       "      <td>800000</td>\n",
       "      <td>1.25e+06</td>\n",
       "    </tr>\n",
       "    <tr>\n",
       "      <th>expenses</th>\n",
       "      <td>46950</td>\n",
       "      <td>29336</td>\n",
       "      <td>22884</td>\n",
       "      <td>118134</td>\n",
       "      <td>35818</td>\n",
       "    </tr>\n",
       "    <tr>\n",
       "      <th>other</th>\n",
       "      <td>174839</td>\n",
       "      <td>22122</td>\n",
       "      <td>1.57332e+06</td>\n",
       "      <td>907502</td>\n",
       "      <td>486</td>\n",
       "    </tr>\n",
       "    <tr>\n",
       "      <th>total_payments</th>\n",
       "      <td>505050</td>\n",
       "      <td>8.68272e+06</td>\n",
       "      <td>2.00388e+06</td>\n",
       "      <td>2.65261e+06</td>\n",
       "      <td>1.6393e+06</td>\n",
       "    </tr>\n",
       "    <tr>\n",
       "      <th>restricted_stock</th>\n",
       "      <td>2.74836e+06</td>\n",
       "      <td>6.84367e+06</td>\n",
       "      <td>869220</td>\n",
       "      <td>985032</td>\n",
       "      <td>126027</td>\n",
       "    </tr>\n",
       "    <tr>\n",
       "      <th>restricted_stock_deferred</th>\n",
       "      <td>NaN</td>\n",
       "      <td>NaN</td>\n",
       "      <td>NaN</td>\n",
       "      <td>NaN</td>\n",
       "      <td>NaN</td>\n",
       "    </tr>\n",
       "    <tr>\n",
       "      <th>exercised_stock_options</th>\n",
       "      <td>1.97942e+07</td>\n",
       "      <td>1.925e+07</td>\n",
       "      <td>1.6244e+06</td>\n",
       "      <td>NaN</td>\n",
       "      <td>NaN</td>\n",
       "    </tr>\n",
       "    <tr>\n",
       "      <th>total_stock_value</th>\n",
       "      <td>2.25425e+07</td>\n",
       "      <td>2.60937e+07</td>\n",
       "      <td>2.49362e+06</td>\n",
       "      <td>985032</td>\n",
       "      <td>126027</td>\n",
       "    </tr>\n",
       "    <tr>\n",
       "      <th>from_messages</th>\n",
       "      <td>18</td>\n",
       "      <td>108</td>\n",
       "      <td>39</td>\n",
       "      <td>NaN</td>\n",
       "      <td>144</td>\n",
       "    </tr>\n",
       "    <tr>\n",
       "      <th>to_messages</th>\n",
       "      <td>905</td>\n",
       "      <td>3627</td>\n",
       "      <td>225</td>\n",
       "      <td>NaN</td>\n",
       "      <td>2598</td>\n",
       "    </tr>\n",
       "    <tr>\n",
       "      <th>from_poi_to_this_person</th>\n",
       "      <td>42</td>\n",
       "      <td>88</td>\n",
       "      <td>13</td>\n",
       "      <td>NaN</td>\n",
       "      <td>199</td>\n",
       "    </tr>\n",
       "    <tr>\n",
       "      <th>from_this_person_to_poi</th>\n",
       "      <td>4</td>\n",
       "      <td>30</td>\n",
       "      <td>14</td>\n",
       "      <td>NaN</td>\n",
       "      <td>25</td>\n",
       "    </tr>\n",
       "    <tr>\n",
       "      <th>shared_receipt_with_poi</th>\n",
       "      <td>864</td>\n",
       "      <td>2042</td>\n",
       "      <td>91</td>\n",
       "      <td>NaN</td>\n",
       "      <td>2188</td>\n",
       "    </tr>\n",
       "    <tr>\n",
       "      <th>poi</th>\n",
       "      <td>True</td>\n",
       "      <td>True</td>\n",
       "      <td>True</td>\n",
       "      <td>True</td>\n",
       "      <td>True</td>\n",
       "    </tr>\n",
       "  </tbody>\n",
       "</table>\n",
       "</div>"
      ],
      "text/plain": [
       "                                            0                        1  \\\n",
       "name                           RICE KENNETH D       SKILLING JEFFREY K   \n",
       "email_address              ken.rice@enron.com  jeff.skilling@enron.com   \n",
       "deferral_payments                         NaN                      NaN   \n",
       "deferred_income                  -3.50439e+06                      NaN   \n",
       "director_fees                             NaN                      NaN   \n",
       "loan_advances                             NaN                      NaN   \n",
       "long_term_incentive               1.61701e+06                 1.92e+06   \n",
       "salary                                 420636              1.11126e+06   \n",
       "bonus                                1.75e+06                  5.6e+06   \n",
       "expenses                                46950                    29336   \n",
       "other                                  174839                    22122   \n",
       "total_payments                         505050              8.68272e+06   \n",
       "restricted_stock                  2.74836e+06              6.84367e+06   \n",
       "restricted_stock_deferred                 NaN                      NaN   \n",
       "exercised_stock_options           1.97942e+07                1.925e+07   \n",
       "total_stock_value                 2.25425e+07              2.60937e+07   \n",
       "from_messages                              18                      108   \n",
       "to_messages                               905                     3627   \n",
       "from_poi_to_this_person                    42                       88   \n",
       "from_this_person_to_poi                     4                       30   \n",
       "shared_receipt_with_poi                   864                     2042   \n",
       "poi                                      True                     True   \n",
       "\n",
       "                                              2                         3  \\\n",
       "name                                 SHELBY REX          KOPPER MICHAEL J   \n",
       "email_address              rex.shelby@enron.com  michael.kopper@enron.com   \n",
       "deferral_payments                           NaN                       NaN   \n",
       "deferred_income                           -4167                       NaN   \n",
       "director_fees                               NaN                       NaN   \n",
       "loan_advances                               NaN                       NaN   \n",
       "long_term_incentive                         NaN                    602671   \n",
       "salary                                   211844                    224305   \n",
       "bonus                                    200000                    800000   \n",
       "expenses                                  22884                    118134   \n",
       "other                               1.57332e+06                    907502   \n",
       "total_payments                      2.00388e+06               2.65261e+06   \n",
       "restricted_stock                         869220                    985032   \n",
       "restricted_stock_deferred                   NaN                       NaN   \n",
       "exercised_stock_options              1.6244e+06                       NaN   \n",
       "total_stock_value                   2.49362e+06                    985032   \n",
       "from_messages                                39                       NaN   \n",
       "to_messages                                 225                       NaN   \n",
       "from_poi_to_this_person                      13                       NaN   \n",
       "from_this_person_to_poi                      14                       NaN   \n",
       "shared_receipt_with_poi                      91                       NaN   \n",
       "poi                                        True                      True   \n",
       "\n",
       "                                                      4  \n",
       "name                               CALGER CHRISTOPHER F  \n",
       "email_address              christopher.calger@enron.com  \n",
       "deferral_payments                                   NaN  \n",
       "deferred_income                                 -262500  \n",
       "director_fees                                       NaN  \n",
       "loan_advances                                       NaN  \n",
       "long_term_incentive                              375304  \n",
       "salary                                           240189  \n",
       "bonus                                          1.25e+06  \n",
       "expenses                                          35818  \n",
       "other                                               486  \n",
       "total_payments                               1.6393e+06  \n",
       "restricted_stock                                 126027  \n",
       "restricted_stock_deferred                           NaN  \n",
       "exercised_stock_options                             NaN  \n",
       "total_stock_value                                126027  \n",
       "from_messages                                       144  \n",
       "to_messages                                        2598  \n",
       "from_poi_to_this_person                             199  \n",
       "from_this_person_to_poi                              25  \n",
       "shared_receipt_with_poi                            2188  \n",
       "poi                                                True  "
      ]
     },
     "execution_count": 136,
     "metadata": {},
     "output_type": "execute_result"
    }
   ],
   "source": [
    "#fix the columns sequence\n",
    "data = data[['name', 'email_address',\n",
    "             'deferral_payments', 'deferred_income', 'director_fees', 'loan_advances', 'long_term_incentive',\n",
    "             'salary', 'bonus', 'expenses', 'other', 'total_payments',\n",
    "             'restricted_stock', 'restricted_stock_deferred', 'exercised_stock_options', 'total_stock_value',\n",
    "             'from_messages', 'to_messages', 'from_poi_to_this_person', 'from_this_person_to_poi','shared_receipt_with_poi', 'poi']]\n",
    "data.head().T"
   ]
  },
  {
   "cell_type": "markdown",
   "metadata": {},
   "source": [
    "# Preprocessing and EDA"
   ]
  },
  {
   "cell_type": "markdown",
   "metadata": {},
   "source": [
    "First look at our target.  \n",
    "`poi`"
   ]
  },
  {
   "cell_type": "code",
   "execution_count": 137,
   "metadata": {},
   "outputs": [
    {
     "data": {
      "text/plain": [
       "Text(True, 15, '11.504%')"
      ]
     },
     "execution_count": 137,
     "metadata": {},
     "output_type": "execute_result"
    },
    {
     "data": {
      "image/png": "[encoded data removed]",
      "text/plain": [
       "<Figure size 432x288 with 1 Axes>"
      ]
     },
     "metadata": {
      "needs_background": "light"
     },
     "output_type": "display_data"
    }
   ],
   "source": [
    "sns.countplot(data['poi'])\n",
    "total = data['poi'].notnull().sum()\n",
    "a = (data['poi'] ==False).sum()\n",
    "b = (data['poi'] ==True).sum()\n",
    "plt.title('Poi', fontsize=20)\n",
    "plt.text(False, 90, '{:.3%}'.format(a/total), ha='center', fontsize=10)\n",
    "plt.text(True, 15, '{:.3%}'.format(b/total), ha='center', fontsize=10)"
   ]
  },
  {
   "cell_type": "markdown",
   "metadata": {},
   "source": [
    "----"
   ]
  },
  {
   "cell_type": "markdown",
   "metadata": {},
   "source": [
    "### Data check\n",
    "Payment : `total_payments` = `bonus`+`deferral_payments`+`(deferred_income)`+`director_fees`+`expenses` +`long_term_incentive`+`other`+`salary`+`loan_advances`  \n",
    "\n",
    "Stock : `total_stock_value` = `restricted_stock`+`(restricted_stock_deferred)`+`exercised_stock_options`\n",
    "\n",
    "Independence : `name`,`from_messages`,`from_poi_to_this_person`,`from_this_person_to_poi`,`shared_receipt_with_poi`,`to_messages`  \n",
    "`email_address`,`poi`"
   ]
  },
  {
   "cell_type": "markdown",
   "metadata": {},
   "source": [
    "###### `Payment`"
   ]
  },
  {
   "cell_type": "code",
   "execution_count": 138,
   "metadata": {},
   "outputs": [],
   "source": [
    "#I believe the NaN here is because of there's no money activity, so fill with 0.\n",
    "clearn_col = ['deferral_payments', 'deferred_income', 'director_fees', 'loan_advances', 'long_term_incentive',\n",
    "             'salary', 'bonus', 'expenses', 'other', 'total_payments']\n",
    "for col in clearn_col:\n",
    "    data[col] = data[col].fillna(0)"
   ]
  },
  {
   "cell_type": "code",
   "execution_count": 139,
   "metadata": {},
   "outputs": [
    {
     "data": {
      "text/html": [
       "<div>\n",
       "<style scoped>\n",
       "    .dataframe tbody tr th:only-of-type {\n",
       "        vertical-align: middle;\n",
       "    }\n",
       "\n",
       "    .dataframe tbody tr th {\n",
       "        vertical-align: top;\n",
       "    }\n",
       "\n",
       "    .dataframe thead th {\n",
       "        text-align: right;\n",
       "    }\n",
       "</style>\n",
       "<table border=\"1\" class=\"dataframe\">\n",
       "  <thead>\n",
       "    <tr style=\"text-align: right;\">\n",
       "      <th></th>\n",
       "      <th>50</th>\n",
       "      <th>139</th>\n",
       "    </tr>\n",
       "  </thead>\n",
       "  <tbody>\n",
       "    <tr>\n",
       "      <th>name</th>\n",
       "      <td>BELFER ROBERT</td>\n",
       "      <td>BHATNAGAR SANJAY</td>\n",
       "    </tr>\n",
       "    <tr>\n",
       "      <th>email_address</th>\n",
       "      <td>NaN</td>\n",
       "      <td>sanjay.bhatnagar@enron.com</td>\n",
       "    </tr>\n",
       "    <tr>\n",
       "      <th>deferral_payments</th>\n",
       "      <td>-102500</td>\n",
       "      <td>0</td>\n",
       "    </tr>\n",
       "    <tr>\n",
       "      <th>deferred_income</th>\n",
       "      <td>0</td>\n",
       "      <td>0</td>\n",
       "    </tr>\n",
       "    <tr>\n",
       "      <th>director_fees</th>\n",
       "      <td>3285</td>\n",
       "      <td>137864</td>\n",
       "    </tr>\n",
       "    <tr>\n",
       "      <th>loan_advances</th>\n",
       "      <td>0</td>\n",
       "      <td>0</td>\n",
       "    </tr>\n",
       "    <tr>\n",
       "      <th>long_term_incentive</th>\n",
       "      <td>0</td>\n",
       "      <td>0</td>\n",
       "    </tr>\n",
       "    <tr>\n",
       "      <th>salary</th>\n",
       "      <td>0</td>\n",
       "      <td>0</td>\n",
       "    </tr>\n",
       "    <tr>\n",
       "      <th>bonus</th>\n",
       "      <td>0</td>\n",
       "      <td>0</td>\n",
       "    </tr>\n",
       "    <tr>\n",
       "      <th>expenses</th>\n",
       "      <td>0</td>\n",
       "      <td>0</td>\n",
       "    </tr>\n",
       "    <tr>\n",
       "      <th>other</th>\n",
       "      <td>0</td>\n",
       "      <td>137864</td>\n",
       "    </tr>\n",
       "    <tr>\n",
       "      <th>total_payments</th>\n",
       "      <td>102500</td>\n",
       "      <td>1.54563e+07</td>\n",
       "    </tr>\n",
       "    <tr>\n",
       "      <th>restricted_stock</th>\n",
       "      <td>NaN</td>\n",
       "      <td>-2.60449e+06</td>\n",
       "    </tr>\n",
       "    <tr>\n",
       "      <th>restricted_stock_deferred</th>\n",
       "      <td>44093</td>\n",
       "      <td>1.54563e+07</td>\n",
       "    </tr>\n",
       "    <tr>\n",
       "      <th>exercised_stock_options</th>\n",
       "      <td>3285</td>\n",
       "      <td>2.60449e+06</td>\n",
       "    </tr>\n",
       "    <tr>\n",
       "      <th>total_stock_value</th>\n",
       "      <td>-44093</td>\n",
       "      <td>NaN</td>\n",
       "    </tr>\n",
       "    <tr>\n",
       "      <th>from_messages</th>\n",
       "      <td>NaN</td>\n",
       "      <td>29</td>\n",
       "    </tr>\n",
       "    <tr>\n",
       "      <th>to_messages</th>\n",
       "      <td>NaN</td>\n",
       "      <td>523</td>\n",
       "    </tr>\n",
       "    <tr>\n",
       "      <th>from_poi_to_this_person</th>\n",
       "      <td>NaN</td>\n",
       "      <td>0</td>\n",
       "    </tr>\n",
       "    <tr>\n",
       "      <th>from_this_person_to_poi</th>\n",
       "      <td>NaN</td>\n",
       "      <td>1</td>\n",
       "    </tr>\n",
       "    <tr>\n",
       "      <th>shared_receipt_with_poi</th>\n",
       "      <td>NaN</td>\n",
       "      <td>463</td>\n",
       "    </tr>\n",
       "    <tr>\n",
       "      <th>poi</th>\n",
       "      <td>False</td>\n",
       "      <td>NaN</td>\n",
       "    </tr>\n",
       "    <tr>\n",
       "      <th>money_clearn</th>\n",
       "      <td>201715</td>\n",
       "      <td>1.51806e+07</td>\n",
       "    </tr>\n",
       "  </tbody>\n",
       "</table>\n",
       "</div>"
      ],
      "text/plain": [
       "                                     50                          139\n",
       "name                       BELFER ROBERT            BHATNAGAR SANJAY\n",
       "email_address                        NaN  sanjay.bhatnagar@enron.com\n",
       "deferral_payments                -102500                           0\n",
       "deferred_income                        0                           0\n",
       "director_fees                       3285                      137864\n",
       "loan_advances                          0                           0\n",
       "long_term_incentive                    0                           0\n",
       "salary                                 0                           0\n",
       "bonus                                  0                           0\n",
       "expenses                               0                           0\n",
       "other                                  0                      137864\n",
       "total_payments                    102500                 1.54563e+07\n",
       "restricted_stock                     NaN                -2.60449e+06\n",
       "restricted_stock_deferred          44093                 1.54563e+07\n",
       "exercised_stock_options             3285                 2.60449e+06\n",
       "total_stock_value                 -44093                         NaN\n",
       "from_messages                        NaN                          29\n",
       "to_messages                          NaN                         523\n",
       "from_poi_to_this_person              NaN                           0\n",
       "from_this_person_to_poi              NaN                           1\n",
       "shared_receipt_with_poi              NaN                         463\n",
       "poi                                False                         NaN\n",
       "money_clearn                      201715                 1.51806e+07"
      ]
     },
     "execution_count": 139,
     "metadata": {},
     "output_type": "execute_result"
    }
   ],
   "source": [
    "data['money_clearn'] = data['total_payments']-(data['bonus']+data['deferral_payments']+data['deferred_income']+data['director_fees']\\\n",
    "+data['expenses']+data['long_term_incentive']+data['other']+data['salary']+data['loan_advances'])\n",
    "\n",
    "data[data['money_clearn'] !=0].T"
   ]
  },
  {
   "cell_type": "markdown",
   "metadata": {},
   "source": [
    "I had checked raw data and found wrong input with the data[50].  \n",
    "On the other hand, data[139] doesn't have raw data but it's eazy to fix the value to be correct data."
   ]
  },
  {
   "cell_type": "code",
   "execution_count": 140,
   "metadata": {},
   "outputs": [
    {
     "data": {
      "text/html": [
       "<div>\n",
       "<style scoped>\n",
       "    .dataframe tbody tr th:only-of-type {\n",
       "        vertical-align: middle;\n",
       "    }\n",
       "\n",
       "    .dataframe tbody tr th {\n",
       "        vertical-align: top;\n",
       "    }\n",
       "\n",
       "    .dataframe thead th {\n",
       "        text-align: right;\n",
       "    }\n",
       "</style>\n",
       "<table border=\"1\" class=\"dataframe\">\n",
       "  <thead>\n",
       "    <tr style=\"text-align: right;\">\n",
       "      <th></th>\n",
       "      <th>name</th>\n",
       "      <th>email_address</th>\n",
       "      <th>deferral_payments</th>\n",
       "      <th>deferred_income</th>\n",
       "      <th>director_fees</th>\n",
       "      <th>loan_advances</th>\n",
       "      <th>long_term_incentive</th>\n",
       "      <th>salary</th>\n",
       "      <th>bonus</th>\n",
       "      <th>expenses</th>\n",
       "      <th>...</th>\n",
       "      <th>restricted_stock_deferred</th>\n",
       "      <th>exercised_stock_options</th>\n",
       "      <th>total_stock_value</th>\n",
       "      <th>from_messages</th>\n",
       "      <th>to_messages</th>\n",
       "      <th>from_poi_to_this_person</th>\n",
       "      <th>from_this_person_to_poi</th>\n",
       "      <th>shared_receipt_with_poi</th>\n",
       "      <th>poi</th>\n",
       "      <th>money_clearn</th>\n",
       "    </tr>\n",
       "  </thead>\n",
       "  <tbody>\n",
       "  </tbody>\n",
       "</table>\n",
       "<p>0 rows × 23 columns</p>\n",
       "</div>"
      ],
      "text/plain": [
       "Empty DataFrame\n",
       "Columns: [name, email_address, deferral_payments, deferred_income, director_fees, loan_advances, long_term_incentive, salary, bonus, expenses, other, total_payments, restricted_stock, restricted_stock_deferred, exercised_stock_options, total_stock_value, from_messages, to_messages, from_poi_to_this_person, from_this_person_to_poi, shared_receipt_with_poi, poi, money_clearn]\n",
       "Index: []\n",
       "\n",
       "[0 rows x 23 columns]"
      ]
     },
     "execution_count": 140,
     "metadata": {},
     "output_type": "execute_result"
    }
   ],
   "source": [
    "#Fix the data[50].\n",
    "data['deferred_income'][50] = -102500\n",
    "data['deferral_payments'][50] = 0\n",
    "data['director_fees'][50] = 102500\n",
    "data['total_payments'][50] = 3285\n",
    "data['exercised_stock_options'][50] = 0\n",
    "data['expenses'][50] = 3285\n",
    "data['restricted_stock'][50] = 44093\n",
    "data['restricted_stock_deferred'][50] = -44093\n",
    "data['total_stock_value'][50] = 0\n",
    "\n",
    "#Fix the data[139]\n",
    "data['total_stock_value'][139] = data['total_payments'][139].copy()\n",
    "data['total_payments'][139] = data['other'][139].copy()\n",
    "data['director_fees'][139] = 0\n",
    "data['restricted_stock_deferred'][139] = data['restricted_stock'][139].copy()\n",
    "data['restricted_stock'][139] = data['exercised_stock_options'][139].copy()\n",
    "data['exercised_stock_options'][139] = data['total_stock_value'][139].copy()\n",
    "\n",
    "# #Check again.\n",
    "data['money_clearn'] = data['total_payments']-(data['bonus']+data['deferral_payments']+data['deferred_income']+data['director_fees']\\\n",
    "+data['expenses']+data['long_term_incentive']+data['other']+data['salary']+data['loan_advances'])\n",
    "data[data['money_clearn'] !=0]"
   ]
  },
  {
   "cell_type": "markdown",
   "metadata": {},
   "source": [
    "----"
   ]
  },
  {
   "cell_type": "markdown",
   "metadata": {},
   "source": [
    "###### `Stock`"
   ]
  },
  {
   "cell_type": "code",
   "execution_count": 141,
   "metadata": {},
   "outputs": [],
   "source": [
    "#The same reason to fill stock category.\n",
    "clearn_col = ['restricted_stock', 'restricted_stock_deferred', 'exercised_stock_options', 'total_stock_value']\n",
    "for col in clearn_col:\n",
    "    data[col] = data[col].fillna(0)"
   ]
  },
  {
   "cell_type": "code",
   "execution_count": 142,
   "metadata": {
    "scrolled": true
   },
   "outputs": [
    {
     "data": {
      "text/html": [
       "<div>\n",
       "<style scoped>\n",
       "    .dataframe tbody tr th:only-of-type {\n",
       "        vertical-align: middle;\n",
       "    }\n",
       "\n",
       "    .dataframe tbody tr th {\n",
       "        vertical-align: top;\n",
       "    }\n",
       "\n",
       "    .dataframe thead th {\n",
       "        text-align: right;\n",
       "    }\n",
       "</style>\n",
       "<table border=\"1\" class=\"dataframe\">\n",
       "  <thead>\n",
       "    <tr style=\"text-align: right;\">\n",
       "      <th></th>\n",
       "      <th>name</th>\n",
       "      <th>email_address</th>\n",
       "      <th>deferral_payments</th>\n",
       "      <th>deferred_income</th>\n",
       "      <th>director_fees</th>\n",
       "      <th>loan_advances</th>\n",
       "      <th>long_term_incentive</th>\n",
       "      <th>salary</th>\n",
       "      <th>bonus</th>\n",
       "      <th>expenses</th>\n",
       "      <th>...</th>\n",
       "      <th>exercised_stock_options</th>\n",
       "      <th>total_stock_value</th>\n",
       "      <th>from_messages</th>\n",
       "      <th>to_messages</th>\n",
       "      <th>from_poi_to_this_person</th>\n",
       "      <th>from_this_person_to_poi</th>\n",
       "      <th>shared_receipt_with_poi</th>\n",
       "      <th>poi</th>\n",
       "      <th>money_clearn</th>\n",
       "      <th>stock_clean</th>\n",
       "    </tr>\n",
       "  </thead>\n",
       "  <tbody>\n",
       "  </tbody>\n",
       "</table>\n",
       "<p>0 rows × 24 columns</p>\n",
       "</div>"
      ],
      "text/plain": [
       "Empty DataFrame\n",
       "Columns: [name, email_address, deferral_payments, deferred_income, director_fees, loan_advances, long_term_incentive, salary, bonus, expenses, other, total_payments, restricted_stock, restricted_stock_deferred, exercised_stock_options, total_stock_value, from_messages, to_messages, from_poi_to_this_person, from_this_person_to_poi, shared_receipt_with_poi, poi, money_clearn, stock_clean]\n",
       "Index: []\n",
       "\n",
       "[0 rows x 24 columns]"
      ]
     },
     "execution_count": 142,
     "metadata": {},
     "output_type": "execute_result"
    }
   ],
   "source": [
    "data['stock_clean'] = data['total_stock_value'] - (data['restricted_stock']+data['restricted_stock_deferred']+data['exercised_stock_options'])\n",
    "data[data['stock_clean'] !=0]"
   ]
  },
  {
   "cell_type": "markdown",
   "metadata": {},
   "source": [
    "----"
   ]
  },
  {
   "cell_type": "markdown",
   "metadata": {},
   "source": [
    "#### `email_address`"
   ]
  },
  {
   "cell_type": "code",
   "execution_count": 143,
   "metadata": {},
   "outputs": [
    {
     "data": {
      "text/html": [
       "<div>\n",
       "<style scoped>\n",
       "    .dataframe tbody tr th:only-of-type {\n",
       "        vertical-align: middle;\n",
       "    }\n",
       "\n",
       "    .dataframe tbody tr th {\n",
       "        vertical-align: top;\n",
       "    }\n",
       "\n",
       "    .dataframe thead th {\n",
       "        text-align: right;\n",
       "    }\n",
       "</style>\n",
       "<table border=\"1\" class=\"dataframe\">\n",
       "  <thead>\n",
       "    <tr style=\"text-align: right;\">\n",
       "      <th></th>\n",
       "      <th>0</th>\n",
       "      <th>1</th>\n",
       "    </tr>\n",
       "  </thead>\n",
       "  <tbody>\n",
       "    <tr>\n",
       "      <th>0</th>\n",
       "      <td>ken.rice</td>\n",
       "      <td>enron.com</td>\n",
       "    </tr>\n",
       "    <tr>\n",
       "      <th>1</th>\n",
       "      <td>jeff.skilling</td>\n",
       "      <td>enron.com</td>\n",
       "    </tr>\n",
       "    <tr>\n",
       "      <th>2</th>\n",
       "      <td>rex.shelby</td>\n",
       "      <td>enron.com</td>\n",
       "    </tr>\n",
       "    <tr>\n",
       "      <th>3</th>\n",
       "      <td>michael.kopper</td>\n",
       "      <td>enron.com</td>\n",
       "    </tr>\n",
       "    <tr>\n",
       "      <th>4</th>\n",
       "      <td>christopher.calger</td>\n",
       "      <td>enron.com</td>\n",
       "    </tr>\n",
       "  </tbody>\n",
       "</table>\n",
       "</div>"
      ],
      "text/plain": [
       "                    0          1\n",
       "0            ken.rice  enron.com\n",
       "1       jeff.skilling  enron.com\n",
       "2          rex.shelby  enron.com\n",
       "3      michael.kopper  enron.com\n",
       "4  christopher.calger  enron.com"
      ]
     },
     "execution_count": 143,
     "metadata": {},
     "output_type": "execute_result"
    }
   ],
   "source": [
    "data['email_address'].str.split('@', expand=True).head()"
   ]
  },
  {
   "cell_type": "code",
   "execution_count": 144,
   "metadata": {},
   "outputs": [
    {
     "data": {
      "text/html": [
       "<div>\n",
       "<style scoped>\n",
       "    .dataframe tbody tr th:only-of-type {\n",
       "        vertical-align: middle;\n",
       "    }\n",
       "\n",
       "    .dataframe tbody tr th {\n",
       "        vertical-align: top;\n",
       "    }\n",
       "\n",
       "    .dataframe thead th {\n",
       "        text-align: right;\n",
       "    }\n",
       "</style>\n",
       "<table border=\"1\" class=\"dataframe\">\n",
       "  <thead>\n",
       "    <tr style=\"text-align: right;\">\n",
       "      <th></th>\n",
       "      <th>0</th>\n",
       "      <th>1</th>\n",
       "      <th>2</th>\n",
       "    </tr>\n",
       "  </thead>\n",
       "  <tbody>\n",
       "    <tr>\n",
       "      <th>0</th>\n",
       "      <td>ken</td>\n",
       "      <td>rice</td>\n",
       "      <td>None</td>\n",
       "    </tr>\n",
       "    <tr>\n",
       "      <th>1</th>\n",
       "      <td>jeff</td>\n",
       "      <td>skilling</td>\n",
       "      <td>None</td>\n",
       "    </tr>\n",
       "    <tr>\n",
       "      <th>2</th>\n",
       "      <td>rex</td>\n",
       "      <td>shelby</td>\n",
       "      <td>None</td>\n",
       "    </tr>\n",
       "    <tr>\n",
       "      <th>3</th>\n",
       "      <td>michael</td>\n",
       "      <td>kopper</td>\n",
       "      <td>None</td>\n",
       "    </tr>\n",
       "    <tr>\n",
       "      <th>4</th>\n",
       "      <td>christopher</td>\n",
       "      <td>calger</td>\n",
       "      <td>None</td>\n",
       "    </tr>\n",
       "  </tbody>\n",
       "</table>\n",
       "</div>"
      ],
      "text/plain": [
       "             0         1     2\n",
       "0          ken      rice  None\n",
       "1         jeff  skilling  None\n",
       "2          rex    shelby  None\n",
       "3      michael    kopper  None\n",
       "4  christopher    calger  None"
      ]
     },
     "execution_count": 144,
     "metadata": {},
     "output_type": "execute_result"
    }
   ],
   "source": [
    "data['email_address'] = data['email_address'].str.split('@', expand=True)[0]\n",
    "data['email_address'].str.split('.', expand=True).head()"
   ]
  },
  {
   "cell_type": "code",
   "execution_count": 145,
   "metadata": {},
   "outputs": [
    {
     "data": {
      "text/plain": [
       "0     78\n",
       "1    110\n",
       "2      3\n",
       "dtype: int64"
      ]
     },
     "execution_count": 145,
     "metadata": {},
     "output_type": "execute_result"
    }
   ],
   "source": [
    "data['email_address'].str.split('.', expand=True).nunique()"
   ]
  },
  {
   "cell_type": "code",
   "execution_count": 146,
   "metadata": {},
   "outputs": [],
   "source": [
    "data['email_address'] = data['email_address'].str.split('.', expand=True)[0]"
   ]
  },
  {
   "cell_type": "code",
   "execution_count": 147,
   "metadata": {},
   "outputs": [],
   "source": [
    "data['email_address'] = data['email_address'].fillna('None')"
   ]
  },
  {
   "cell_type": "code",
   "execution_count": 148,
   "metadata": {},
   "outputs": [
    {
     "data": {
      "text/html": [
       "<style  type=\"text/css\" >\n",
       "    #T_aff6f8e4_f79d_11e9_badd_d8cb8a788e94row0_col0 {\n",
       "            background-color:  #008066;\n",
       "            color:  #f1f1f1;\n",
       "        }    #T_aff6f8e4_f79d_11e9_badd_d8cb8a788e94row0_col1 {\n",
       "            background-color:  #008066;\n",
       "            color:  #f1f1f1;\n",
       "        }    #T_aff6f8e4_f79d_11e9_badd_d8cb8a788e94row0_col2 {\n",
       "            background-color:  #008066;\n",
       "            color:  #f1f1f1;\n",
       "        }    #T_aff6f8e4_f79d_11e9_badd_d8cb8a788e94row0_col3 {\n",
       "            background-color:  #ffff66;\n",
       "            color:  #000000;\n",
       "        }    #T_aff6f8e4_f79d_11e9_badd_d8cb8a788e94row0_col4 {\n",
       "            background-color:  #ffff66;\n",
       "            color:  #000000;\n",
       "        }    #T_aff6f8e4_f79d_11e9_badd_d8cb8a788e94row0_col5 {\n",
       "            background-color:  #008066;\n",
       "            color:  #f1f1f1;\n",
       "        }    #T_aff6f8e4_f79d_11e9_badd_d8cb8a788e94row0_col6 {\n",
       "            background-color:  #008066;\n",
       "            color:  #f1f1f1;\n",
       "        }    #T_aff6f8e4_f79d_11e9_badd_d8cb8a788e94row0_col7 {\n",
       "            background-color:  #008066;\n",
       "            color:  #f1f1f1;\n",
       "        }    #T_aff6f8e4_f79d_11e9_badd_d8cb8a788e94row0_col8 {\n",
       "            background-color:  #008066;\n",
       "            color:  #f1f1f1;\n",
       "        }    #T_aff6f8e4_f79d_11e9_badd_d8cb8a788e94row0_col9 {\n",
       "            background-color:  #008066;\n",
       "            color:  #f1f1f1;\n",
       "        }    #T_aff6f8e4_f79d_11e9_badd_d8cb8a788e94row0_col10 {\n",
       "            background-color:  #ffff66;\n",
       "            color:  #000000;\n",
       "        }    #T_aff6f8e4_f79d_11e9_badd_d8cb8a788e94row0_col11 {\n",
       "            background-color:  #008066;\n",
       "            color:  #f1f1f1;\n",
       "        }    #T_aff6f8e4_f79d_11e9_badd_d8cb8a788e94row0_col12 {\n",
       "            background-color:  #008066;\n",
       "            color:  #f1f1f1;\n",
       "        }    #T_aff6f8e4_f79d_11e9_badd_d8cb8a788e94row0_col13 {\n",
       "            background-color:  #008066;\n",
       "            color:  #f1f1f1;\n",
       "        }    #T_aff6f8e4_f79d_11e9_badd_d8cb8a788e94row0_col14 {\n",
       "            background-color:  #008066;\n",
       "            color:  #f1f1f1;\n",
       "        }    #T_aff6f8e4_f79d_11e9_badd_d8cb8a788e94row0_col15 {\n",
       "            background-color:  #008066;\n",
       "            color:  #f1f1f1;\n",
       "        }    #T_aff6f8e4_f79d_11e9_badd_d8cb8a788e94row0_col16 {\n",
       "            background-color:  #008066;\n",
       "            color:  #f1f1f1;\n",
       "        }    #T_aff6f8e4_f79d_11e9_badd_d8cb8a788e94row0_col17 {\n",
       "            background-color:  #008066;\n",
       "            color:  #f1f1f1;\n",
       "        }    #T_aff6f8e4_f79d_11e9_badd_d8cb8a788e94row0_col18 {\n",
       "            background-color:  #008066;\n",
       "            color:  #f1f1f1;\n",
       "        }    #T_aff6f8e4_f79d_11e9_badd_d8cb8a788e94row0_col19 {\n",
       "            background-color:  #008066;\n",
       "            color:  #f1f1f1;\n",
       "        }    #T_aff6f8e4_f79d_11e9_badd_d8cb8a788e94row0_col20 {\n",
       "            background-color:  #008066;\n",
       "            color:  #f1f1f1;\n",
       "        }    #T_aff6f8e4_f79d_11e9_badd_d8cb8a788e94row0_col21 {\n",
       "            background-color:  #008066;\n",
       "            color:  #f1f1f1;\n",
       "        }    #T_aff6f8e4_f79d_11e9_badd_d8cb8a788e94row0_col22 {\n",
       "            background-color:  #008066;\n",
       "            color:  #f1f1f1;\n",
       "        }    #T_aff6f8e4_f79d_11e9_badd_d8cb8a788e94row0_col23 {\n",
       "            background-color:  #008066;\n",
       "            color:  #f1f1f1;\n",
       "        }    #T_aff6f8e4_f79d_11e9_badd_d8cb8a788e94row0_col24 {\n",
       "            background-color:  #008066;\n",
       "            color:  #f1f1f1;\n",
       "        }    #T_aff6f8e4_f79d_11e9_badd_d8cb8a788e94row0_col25 {\n",
       "            background-color:  #ffff66;\n",
       "            color:  #000000;\n",
       "        }    #T_aff6f8e4_f79d_11e9_badd_d8cb8a788e94row0_col26 {\n",
       "            background-color:  #008066;\n",
       "            color:  #f1f1f1;\n",
       "        }    #T_aff6f8e4_f79d_11e9_badd_d8cb8a788e94row0_col27 {\n",
       "            background-color:  #008066;\n",
       "            color:  #f1f1f1;\n",
       "        }    #T_aff6f8e4_f79d_11e9_badd_d8cb8a788e94row0_col28 {\n",
       "            background-color:  #008066;\n",
       "            color:  #f1f1f1;\n",
       "        }    #T_aff6f8e4_f79d_11e9_badd_d8cb8a788e94row0_col29 {\n",
       "            background-color:  #ffff66;\n",
       "            color:  #000000;\n",
       "        }    #T_aff6f8e4_f79d_11e9_badd_d8cb8a788e94row0_col30 {\n",
       "            background-color:  #008066;\n",
       "            color:  #f1f1f1;\n",
       "        }    #T_aff6f8e4_f79d_11e9_badd_d8cb8a788e94row0_col31 {\n",
       "            background-color:  #008066;\n",
       "            color:  #f1f1f1;\n",
       "        }    #T_aff6f8e4_f79d_11e9_badd_d8cb8a788e94row0_col32 {\n",
       "            background-color:  #008066;\n",
       "            color:  #f1f1f1;\n",
       "        }    #T_aff6f8e4_f79d_11e9_badd_d8cb8a788e94row0_col33 {\n",
       "            background-color:  #008066;\n",
       "            color:  #f1f1f1;\n",
       "        }    #T_aff6f8e4_f79d_11e9_badd_d8cb8a788e94row0_col34 {\n",
       "            background-color:  #ffff66;\n",
       "            color:  #000000;\n",
       "        }    #T_aff6f8e4_f79d_11e9_badd_d8cb8a788e94row0_col35 {\n",
       "            background-color:  #ffff66;\n",
       "            color:  #000000;\n",
       "        }    #T_aff6f8e4_f79d_11e9_badd_d8cb8a788e94row0_col36 {\n",
       "            background-color:  #008066;\n",
       "            color:  #f1f1f1;\n",
       "        }    #T_aff6f8e4_f79d_11e9_badd_d8cb8a788e94row0_col37 {\n",
       "            background-color:  #008066;\n",
       "            color:  #f1f1f1;\n",
       "        }    #T_aff6f8e4_f79d_11e9_badd_d8cb8a788e94row0_col38 {\n",
       "            background-color:  #008066;\n",
       "            color:  #f1f1f1;\n",
       "        }    #T_aff6f8e4_f79d_11e9_badd_d8cb8a788e94row0_col39 {\n",
       "            background-color:  #008066;\n",
       "            color:  #f1f1f1;\n",
       "        }    #T_aff6f8e4_f79d_11e9_badd_d8cb8a788e94row0_col40 {\n",
       "            background-color:  #008066;\n",
       "            color:  #f1f1f1;\n",
       "        }    #T_aff6f8e4_f79d_11e9_badd_d8cb8a788e94row0_col41 {\n",
       "            background-color:  #008066;\n",
       "            color:  #f1f1f1;\n",
       "        }    #T_aff6f8e4_f79d_11e9_badd_d8cb8a788e94row0_col42 {\n",
       "            background-color:  #008066;\n",
       "            color:  #f1f1f1;\n",
       "        }    #T_aff6f8e4_f79d_11e9_badd_d8cb8a788e94row0_col43 {\n",
       "            background-color:  #008066;\n",
       "            color:  #f1f1f1;\n",
       "        }    #T_aff6f8e4_f79d_11e9_badd_d8cb8a788e94row0_col44 {\n",
       "            background-color:  #008066;\n",
       "            color:  #f1f1f1;\n",
       "        }    #T_aff6f8e4_f79d_11e9_badd_d8cb8a788e94row0_col45 {\n",
       "            background-color:  #008066;\n",
       "            color:  #f1f1f1;\n",
       "        }    #T_aff6f8e4_f79d_11e9_badd_d8cb8a788e94row0_col46 {\n",
       "            background-color:  #008066;\n",
       "            color:  #f1f1f1;\n",
       "        }    #T_aff6f8e4_f79d_11e9_badd_d8cb8a788e94row0_col47 {\n",
       "            background-color:  #ffff66;\n",
       "            color:  #000000;\n",
       "        }    #T_aff6f8e4_f79d_11e9_badd_d8cb8a788e94row0_col48 {\n",
       "            background-color:  #008066;\n",
       "            color:  #f1f1f1;\n",
       "        }    #T_aff6f8e4_f79d_11e9_badd_d8cb8a788e94row0_col49 {\n",
       "            background-color:  #008066;\n",
       "            color:  #f1f1f1;\n",
       "        }    #T_aff6f8e4_f79d_11e9_badd_d8cb8a788e94row0_col50 {\n",
       "            background-color:  #ffff66;\n",
       "            color:  #000000;\n",
       "        }    #T_aff6f8e4_f79d_11e9_badd_d8cb8a788e94row0_col51 {\n",
       "            background-color:  #008066;\n",
       "            color:  #f1f1f1;\n",
       "        }    #T_aff6f8e4_f79d_11e9_badd_d8cb8a788e94row0_col52 {\n",
       "            background-color:  #008066;\n",
       "            color:  #f1f1f1;\n",
       "        }    #T_aff6f8e4_f79d_11e9_badd_d8cb8a788e94row0_col53 {\n",
       "            background-color:  #008066;\n",
       "            color:  #f1f1f1;\n",
       "        }    #T_aff6f8e4_f79d_11e9_badd_d8cb8a788e94row0_col54 {\n",
       "            background-color:  #008066;\n",
       "            color:  #f1f1f1;\n",
       "        }    #T_aff6f8e4_f79d_11e9_badd_d8cb8a788e94row0_col55 {\n",
       "            background-color:  #008066;\n",
       "            color:  #f1f1f1;\n",
       "        }    #T_aff6f8e4_f79d_11e9_badd_d8cb8a788e94row0_col56 {\n",
       "            background-color:  #008066;\n",
       "            color:  #f1f1f1;\n",
       "        }    #T_aff6f8e4_f79d_11e9_badd_d8cb8a788e94row0_col57 {\n",
       "            background-color:  #008066;\n",
       "            color:  #f1f1f1;\n",
       "        }    #T_aff6f8e4_f79d_11e9_badd_d8cb8a788e94row0_col58 {\n",
       "            background-color:  #008066;\n",
       "            color:  #f1f1f1;\n",
       "        }    #T_aff6f8e4_f79d_11e9_badd_d8cb8a788e94row0_col59 {\n",
       "            background-color:  #ffff66;\n",
       "            color:  #000000;\n",
       "        }    #T_aff6f8e4_f79d_11e9_badd_d8cb8a788e94row0_col60 {\n",
       "            background-color:  #008066;\n",
       "            color:  #f1f1f1;\n",
       "        }    #T_aff6f8e4_f79d_11e9_badd_d8cb8a788e94row0_col61 {\n",
       "            background-color:  #008066;\n",
       "            color:  #f1f1f1;\n",
       "        }    #T_aff6f8e4_f79d_11e9_badd_d8cb8a788e94row0_col62 {\n",
       "            background-color:  #008066;\n",
       "            color:  #f1f1f1;\n",
       "        }    #T_aff6f8e4_f79d_11e9_badd_d8cb8a788e94row0_col63 {\n",
       "            background-color:  #008066;\n",
       "            color:  #f1f1f1;\n",
       "        }    #T_aff6f8e4_f79d_11e9_badd_d8cb8a788e94row0_col64 {\n",
       "            background-color:  #008066;\n",
       "            color:  #f1f1f1;\n",
       "        }    #T_aff6f8e4_f79d_11e9_badd_d8cb8a788e94row0_col65 {\n",
       "            background-color:  #008066;\n",
       "            color:  #f1f1f1;\n",
       "        }    #T_aff6f8e4_f79d_11e9_badd_d8cb8a788e94row0_col66 {\n",
       "            background-color:  #008066;\n",
       "            color:  #f1f1f1;\n",
       "        }    #T_aff6f8e4_f79d_11e9_badd_d8cb8a788e94row0_col67 {\n",
       "            background-color:  #ffff66;\n",
       "            color:  #000000;\n",
       "        }    #T_aff6f8e4_f79d_11e9_badd_d8cb8a788e94row1_col0 {\n",
       "            background-color:  #ffff66;\n",
       "            color:  #000000;\n",
       "        }    #T_aff6f8e4_f79d_11e9_badd_d8cb8a788e94row1_col1 {\n",
       "            background-color:  #ffff66;\n",
       "            color:  #000000;\n",
       "        }    #T_aff6f8e4_f79d_11e9_badd_d8cb8a788e94row1_col2 {\n",
       "            background-color:  #ffff66;\n",
       "            color:  #000000;\n",
       "        }    #T_aff6f8e4_f79d_11e9_badd_d8cb8a788e94row1_col3 {\n",
       "            background-color:  #008066;\n",
       "            color:  #f1f1f1;\n",
       "        }    #T_aff6f8e4_f79d_11e9_badd_d8cb8a788e94row1_col4 {\n",
       "            background-color:  #008066;\n",
       "            color:  #f1f1f1;\n",
       "        }    #T_aff6f8e4_f79d_11e9_badd_d8cb8a788e94row1_col5 {\n",
       "            background-color:  #ffff66;\n",
       "            color:  #000000;\n",
       "        }    #T_aff6f8e4_f79d_11e9_badd_d8cb8a788e94row1_col6 {\n",
       "            background-color:  #ffff66;\n",
       "            color:  #000000;\n",
       "        }    #T_aff6f8e4_f79d_11e9_badd_d8cb8a788e94row1_col7 {\n",
       "            background-color:  #ffff66;\n",
       "            color:  #000000;\n",
       "        }    #T_aff6f8e4_f79d_11e9_badd_d8cb8a788e94row1_col8 {\n",
       "            background-color:  #ffff66;\n",
       "            color:  #000000;\n",
       "        }    #T_aff6f8e4_f79d_11e9_badd_d8cb8a788e94row1_col9 {\n",
       "            background-color:  #ffff66;\n",
       "            color:  #000000;\n",
       "        }    #T_aff6f8e4_f79d_11e9_badd_d8cb8a788e94row1_col10 {\n",
       "            background-color:  #008066;\n",
       "            color:  #f1f1f1;\n",
       "        }    #T_aff6f8e4_f79d_11e9_badd_d8cb8a788e94row1_col11 {\n",
       "            background-color:  #ffff66;\n",
       "            color:  #000000;\n",
       "        }    #T_aff6f8e4_f79d_11e9_badd_d8cb8a788e94row1_col12 {\n",
       "            background-color:  #ffff66;\n",
       "            color:  #000000;\n",
       "        }    #T_aff6f8e4_f79d_11e9_badd_d8cb8a788e94row1_col13 {\n",
       "            background-color:  #ffff66;\n",
       "            color:  #000000;\n",
       "        }    #T_aff6f8e4_f79d_11e9_badd_d8cb8a788e94row1_col14 {\n",
       "            background-color:  #ffff66;\n",
       "            color:  #000000;\n",
       "        }    #T_aff6f8e4_f79d_11e9_badd_d8cb8a788e94row1_col15 {\n",
       "            background-color:  #ffff66;\n",
       "            color:  #000000;\n",
       "        }    #T_aff6f8e4_f79d_11e9_badd_d8cb8a788e94row1_col16 {\n",
       "            background-color:  #ffff66;\n",
       "            color:  #000000;\n",
       "        }    #T_aff6f8e4_f79d_11e9_badd_d8cb8a788e94row1_col17 {\n",
       "            background-color:  #ffff66;\n",
       "            color:  #000000;\n",
       "        }    #T_aff6f8e4_f79d_11e9_badd_d8cb8a788e94row1_col18 {\n",
       "            background-color:  #ffff66;\n",
       "            color:  #000000;\n",
       "        }    #T_aff6f8e4_f79d_11e9_badd_d8cb8a788e94row1_col19 {\n",
       "            background-color:  #ffff66;\n",
       "            color:  #000000;\n",
       "        }    #T_aff6f8e4_f79d_11e9_badd_d8cb8a788e94row1_col20 {\n",
       "            background-color:  #ffff66;\n",
       "            color:  #000000;\n",
       "        }    #T_aff6f8e4_f79d_11e9_badd_d8cb8a788e94row1_col21 {\n",
       "            background-color:  #ffff66;\n",
       "            color:  #000000;\n",
       "        }    #T_aff6f8e4_f79d_11e9_badd_d8cb8a788e94row1_col22 {\n",
       "            background-color:  #ffff66;\n",
       "            color:  #000000;\n",
       "        }    #T_aff6f8e4_f79d_11e9_badd_d8cb8a788e94row1_col23 {\n",
       "            background-color:  #ffff66;\n",
       "            color:  #000000;\n",
       "        }    #T_aff6f8e4_f79d_11e9_badd_d8cb8a788e94row1_col24 {\n",
       "            background-color:  #ffff66;\n",
       "            color:  #000000;\n",
       "        }    #T_aff6f8e4_f79d_11e9_badd_d8cb8a788e94row1_col25 {\n",
       "            background-color:  #008066;\n",
       "            color:  #f1f1f1;\n",
       "        }    #T_aff6f8e4_f79d_11e9_badd_d8cb8a788e94row1_col26 {\n",
       "            background-color:  #ffff66;\n",
       "            color:  #000000;\n",
       "        }    #T_aff6f8e4_f79d_11e9_badd_d8cb8a788e94row1_col27 {\n",
       "            background-color:  #ffff66;\n",
       "            color:  #000000;\n",
       "        }    #T_aff6f8e4_f79d_11e9_badd_d8cb8a788e94row1_col28 {\n",
       "            background-color:  #ffff66;\n",
       "            color:  #000000;\n",
       "        }    #T_aff6f8e4_f79d_11e9_badd_d8cb8a788e94row1_col29 {\n",
       "            background-color:  #ffff66;\n",
       "            color:  #000000;\n",
       "        }    #T_aff6f8e4_f79d_11e9_badd_d8cb8a788e94row1_col30 {\n",
       "            background-color:  #ffff66;\n",
       "            color:  #000000;\n",
       "        }    #T_aff6f8e4_f79d_11e9_badd_d8cb8a788e94row1_col31 {\n",
       "            background-color:  #ffff66;\n",
       "            color:  #000000;\n",
       "        }    #T_aff6f8e4_f79d_11e9_badd_d8cb8a788e94row1_col32 {\n",
       "            background-color:  #ffff66;\n",
       "            color:  #000000;\n",
       "        }    #T_aff6f8e4_f79d_11e9_badd_d8cb8a788e94row1_col33 {\n",
       "            background-color:  #ffff66;\n",
       "            color:  #000000;\n",
       "        }    #T_aff6f8e4_f79d_11e9_badd_d8cb8a788e94row1_col34 {\n",
       "            background-color:  #ffff66;\n",
       "            color:  #000000;\n",
       "        }    #T_aff6f8e4_f79d_11e9_badd_d8cb8a788e94row1_col35 {\n",
       "            background-color:  #008066;\n",
       "            color:  #f1f1f1;\n",
       "        }    #T_aff6f8e4_f79d_11e9_badd_d8cb8a788e94row1_col36 {\n",
       "            background-color:  #ffff66;\n",
       "            color:  #000000;\n",
       "        }    #T_aff6f8e4_f79d_11e9_badd_d8cb8a788e94row1_col37 {\n",
       "            background-color:  #ffff66;\n",
       "            color:  #000000;\n",
       "        }    #T_aff6f8e4_f79d_11e9_badd_d8cb8a788e94row1_col38 {\n",
       "            background-color:  #ffff66;\n",
       "            color:  #000000;\n",
       "        }    #T_aff6f8e4_f79d_11e9_badd_d8cb8a788e94row1_col39 {\n",
       "            background-color:  #ffff66;\n",
       "            color:  #000000;\n",
       "        }    #T_aff6f8e4_f79d_11e9_badd_d8cb8a788e94row1_col40 {\n",
       "            background-color:  #ffff66;\n",
       "            color:  #000000;\n",
       "        }    #T_aff6f8e4_f79d_11e9_badd_d8cb8a788e94row1_col41 {\n",
       "            background-color:  #ffff66;\n",
       "            color:  #000000;\n",
       "        }    #T_aff6f8e4_f79d_11e9_badd_d8cb8a788e94row1_col42 {\n",
       "            background-color:  #ffff66;\n",
       "            color:  #000000;\n",
       "        }    #T_aff6f8e4_f79d_11e9_badd_d8cb8a788e94row1_col43 {\n",
       "            background-color:  #ffff66;\n",
       "            color:  #000000;\n",
       "        }    #T_aff6f8e4_f79d_11e9_badd_d8cb8a788e94row1_col44 {\n",
       "            background-color:  #ffff66;\n",
       "            color:  #000000;\n",
       "        }    #T_aff6f8e4_f79d_11e9_badd_d8cb8a788e94row1_col45 {\n",
       "            background-color:  #ffff66;\n",
       "            color:  #000000;\n",
       "        }    #T_aff6f8e4_f79d_11e9_badd_d8cb8a788e94row1_col46 {\n",
       "            background-color:  #ffff66;\n",
       "            color:  #000000;\n",
       "        }    #T_aff6f8e4_f79d_11e9_badd_d8cb8a788e94row1_col47 {\n",
       "            background-color:  #008066;\n",
       "            color:  #f1f1f1;\n",
       "        }    #T_aff6f8e4_f79d_11e9_badd_d8cb8a788e94row1_col48 {\n",
       "            background-color:  #ffff66;\n",
       "            color:  #000000;\n",
       "        }    #T_aff6f8e4_f79d_11e9_badd_d8cb8a788e94row1_col49 {\n",
       "            background-color:  #ffff66;\n",
       "            color:  #000000;\n",
       "        }    #T_aff6f8e4_f79d_11e9_badd_d8cb8a788e94row1_col50 {\n",
       "            background-color:  #008066;\n",
       "            color:  #f1f1f1;\n",
       "        }    #T_aff6f8e4_f79d_11e9_badd_d8cb8a788e94row1_col51 {\n",
       "            background-color:  #ffff66;\n",
       "            color:  #000000;\n",
       "        }    #T_aff6f8e4_f79d_11e9_badd_d8cb8a788e94row1_col52 {\n",
       "            background-color:  #ffff66;\n",
       "            color:  #000000;\n",
       "        }    #T_aff6f8e4_f79d_11e9_badd_d8cb8a788e94row1_col53 {\n",
       "            background-color:  #ffff66;\n",
       "            color:  #000000;\n",
       "        }    #T_aff6f8e4_f79d_11e9_badd_d8cb8a788e94row1_col54 {\n",
       "            background-color:  #ffff66;\n",
       "            color:  #000000;\n",
       "        }    #T_aff6f8e4_f79d_11e9_badd_d8cb8a788e94row1_col55 {\n",
       "            background-color:  #ffff66;\n",
       "            color:  #000000;\n",
       "        }    #T_aff6f8e4_f79d_11e9_badd_d8cb8a788e94row1_col56 {\n",
       "            background-color:  #ffff66;\n",
       "            color:  #000000;\n",
       "        }    #T_aff6f8e4_f79d_11e9_badd_d8cb8a788e94row1_col57 {\n",
       "            background-color:  #ffff66;\n",
       "            color:  #000000;\n",
       "        }    #T_aff6f8e4_f79d_11e9_badd_d8cb8a788e94row1_col58 {\n",
       "            background-color:  #ffff66;\n",
       "            color:  #000000;\n",
       "        }    #T_aff6f8e4_f79d_11e9_badd_d8cb8a788e94row1_col59 {\n",
       "            background-color:  #008066;\n",
       "            color:  #f1f1f1;\n",
       "        }    #T_aff6f8e4_f79d_11e9_badd_d8cb8a788e94row1_col60 {\n",
       "            background-color:  #ffff66;\n",
       "            color:  #000000;\n",
       "        }    #T_aff6f8e4_f79d_11e9_badd_d8cb8a788e94row1_col61 {\n",
       "            background-color:  #ffff66;\n",
       "            color:  #000000;\n",
       "        }    #T_aff6f8e4_f79d_11e9_badd_d8cb8a788e94row1_col62 {\n",
       "            background-color:  #ffff66;\n",
       "            color:  #000000;\n",
       "        }    #T_aff6f8e4_f79d_11e9_badd_d8cb8a788e94row1_col63 {\n",
       "            background-color:  #ffff66;\n",
       "            color:  #000000;\n",
       "        }    #T_aff6f8e4_f79d_11e9_badd_d8cb8a788e94row1_col64 {\n",
       "            background-color:  #ffff66;\n",
       "            color:  #000000;\n",
       "        }    #T_aff6f8e4_f79d_11e9_badd_d8cb8a788e94row1_col65 {\n",
       "            background-color:  #ffff66;\n",
       "            color:  #000000;\n",
       "        }    #T_aff6f8e4_f79d_11e9_badd_d8cb8a788e94row1_col66 {\n",
       "            background-color:  #ffff66;\n",
       "            color:  #000000;\n",
       "        }    #T_aff6f8e4_f79d_11e9_badd_d8cb8a788e94row1_col67 {\n",
       "            background-color:  #008066;\n",
       "            color:  #f1f1f1;\n",
       "        }</style><table id=\"T_aff6f8e4_f79d_11e9_badd_d8cb8a788e94\" ><thead>    <tr>        <th class=\"index_name level0\" >email_address</th>        <th class=\"col_heading level0 col0\" >None</th>        <th class=\"col_heading level0 col1\" >a</th>        <th class=\"col_heading level0 col2\" >adam</th>        <th class=\"col_heading level0 col3\" >andrew</th>        <th class=\"col_heading level0 col4\" >ben</th>        <th class=\"col_heading level0 col5\" >bill</th>        <th class=\"col_heading level0 col6\" >bob</th>        <th class=\"col_heading level0 col7\" >brian</th>        <th class=\"col_heading level0 col8\" >charlene</th>        <th class=\"col_heading level0 col9\" >chip</th>        <th class=\"col_heading level0 col10\" >christopher</th>        <th class=\"col_heading level0 col11\" >cindy</th>        <th class=\"col_heading level0 col12\" >dan</th>        <th class=\"col_heading level0 col13\" >danny</th>        <th class=\"col_heading level0 col14\" >david</th>        <th class=\"col_heading level0 col15\" >dick</th>        <th class=\"col_heading level0 col16\" >diomedes</th>        <th class=\"col_heading level0 col17\" >elizabeth</th>        <th class=\"col_heading level0 col18\" >frank</th>        <th class=\"col_heading level0 col19\" >gene</th>        <th class=\"col_heading level0 col20\" >george</th>        <th class=\"col_heading level0 col21\" >greg</th>        <th class=\"col_heading level0 col22\" >james</th>        <th class=\"col_heading level0 col23\" >janet</th>        <th class=\"col_heading level0 col24\" >jay</th>        <th class=\"col_heading level0 col25\" >jeff</th>        <th class=\"col_heading level0 col26\" >jeffrey</th>        <th class=\"col_heading level0 col27\" >jere</th>        <th class=\"col_heading level0 col28\" >jeremy</th>        <th class=\"col_heading level0 col29\" >joe</th>        <th class=\"col_heading level0 col30\" >john</th>        <th class=\"col_heading level0 col31\" >joseph</th>        <th class=\"col_heading level0 col32\" >julia</th>        <th class=\"col_heading level0 col33\" >keith</th>        <th class=\"col_heading level0 col34\" >ken</th>        <th class=\"col_heading level0 col35\" >kenneth</th>        <th class=\"col_heading level0 col36\" >kevin</th>        <th class=\"col_heading level0 col37\" >kulvinder</th>        <th class=\"col_heading level0 col38\" >larry</th>        <th class=\"col_heading level0 col39\" >lou</th>        <th class=\"col_heading level0 col40\" >louise</th>        <th class=\"col_heading level0 col41\" >mark</th>        <th class=\"col_heading level0 col42\" >marty</th>        <th class=\"col_heading level0 col43\" >matthew</th>        <th class=\"col_heading level0 col44\" >michael</th>        <th class=\"col_heading level0 col45\" >mike</th>        <th class=\"col_heading level0 col46\" >mitchell</th>        <th class=\"col_heading level0 col47\" >paula</th>        <th class=\"col_heading level0 col48\" >phillip</th>        <th class=\"col_heading level0 col49\" >rebecca</th>        <th class=\"col_heading level0 col50\" >rex</th>        <th class=\"col_heading level0 col51\" >richard</th>        <th class=\"col_heading level0 col52\" >rick</th>        <th class=\"col_heading level0 col53\" >rob</th>        <th class=\"col_heading level0 col54\" >robert</th>        <th class=\"col_heading level0 col55\" >rockford</th>        <th class=\"col_heading level0 col56\" >rod</th>        <th class=\"col_heading level0 col57\" >s</th>        <th class=\"col_heading level0 col58\" >sally</th>        <th class=\"col_heading level0 col59\" >scott</th>        <th class=\"col_heading level0 col60\" >steven</th>        <th class=\"col_heading level0 col61\" >terence</th>        <th class=\"col_heading level0 col62\" >thomas</th>        <th class=\"col_heading level0 col63\" >tracy</th>        <th class=\"col_heading level0 col64\" >vicki</th>        <th class=\"col_heading level0 col65\" >vince</th>        <th class=\"col_heading level0 col66\" >w</th>        <th class=\"col_heading level0 col67\" >wes</th>    </tr>    <tr>        <th class=\"index_name level0\" >poi</th>        <th class=\"blank\" ></th>        <th class=\"blank\" ></th>        <th class=\"blank\" ></th>        <th class=\"blank\" ></th>        <th class=\"blank\" ></th>        <th class=\"blank\" ></th>        <th class=\"blank\" ></th>        <th class=\"blank\" ></th>        <th class=\"blank\" ></th>        <th class=\"blank\" ></th>        <th class=\"blank\" ></th>        <th class=\"blank\" ></th>        <th class=\"blank\" ></th>        <th class=\"blank\" ></th>        <th class=\"blank\" ></th>        <th class=\"blank\" ></th>        <th class=\"blank\" ></th>        <th class=\"blank\" ></th>        <th class=\"blank\" ></th>        <th class=\"blank\" ></th>        <th class=\"blank\" ></th>        <th class=\"blank\" ></th>        <th class=\"blank\" ></th>        <th class=\"blank\" ></th>        <th class=\"blank\" ></th>        <th class=\"blank\" ></th>        <th class=\"blank\" ></th>        <th class=\"blank\" ></th>        <th class=\"blank\" ></th>        <th class=\"blank\" ></th>        <th class=\"blank\" ></th>        <th class=\"blank\" ></th>        <th class=\"blank\" ></th>        <th class=\"blank\" ></th>        <th class=\"blank\" ></th>        <th class=\"blank\" ></th>        <th class=\"blank\" ></th>        <th class=\"blank\" ></th>        <th class=\"blank\" ></th>        <th class=\"blank\" ></th>        <th class=\"blank\" ></th>        <th class=\"blank\" ></th>        <th class=\"blank\" ></th>        <th class=\"blank\" ></th>        <th class=\"blank\" ></th>        <th class=\"blank\" ></th>        <th class=\"blank\" ></th>        <th class=\"blank\" ></th>        <th class=\"blank\" ></th>        <th class=\"blank\" ></th>        <th class=\"blank\" ></th>        <th class=\"blank\" ></th>        <th class=\"blank\" ></th>        <th class=\"blank\" ></th>        <th class=\"blank\" ></th>        <th class=\"blank\" ></th>        <th class=\"blank\" ></th>        <th class=\"blank\" ></th>        <th class=\"blank\" ></th>        <th class=\"blank\" ></th>        <th class=\"blank\" ></th>        <th class=\"blank\" ></th>        <th class=\"blank\" ></th>        <th class=\"blank\" ></th>        <th class=\"blank\" ></th>        <th class=\"blank\" ></th>        <th class=\"blank\" ></th>        <th class=\"blank\" ></th>    </tr></thead><tbody>\n",
       "                <tr>\n",
       "                        <th id=\"T_aff6f8e4_f79d_11e9_badd_d8cb8a788e94level0_row0\" class=\"row_heading level0 row0\" >False</th>\n",
       "                        <td id=\"T_aff6f8e4_f79d_11e9_badd_d8cb8a788e94row0_col0\" class=\"data row0 col0\" >30</td>\n",
       "                        <td id=\"T_aff6f8e4_f79d_11e9_badd_d8cb8a788e94row0_col1\" class=\"data row0 col1\" >1</td>\n",
       "                        <td id=\"T_aff6f8e4_f79d_11e9_badd_d8cb8a788e94row0_col2\" class=\"data row0 col2\" >1</td>\n",
       "                        <td id=\"T_aff6f8e4_f79d_11e9_badd_d8cb8a788e94row0_col3\" class=\"data row0 col3\" >0</td>\n",
       "                        <td id=\"T_aff6f8e4_f79d_11e9_badd_d8cb8a788e94row0_col4\" class=\"data row0 col4\" >0</td>\n",
       "                        <td id=\"T_aff6f8e4_f79d_11e9_badd_d8cb8a788e94row0_col5\" class=\"data row0 col5\" >1</td>\n",
       "                        <td id=\"T_aff6f8e4_f79d_11e9_badd_d8cb8a788e94row0_col6\" class=\"data row0 col6\" >1</td>\n",
       "                        <td id=\"T_aff6f8e4_f79d_11e9_badd_d8cb8a788e94row0_col7\" class=\"data row0 col7\" >1</td>\n",
       "                        <td id=\"T_aff6f8e4_f79d_11e9_badd_d8cb8a788e94row0_col8\" class=\"data row0 col8\" >1</td>\n",
       "                        <td id=\"T_aff6f8e4_f79d_11e9_badd_d8cb8a788e94row0_col9\" class=\"data row0 col9\" >1</td>\n",
       "                        <td id=\"T_aff6f8e4_f79d_11e9_badd_d8cb8a788e94row0_col10\" class=\"data row0 col10\" >0</td>\n",
       "                        <td id=\"T_aff6f8e4_f79d_11e9_badd_d8cb8a788e94row0_col11\" class=\"data row0 col11\" >1</td>\n",
       "                        <td id=\"T_aff6f8e4_f79d_11e9_badd_d8cb8a788e94row0_col12\" class=\"data row0 col12\" >1</td>\n",
       "                        <td id=\"T_aff6f8e4_f79d_11e9_badd_d8cb8a788e94row0_col13\" class=\"data row0 col13\" >1</td>\n",
       "                        <td id=\"T_aff6f8e4_f79d_11e9_badd_d8cb8a788e94row0_col14\" class=\"data row0 col14\" >2</td>\n",
       "                        <td id=\"T_aff6f8e4_f79d_11e9_badd_d8cb8a788e94row0_col15\" class=\"data row0 col15\" >1</td>\n",
       "                        <td id=\"T_aff6f8e4_f79d_11e9_badd_d8cb8a788e94row0_col16\" class=\"data row0 col16\" >1</td>\n",
       "                        <td id=\"T_aff6f8e4_f79d_11e9_badd_d8cb8a788e94row0_col17\" class=\"data row0 col17\" >1</td>\n",
       "                        <td id=\"T_aff6f8e4_f79d_11e9_badd_d8cb8a788e94row0_col18\" class=\"data row0 col18\" >1</td>\n",
       "                        <td id=\"T_aff6f8e4_f79d_11e9_badd_d8cb8a788e94row0_col19\" class=\"data row0 col19\" >1</td>\n",
       "                        <td id=\"T_aff6f8e4_f79d_11e9_badd_d8cb8a788e94row0_col20\" class=\"data row0 col20\" >2</td>\n",
       "                        <td id=\"T_aff6f8e4_f79d_11e9_badd_d8cb8a788e94row0_col21\" class=\"data row0 col21\" >2</td>\n",
       "                        <td id=\"T_aff6f8e4_f79d_11e9_badd_d8cb8a788e94row0_col22\" class=\"data row0 col22\" >2</td>\n",
       "                        <td id=\"T_aff6f8e4_f79d_11e9_badd_d8cb8a788e94row0_col23\" class=\"data row0 col23\" >1</td>\n",
       "                        <td id=\"T_aff6f8e4_f79d_11e9_badd_d8cb8a788e94row0_col24\" class=\"data row0 col24\" >1</td>\n",
       "                        <td id=\"T_aff6f8e4_f79d_11e9_badd_d8cb8a788e94row0_col25\" class=\"data row0 col25\" >0</td>\n",
       "                        <td id=\"T_aff6f8e4_f79d_11e9_badd_d8cb8a788e94row0_col26\" class=\"data row0 col26\" >1</td>\n",
       "                        <td id=\"T_aff6f8e4_f79d_11e9_badd_d8cb8a788e94row0_col27\" class=\"data row0 col27\" >1</td>\n",
       "                        <td id=\"T_aff6f8e4_f79d_11e9_badd_d8cb8a788e94row0_col28\" class=\"data row0 col28\" >1</td>\n",
       "                        <td id=\"T_aff6f8e4_f79d_11e9_badd_d8cb8a788e94row0_col29\" class=\"data row0 col29\" >1</td>\n",
       "                        <td id=\"T_aff6f8e4_f79d_11e9_badd_d8cb8a788e94row0_col30\" class=\"data row0 col30\" >3</td>\n",
       "                        <td id=\"T_aff6f8e4_f79d_11e9_badd_d8cb8a788e94row0_col31\" class=\"data row0 col31\" >1</td>\n",
       "                        <td id=\"T_aff6f8e4_f79d_11e9_badd_d8cb8a788e94row0_col32\" class=\"data row0 col32\" >1</td>\n",
       "                        <td id=\"T_aff6f8e4_f79d_11e9_badd_d8cb8a788e94row0_col33\" class=\"data row0 col33\" >1</td>\n",
       "                        <td id=\"T_aff6f8e4_f79d_11e9_badd_d8cb8a788e94row0_col34\" class=\"data row0 col34\" >1</td>\n",
       "                        <td id=\"T_aff6f8e4_f79d_11e9_badd_d8cb8a788e94row0_col35\" class=\"data row0 col35\" >0</td>\n",
       "                        <td id=\"T_aff6f8e4_f79d_11e9_badd_d8cb8a788e94row0_col36\" class=\"data row0 col36\" >1</td>\n",
       "                        <td id=\"T_aff6f8e4_f79d_11e9_badd_d8cb8a788e94row0_col37\" class=\"data row0 col37\" >1</td>\n",
       "                        <td id=\"T_aff6f8e4_f79d_11e9_badd_d8cb8a788e94row0_col38\" class=\"data row0 col38\" >1</td>\n",
       "                        <td id=\"T_aff6f8e4_f79d_11e9_badd_d8cb8a788e94row0_col39\" class=\"data row0 col39\" >1</td>\n",
       "                        <td id=\"T_aff6f8e4_f79d_11e9_badd_d8cb8a788e94row0_col40\" class=\"data row0 col40\" >1</td>\n",
       "                        <td id=\"T_aff6f8e4_f79d_11e9_badd_d8cb8a788e94row0_col41\" class=\"data row0 col41\" >2</td>\n",
       "                        <td id=\"T_aff6f8e4_f79d_11e9_badd_d8cb8a788e94row0_col42\" class=\"data row0 col42\" >1</td>\n",
       "                        <td id=\"T_aff6f8e4_f79d_11e9_badd_d8cb8a788e94row0_col43\" class=\"data row0 col43\" >1</td>\n",
       "                        <td id=\"T_aff6f8e4_f79d_11e9_badd_d8cb8a788e94row0_col44\" class=\"data row0 col44\" >2</td>\n",
       "                        <td id=\"T_aff6f8e4_f79d_11e9_badd_d8cb8a788e94row0_col45\" class=\"data row0 col45\" >1</td>\n",
       "                        <td id=\"T_aff6f8e4_f79d_11e9_badd_d8cb8a788e94row0_col46\" class=\"data row0 col46\" >1</td>\n",
       "                        <td id=\"T_aff6f8e4_f79d_11e9_badd_d8cb8a788e94row0_col47\" class=\"data row0 col47\" >0</td>\n",
       "                        <td id=\"T_aff6f8e4_f79d_11e9_badd_d8cb8a788e94row0_col48\" class=\"data row0 col48\" >1</td>\n",
       "                        <td id=\"T_aff6f8e4_f79d_11e9_badd_d8cb8a788e94row0_col49\" class=\"data row0 col49\" >1</td>\n",
       "                        <td id=\"T_aff6f8e4_f79d_11e9_badd_d8cb8a788e94row0_col50\" class=\"data row0 col50\" >0</td>\n",
       "                        <td id=\"T_aff6f8e4_f79d_11e9_badd_d8cb8a788e94row0_col51\" class=\"data row0 col51\" >2</td>\n",
       "                        <td id=\"T_aff6f8e4_f79d_11e9_badd_d8cb8a788e94row0_col52\" class=\"data row0 col52\" >2</td>\n",
       "                        <td id=\"T_aff6f8e4_f79d_11e9_badd_d8cb8a788e94row0_col53\" class=\"data row0 col53\" >1</td>\n",
       "                        <td id=\"T_aff6f8e4_f79d_11e9_badd_d8cb8a788e94row0_col54\" class=\"data row0 col54\" >2</td>\n",
       "                        <td id=\"T_aff6f8e4_f79d_11e9_badd_d8cb8a788e94row0_col55\" class=\"data row0 col55\" >1</td>\n",
       "                        <td id=\"T_aff6f8e4_f79d_11e9_badd_d8cb8a788e94row0_col56\" class=\"data row0 col56\" >1</td>\n",
       "                        <td id=\"T_aff6f8e4_f79d_11e9_badd_d8cb8a788e94row0_col57\" class=\"data row0 col57\" >1</td>\n",
       "                        <td id=\"T_aff6f8e4_f79d_11e9_badd_d8cb8a788e94row0_col58\" class=\"data row0 col58\" >1</td>\n",
       "                        <td id=\"T_aff6f8e4_f79d_11e9_badd_d8cb8a788e94row0_col59\" class=\"data row0 col59\" >0</td>\n",
       "                        <td id=\"T_aff6f8e4_f79d_11e9_badd_d8cb8a788e94row0_col60\" class=\"data row0 col60\" >2</td>\n",
       "                        <td id=\"T_aff6f8e4_f79d_11e9_badd_d8cb8a788e94row0_col61\" class=\"data row0 col61\" >1</td>\n",
       "                        <td id=\"T_aff6f8e4_f79d_11e9_badd_d8cb8a788e94row0_col62\" class=\"data row0 col62\" >1</td>\n",
       "                        <td id=\"T_aff6f8e4_f79d_11e9_badd_d8cb8a788e94row0_col63\" class=\"data row0 col63\" >1</td>\n",
       "                        <td id=\"T_aff6f8e4_f79d_11e9_badd_d8cb8a788e94row0_col64\" class=\"data row0 col64\" >1</td>\n",
       "                        <td id=\"T_aff6f8e4_f79d_11e9_badd_d8cb8a788e94row0_col65\" class=\"data row0 col65\" >1</td>\n",
       "                        <td id=\"T_aff6f8e4_f79d_11e9_badd_d8cb8a788e94row0_col66\" class=\"data row0 col66\" >1</td>\n",
       "                        <td id=\"T_aff6f8e4_f79d_11e9_badd_d8cb8a788e94row0_col67\" class=\"data row0 col67\" >0</td>\n",
       "            </tr>\n",
       "            <tr>\n",
       "                        <th id=\"T_aff6f8e4_f79d_11e9_badd_d8cb8a788e94level0_row1\" class=\"row_heading level0 row1\" >True</th>\n",
       "                        <td id=\"T_aff6f8e4_f79d_11e9_badd_d8cb8a788e94row1_col0\" class=\"data row1 col0\" >0</td>\n",
       "                        <td id=\"T_aff6f8e4_f79d_11e9_badd_d8cb8a788e94row1_col1\" class=\"data row1 col1\" >0</td>\n",
       "                        <td id=\"T_aff6f8e4_f79d_11e9_badd_d8cb8a788e94row1_col2\" class=\"data row1 col2\" >0</td>\n",
       "                        <td id=\"T_aff6f8e4_f79d_11e9_badd_d8cb8a788e94row1_col3\" class=\"data row1 col3\" >1</td>\n",
       "                        <td id=\"T_aff6f8e4_f79d_11e9_badd_d8cb8a788e94row1_col4\" class=\"data row1 col4\" >1</td>\n",
       "                        <td id=\"T_aff6f8e4_f79d_11e9_badd_d8cb8a788e94row1_col5\" class=\"data row1 col5\" >0</td>\n",
       "                        <td id=\"T_aff6f8e4_f79d_11e9_badd_d8cb8a788e94row1_col6\" class=\"data row1 col6\" >0</td>\n",
       "                        <td id=\"T_aff6f8e4_f79d_11e9_badd_d8cb8a788e94row1_col7\" class=\"data row1 col7\" >0</td>\n",
       "                        <td id=\"T_aff6f8e4_f79d_11e9_badd_d8cb8a788e94row1_col8\" class=\"data row1 col8\" >0</td>\n",
       "                        <td id=\"T_aff6f8e4_f79d_11e9_badd_d8cb8a788e94row1_col9\" class=\"data row1 col9\" >0</td>\n",
       "                        <td id=\"T_aff6f8e4_f79d_11e9_badd_d8cb8a788e94row1_col10\" class=\"data row1 col10\" >1</td>\n",
       "                        <td id=\"T_aff6f8e4_f79d_11e9_badd_d8cb8a788e94row1_col11\" class=\"data row1 col11\" >0</td>\n",
       "                        <td id=\"T_aff6f8e4_f79d_11e9_badd_d8cb8a788e94row1_col12\" class=\"data row1 col12\" >0</td>\n",
       "                        <td id=\"T_aff6f8e4_f79d_11e9_badd_d8cb8a788e94row1_col13\" class=\"data row1 col13\" >0</td>\n",
       "                        <td id=\"T_aff6f8e4_f79d_11e9_badd_d8cb8a788e94row1_col14\" class=\"data row1 col14\" >0</td>\n",
       "                        <td id=\"T_aff6f8e4_f79d_11e9_badd_d8cb8a788e94row1_col15\" class=\"data row1 col15\" >0</td>\n",
       "                        <td id=\"T_aff6f8e4_f79d_11e9_badd_d8cb8a788e94row1_col16\" class=\"data row1 col16\" >0</td>\n",
       "                        <td id=\"T_aff6f8e4_f79d_11e9_badd_d8cb8a788e94row1_col17\" class=\"data row1 col17\" >0</td>\n",
       "                        <td id=\"T_aff6f8e4_f79d_11e9_badd_d8cb8a788e94row1_col18\" class=\"data row1 col18\" >0</td>\n",
       "                        <td id=\"T_aff6f8e4_f79d_11e9_badd_d8cb8a788e94row1_col19\" class=\"data row1 col19\" >0</td>\n",
       "                        <td id=\"T_aff6f8e4_f79d_11e9_badd_d8cb8a788e94row1_col20\" class=\"data row1 col20\" >0</td>\n",
       "                        <td id=\"T_aff6f8e4_f79d_11e9_badd_d8cb8a788e94row1_col21\" class=\"data row1 col21\" >0</td>\n",
       "                        <td id=\"T_aff6f8e4_f79d_11e9_badd_d8cb8a788e94row1_col22\" class=\"data row1 col22\" >0</td>\n",
       "                        <td id=\"T_aff6f8e4_f79d_11e9_badd_d8cb8a788e94row1_col23\" class=\"data row1 col23\" >0</td>\n",
       "                        <td id=\"T_aff6f8e4_f79d_11e9_badd_d8cb8a788e94row1_col24\" class=\"data row1 col24\" >0</td>\n",
       "                        <td id=\"T_aff6f8e4_f79d_11e9_badd_d8cb8a788e94row1_col25\" class=\"data row1 col25\" >1</td>\n",
       "                        <td id=\"T_aff6f8e4_f79d_11e9_badd_d8cb8a788e94row1_col26\" class=\"data row1 col26\" >0</td>\n",
       "                        <td id=\"T_aff6f8e4_f79d_11e9_badd_d8cb8a788e94row1_col27\" class=\"data row1 col27\" >0</td>\n",
       "                        <td id=\"T_aff6f8e4_f79d_11e9_badd_d8cb8a788e94row1_col28\" class=\"data row1 col28\" >0</td>\n",
       "                        <td id=\"T_aff6f8e4_f79d_11e9_badd_d8cb8a788e94row1_col29\" class=\"data row1 col29\" >1</td>\n",
       "                        <td id=\"T_aff6f8e4_f79d_11e9_badd_d8cb8a788e94row1_col30\" class=\"data row1 col30\" >0</td>\n",
       "                        <td id=\"T_aff6f8e4_f79d_11e9_badd_d8cb8a788e94row1_col31\" class=\"data row1 col31\" >0</td>\n",
       "                        <td id=\"T_aff6f8e4_f79d_11e9_badd_d8cb8a788e94row1_col32\" class=\"data row1 col32\" >0</td>\n",
       "                        <td id=\"T_aff6f8e4_f79d_11e9_badd_d8cb8a788e94row1_col33\" class=\"data row1 col33\" >0</td>\n",
       "                        <td id=\"T_aff6f8e4_f79d_11e9_badd_d8cb8a788e94row1_col34\" class=\"data row1 col34\" >1</td>\n",
       "                        <td id=\"T_aff6f8e4_f79d_11e9_badd_d8cb8a788e94row1_col35\" class=\"data row1 col35\" >1</td>\n",
       "                        <td id=\"T_aff6f8e4_f79d_11e9_badd_d8cb8a788e94row1_col36\" class=\"data row1 col36\" >0</td>\n",
       "                        <td id=\"T_aff6f8e4_f79d_11e9_badd_d8cb8a788e94row1_col37\" class=\"data row1 col37\" >0</td>\n",
       "                        <td id=\"T_aff6f8e4_f79d_11e9_badd_d8cb8a788e94row1_col38\" class=\"data row1 col38\" >0</td>\n",
       "                        <td id=\"T_aff6f8e4_f79d_11e9_badd_d8cb8a788e94row1_col39\" class=\"data row1 col39\" >0</td>\n",
       "                        <td id=\"T_aff6f8e4_f79d_11e9_badd_d8cb8a788e94row1_col40\" class=\"data row1 col40\" >0</td>\n",
       "                        <td id=\"T_aff6f8e4_f79d_11e9_badd_d8cb8a788e94row1_col41\" class=\"data row1 col41\" >1</td>\n",
       "                        <td id=\"T_aff6f8e4_f79d_11e9_badd_d8cb8a788e94row1_col42\" class=\"data row1 col42\" >0</td>\n",
       "                        <td id=\"T_aff6f8e4_f79d_11e9_badd_d8cb8a788e94row1_col43\" class=\"data row1 col43\" >0</td>\n",
       "                        <td id=\"T_aff6f8e4_f79d_11e9_badd_d8cb8a788e94row1_col44\" class=\"data row1 col44\" >1</td>\n",
       "                        <td id=\"T_aff6f8e4_f79d_11e9_badd_d8cb8a788e94row1_col45\" class=\"data row1 col45\" >0</td>\n",
       "                        <td id=\"T_aff6f8e4_f79d_11e9_badd_d8cb8a788e94row1_col46\" class=\"data row1 col46\" >0</td>\n",
       "                        <td id=\"T_aff6f8e4_f79d_11e9_badd_d8cb8a788e94row1_col47\" class=\"data row1 col47\" >1</td>\n",
       "                        <td id=\"T_aff6f8e4_f79d_11e9_badd_d8cb8a788e94row1_col48\" class=\"data row1 col48\" >0</td>\n",
       "                        <td id=\"T_aff6f8e4_f79d_11e9_badd_d8cb8a788e94row1_col49\" class=\"data row1 col49\" >0</td>\n",
       "                        <td id=\"T_aff6f8e4_f79d_11e9_badd_d8cb8a788e94row1_col50\" class=\"data row1 col50\" >1</td>\n",
       "                        <td id=\"T_aff6f8e4_f79d_11e9_badd_d8cb8a788e94row1_col51\" class=\"data row1 col51\" >0</td>\n",
       "                        <td id=\"T_aff6f8e4_f79d_11e9_badd_d8cb8a788e94row1_col52\" class=\"data row1 col52\" >0</td>\n",
       "                        <td id=\"T_aff6f8e4_f79d_11e9_badd_d8cb8a788e94row1_col53\" class=\"data row1 col53\" >0</td>\n",
       "                        <td id=\"T_aff6f8e4_f79d_11e9_badd_d8cb8a788e94row1_col54\" class=\"data row1 col54\" >0</td>\n",
       "                        <td id=\"T_aff6f8e4_f79d_11e9_badd_d8cb8a788e94row1_col55\" class=\"data row1 col55\" >0</td>\n",
       "                        <td id=\"T_aff6f8e4_f79d_11e9_badd_d8cb8a788e94row1_col56\" class=\"data row1 col56\" >0</td>\n",
       "                        <td id=\"T_aff6f8e4_f79d_11e9_badd_d8cb8a788e94row1_col57\" class=\"data row1 col57\" >0</td>\n",
       "                        <td id=\"T_aff6f8e4_f79d_11e9_badd_d8cb8a788e94row1_col58\" class=\"data row1 col58\" >0</td>\n",
       "                        <td id=\"T_aff6f8e4_f79d_11e9_badd_d8cb8a788e94row1_col59\" class=\"data row1 col59\" >1</td>\n",
       "                        <td id=\"T_aff6f8e4_f79d_11e9_badd_d8cb8a788e94row1_col60\" class=\"data row1 col60\" >0</td>\n",
       "                        <td id=\"T_aff6f8e4_f79d_11e9_badd_d8cb8a788e94row1_col61\" class=\"data row1 col61\" >0</td>\n",
       "                        <td id=\"T_aff6f8e4_f79d_11e9_badd_d8cb8a788e94row1_col62\" class=\"data row1 col62\" >0</td>\n",
       "                        <td id=\"T_aff6f8e4_f79d_11e9_badd_d8cb8a788e94row1_col63\" class=\"data row1 col63\" >0</td>\n",
       "                        <td id=\"T_aff6f8e4_f79d_11e9_badd_d8cb8a788e94row1_col64\" class=\"data row1 col64\" >0</td>\n",
       "                        <td id=\"T_aff6f8e4_f79d_11e9_badd_d8cb8a788e94row1_col65\" class=\"data row1 col65\" >0</td>\n",
       "                        <td id=\"T_aff6f8e4_f79d_11e9_badd_d8cb8a788e94row1_col66\" class=\"data row1 col66\" >0</td>\n",
       "                        <td id=\"T_aff6f8e4_f79d_11e9_badd_d8cb8a788e94row1_col67\" class=\"data row1 col67\" >1</td>\n",
       "            </tr>\n",
       "    </tbody></table>"
      ],
      "text/plain": [
       "<pandas.io.formats.style.Styler at 0x1f8f3207f98>"
      ]
     },
     "execution_count": 148,
     "metadata": {},
     "output_type": "execute_result"
    }
   ],
   "source": [
    "pd.crosstab(data['email_address'], data['poi']).T.style.background_gradient(cmap='summer_r')"
   ]
  },
  {
   "cell_type": "markdown",
   "metadata": {},
   "source": [
    "Just get the key word whitch is useful to our model.  \n",
    "\n",
    "----"
   ]
  },
  {
   "cell_type": "code",
   "execution_count": 149,
   "metadata": {},
   "outputs": [
    {
     "data": {
      "text/html": [
       "<div>\n",
       "<style scoped>\n",
       "    .dataframe tbody tr th:only-of-type {\n",
       "        vertical-align: middle;\n",
       "    }\n",
       "\n",
       "    .dataframe tbody tr th {\n",
       "        vertical-align: top;\n",
       "    }\n",
       "\n",
       "    .dataframe thead th {\n",
       "        text-align: right;\n",
       "    }\n",
       "</style>\n",
       "<table border=\"1\" class=\"dataframe\">\n",
       "  <thead>\n",
       "    <tr style=\"text-align: right;\">\n",
       "      <th></th>\n",
       "      <th>missing</th>\n",
       "      <th>nunique</th>\n",
       "    </tr>\n",
       "  </thead>\n",
       "  <tbody>\n",
       "    <tr>\n",
       "      <th>shared_receipt_with_poi</th>\n",
       "      <td>60</td>\n",
       "      <td>83</td>\n",
       "    </tr>\n",
       "    <tr>\n",
       "      <th>from_this_person_to_poi</th>\n",
       "      <td>60</td>\n",
       "      <td>41</td>\n",
       "    </tr>\n",
       "    <tr>\n",
       "      <th>from_poi_to_this_person</th>\n",
       "      <td>60</td>\n",
       "      <td>57</td>\n",
       "    </tr>\n",
       "    <tr>\n",
       "      <th>to_messages</th>\n",
       "      <td>60</td>\n",
       "      <td>86</td>\n",
       "    </tr>\n",
       "    <tr>\n",
       "      <th>from_messages</th>\n",
       "      <td>60</td>\n",
       "      <td>64</td>\n",
       "    </tr>\n",
       "    <tr>\n",
       "      <th>poi</th>\n",
       "      <td>33</td>\n",
       "      <td>2</td>\n",
       "    </tr>\n",
       "    <tr>\n",
       "      <th>name</th>\n",
       "      <td>0</td>\n",
       "      <td>146</td>\n",
       "    </tr>\n",
       "    <tr>\n",
       "      <th>email_address</th>\n",
       "      <td>0</td>\n",
       "      <td>79</td>\n",
       "    </tr>\n",
       "    <tr>\n",
       "      <th>money_clearn</th>\n",
       "      <td>0</td>\n",
       "      <td>1</td>\n",
       "    </tr>\n",
       "    <tr>\n",
       "      <th>total_stock_value</th>\n",
       "      <td>0</td>\n",
       "      <td>125</td>\n",
       "    </tr>\n",
       "    <tr>\n",
       "      <th>exercised_stock_options</th>\n",
       "      <td>0</td>\n",
       "      <td>101</td>\n",
       "    </tr>\n",
       "    <tr>\n",
       "      <th>restricted_stock_deferred</th>\n",
       "      <td>0</td>\n",
       "      <td>18</td>\n",
       "    </tr>\n",
       "    <tr>\n",
       "      <th>restricted_stock</th>\n",
       "      <td>0</td>\n",
       "      <td>98</td>\n",
       "    </tr>\n",
       "    <tr>\n",
       "      <th>total_payments</th>\n",
       "      <td>0</td>\n",
       "      <td>126</td>\n",
       "    </tr>\n",
       "    <tr>\n",
       "      <th>other</th>\n",
       "      <td>0</td>\n",
       "      <td>93</td>\n",
       "    </tr>\n",
       "    <tr>\n",
       "      <th>expenses</th>\n",
       "      <td>0</td>\n",
       "      <td>96</td>\n",
       "    </tr>\n",
       "    <tr>\n",
       "      <th>bonus</th>\n",
       "      <td>0</td>\n",
       "      <td>42</td>\n",
       "    </tr>\n",
       "    <tr>\n",
       "      <th>salary</th>\n",
       "      <td>0</td>\n",
       "      <td>95</td>\n",
       "    </tr>\n",
       "    <tr>\n",
       "      <th>long_term_incentive</th>\n",
       "      <td>0</td>\n",
       "      <td>53</td>\n",
       "    </tr>\n",
       "    <tr>\n",
       "      <th>loan_advances</th>\n",
       "      <td>0</td>\n",
       "      <td>5</td>\n",
       "    </tr>\n",
       "    <tr>\n",
       "      <th>director_fees</th>\n",
       "      <td>0</td>\n",
       "      <td>17</td>\n",
       "    </tr>\n",
       "    <tr>\n",
       "      <th>deferred_income</th>\n",
       "      <td>0</td>\n",
       "      <td>46</td>\n",
       "    </tr>\n",
       "    <tr>\n",
       "      <th>deferral_payments</th>\n",
       "      <td>0</td>\n",
       "      <td>39</td>\n",
       "    </tr>\n",
       "    <tr>\n",
       "      <th>stock_clean</th>\n",
       "      <td>0</td>\n",
       "      <td>1</td>\n",
       "    </tr>\n",
       "  </tbody>\n",
       "</table>\n",
       "</div>"
      ],
      "text/plain": [
       "                           missing  nunique\n",
       "shared_receipt_with_poi         60       83\n",
       "from_this_person_to_poi         60       41\n",
       "from_poi_to_this_person         60       57\n",
       "to_messages                     60       86\n",
       "from_messages                   60       64\n",
       "poi                             33        2\n",
       "name                             0      146\n",
       "email_address                    0       79\n",
       "money_clearn                     0        1\n",
       "total_stock_value                0      125\n",
       "exercised_stock_options          0      101\n",
       "restricted_stock_deferred        0       18\n",
       "restricted_stock                 0       98\n",
       "total_payments                   0      126\n",
       "other                            0       93\n",
       "expenses                         0       96\n",
       "bonus                            0       42\n",
       "salary                           0       95\n",
       "long_term_incentive              0       53\n",
       "loan_advances                    0        5\n",
       "director_fees                    0       17\n",
       "deferred_income                  0       46\n",
       "deferral_payments                0       39\n",
       "stock_clean                      0        1"
      ]
     },
     "execution_count": 149,
     "metadata": {},
     "output_type": "execute_result"
    }
   ],
   "source": [
    "#Check missing data\n",
    "missing = pd.DataFrame({'missing':data.isnull().sum(),\n",
    "                       'nunique':data.nunique()}).sort_values(by='missing', ascending=False)\n",
    "missing"
   ]
  },
  {
   "cell_type": "code",
   "execution_count": 150,
   "metadata": {
    "scrolled": false
   },
   "outputs": [],
   "source": [
    "# g = sns.PairGrid(data[['exercised_stock_options', 'expenses','from_messages', 'from_poi_to_this_person',\n",
    "#                     'from_this_person_to_poi','loan_advances', 'long_term_incentive', 'other', 'restricted_stock',\n",
    "#                     'restricted_stock_deferred', 'salary', 'shared_receipt_with_poi','to_messages', 'total_payments',\n",
    "#                     'total_stock_value']])\n",
    "# g = g.map_diag(plt.hist, edgecolor='w')\n",
    "# g = g.map_offdiag(plt.scatter, edgecolor='w')"
   ]
  },
  {
   "cell_type": "code",
   "execution_count": 151,
   "metadata": {},
   "outputs": [],
   "source": [
    "fix_col = ['deferred_income', 'restricted_stock_deferred']\n",
    "#features whitch is negative value.\n",
    "for col in fix_col:\n",
    "    data[col] = data[col].apply(lambda x: -np.log(-x) if x<0 else x)"
   ]
  },
  {
   "cell_type": "code",
   "execution_count": 152,
   "metadata": {},
   "outputs": [],
   "source": [
    "log_col = ['bonus', 'deferral_payments',\n",
    "       'director_fees', 'exercised_stock_options', 'expenses',\n",
    "       'from_messages', 'from_poi_to_this_person', 'from_this_person_to_poi',\n",
    "       'loan_advances', 'long_term_incentive', 'other',\n",
    "       'restricted_stock', 'salary', 'shared_receipt_with_poi',\n",
    "       'to_messages', 'total_payments', 'total_stock_value',\n",
    "       'money_clearn', 'stock_clean']\n",
    "for col in log_col:\n",
    "    data[col] = data[col].apply(lambda x: np.log(x) if x>0 else x)"
   ]
  },
  {
   "cell_type": "code",
   "execution_count": 153,
   "metadata": {},
   "outputs": [],
   "source": [
    "#Label ['email_address']\n",
    "data['email_address'] = data['email_address'].astype('category').cat.codes"
   ]
  },
  {
   "cell_type": "markdown",
   "metadata": {},
   "source": [
    "----"
   ]
  },
  {
   "cell_type": "markdown",
   "metadata": {},
   "source": [
    "###### `Others`(messages & poi)\n",
    "I'm not sure the message from these features.  \n",
    "~Since there's already 0 value inside, it's better to fill -999 or any other values.~  \n",
    "~Ofcourse dont move our target `'poi'`.~"
   ]
  },
  {
   "cell_type": "code",
   "execution_count": 116,
   "metadata": {},
   "outputs": [],
   "source": [
    "# clearn_col = ['from_messages', 'to_messages', 'from_poi_to_this_person', 'from_this_person_to_poi','shared_receipt_with_poi']\n",
    "# for col in clearn_col:\n",
    "#     data[col] = data[col].fillna(-1)"
   ]
  },
  {
   "cell_type": "markdown",
   "metadata": {},
   "source": [
    "Try regression analysis."
   ]
  },
  {
   "cell_type": "code",
   "execution_count": 117,
   "metadata": {},
   "outputs": [],
   "source": [
    "from sklearn.ensemble import RandomForestRegressor\n",
    "from xgboost import XGBRegressor\n",
    "from lightgbm import LGBMRegressor\n",
    "from sklearn.model_selection import cross_val_score"
   ]
  },
  {
   "cell_type": "code",
   "execution_count": 118,
   "metadata": {},
   "outputs": [
    {
     "data": {
      "image/png": "[encoded data removed]",
      "text/plain": [
       "<Figure size 432x288 with 1 Axes>"
      ]
     },
     "metadata": {},
     "output_type": "display_data"
    }
   ],
   "source": [
    "with sns.axes_style('darkgrid'):\n",
    "    sns.scatterplot(data['from_messages'].index, data['from_messages'])"
   ]
  },
  {
   "cell_type": "code",
   "execution_count": 155,
   "metadata": {},
   "outputs": [
    {
     "name": "stdout",
     "output_type": "stream",
     "text": [
      "60+86\n"
     ]
    }
   ],
   "source": [
    "message_null = data[data['from_messages'].isnull()]\n",
    "message_notnull = data[data['from_messages'].notnull()]\n",
    "print(f'{len(message_null)}+{len(message_notnull)}')"
   ]
  },
  {
   "cell_type": "code",
   "execution_count": 28,
   "metadata": {},
   "outputs": [
    {
     "data": {
      "text/plain": [
       "-3.3445921161216425"
      ]
     },
     "execution_count": 28,
     "metadata": {},
     "output_type": "execute_result"
    }
   ],
   "source": [
    "# #RF\n",
    "# rfModel = RandomForestRegressor(random_state=42)\n",
    "# pred_col = ['email_address', 'deferral_payments', 'deferred_income',\n",
    "#        'director_fees', 'loan_advances', 'long_term_incentive', 'salary',\n",
    "#        'bonus', 'expenses', 'other', 'total_payments', 'restricted_stock',\n",
    "#        'restricted_stock_deferred', 'exercised_stock_options',\n",
    "#        'total_stock_value']\n",
    "# rfModel.fit(message_notnull[pred_col], message_notnull['from_messages'])\n",
    "# cross_val_score(rfModel, message_notnull[pred_col], message_notnull['from_messages'], scoring='neg_mean_squared_error', cv=5).mean()"
   ]
  },
  {
   "cell_type": "code",
   "execution_count": 29,
   "metadata": {},
   "outputs": [
    {
     "name": "stdout",
     "output_type": "stream",
     "text": [
      "Fitting 5 folds for each of 81 candidates, totalling 405 fits\n"
     ]
    },
    {
     "name": "stderr",
     "output_type": "stream",
     "text": [
      "[Parallel(n_jobs=-1)]: Using backend LokyBackend with 8 concurrent workers.\n",
      "[Parallel(n_jobs=-1)]: Done  34 tasks      | elapsed:    5.8s\n",
      "[Parallel(n_jobs=-1)]: Done 184 tasks      | elapsed:   17.7s\n"
     ]
    },
    {
     "name": "stdout",
     "output_type": "stream",
     "text": [
      "Best Negative_MSE : -3.1186622435372993\n",
      "Using {'max_depth': 6, 'min_samples_leaf': 1, 'min_samples_split': 2, 'n_estimators': 100}\n"
     ]
    },
    {
     "name": "stderr",
     "output_type": "stream",
     "text": [
      "[Parallel(n_jobs=-1)]: Done 405 out of 405 | elapsed:   33.7s finished\n",
      "C:\\Users\\camer\\Anaconda3\\lib\\site-packages\\sklearn\\model_selection\\_search.py:813: DeprecationWarning: The default of the `iid` parameter will change from True to False in version 0.22 and will be removed in 0.24. This will change numeric results when test-set sizes are unequal.\n",
      "  DeprecationWarning)\n"
     ]
    }
   ],
   "source": [
    "# #GridSearch\n",
    "# from sklearn.model_selection import GridSearchCV\n",
    "# param_grid={'n_estimators':[100, 500, 1000],\n",
    "#            'max_depth':[3, 6, 8],\n",
    "#            'min_samples_split':[2, 5, 10],\n",
    "#            'min_samples_leaf':[1, 2, 4]}\n",
    "# gridsearch = GridSearchCV(rfModel, param_grid, scoring='neg_mean_squared_error', cv=5, n_jobs=-1, verbose=1)\n",
    "# grid_result = gridsearch.fit(message_notnull[pred_col], message_notnull['from_messages'])\n",
    "\n",
    "# print('Best Negative_MSE : {}\\nUsing {}'.format(grid_result.best_score_, grid_result.best_params_))"
   ]
  },
  {
   "cell_type": "code",
   "execution_count": 30,
   "metadata": {},
   "outputs": [
    {
     "data": {
      "text/plain": [
       "-3.1260924911478063"
      ]
     },
     "execution_count": 30,
     "metadata": {},
     "output_type": "execute_result"
    }
   ],
   "source": [
    "# #Hyper\n",
    "# rfModel = RandomForestRegressor(n_estimators=100, min_samples_split=2, min_samples_leaf=1, max_depth=6, random_state=42)\n",
    "# rfModel.fit(message_notnull[pred_col], message_notnull['from_messages'])\n",
    "# cross_val_score(rfModel, message_notnull[pred_col], message_notnull['from_messages'], scoring='neg_mean_squared_error', cv=5).mean()"
   ]
  },
  {
   "cell_type": "code",
   "execution_count": 31,
   "metadata": {},
   "outputs": [],
   "source": [
    "# message_pred = rfModel.predict(message_null[pred_col])\n",
    "# message_null.loc[:,'from_messages'] = message_pred"
   ]
  },
  {
   "cell_type": "code",
   "execution_count": 160,
   "metadata": {},
   "outputs": [
    {
     "data": {
      "text/plain": [
       "-3.895405814272884"
      ]
     },
     "execution_count": 160,
     "metadata": {},
     "output_type": "execute_result"
    }
   ],
   "source": [
    "#LGBM\n",
    "lgbmModel = LGBMRegressor()\n",
    "pred_col = ['email_address', 'deferral_payments', 'deferred_income',\n",
    "       'director_fees', 'loan_advances', 'long_term_incentive', 'salary',\n",
    "       'bonus', 'expenses', 'other', 'total_payments', 'restricted_stock',\n",
    "       'restricted_stock_deferred', 'exercised_stock_options',\n",
    "       'total_stock_value']\n",
    "lgbmModel.fit(message_notnull[pred_col], message_notnull['from_messages'])\n",
    "cross_val_score(lgbmModel, message_notnull[pred_col], message_notnull['from_messages'], scoring='neg_mean_squared_error', cv=5).mean()"
   ]
  },
  {
   "cell_type": "code",
   "execution_count": 158,
   "metadata": {},
   "outputs": [
    {
     "name": "stdout",
     "output_type": "stream",
     "text": [
      "Fitting 5 folds for each of 1728 candidates, totalling 8640 fits\n"
     ]
    },
    {
     "name": "stderr",
     "output_type": "stream",
     "text": [
      "[Parallel(n_jobs=-1)]: Using backend LokyBackend with 8 concurrent workers.\n",
      "[Parallel(n_jobs=-1)]: Done  34 tasks      | elapsed:    2.3s\n",
      "[Parallel(n_jobs=-1)]: Done 1307 tasks      | elapsed:   11.4s\n",
      "[Parallel(n_jobs=-1)]: Done 3807 tasks      | elapsed:   29.8s\n",
      "[Parallel(n_jobs=-1)]: Done 7307 tasks      | elapsed:   57.0s\n"
     ]
    },
    {
     "name": "stdout",
     "output_type": "stream",
     "text": [
      "Best Accuracy :-0.16294584067158643\n",
      "Using {'colsample_bytree': 0.3, 'learning_rate': 0.03, 'max_depth': 3, 'n_estimators': 100, 'num_leaves': 5, 'subsample': 0.3}\n"
     ]
    },
    {
     "name": "stderr",
     "output_type": "stream",
     "text": [
      "[Parallel(n_jobs=-1)]: Done 8640 out of 8640 | elapsed:  1.1min finished\n"
     ]
    }
   ],
   "source": [
    "#GridSearch\n",
    "param_grid = {'max_depth':[3, 4, 5],\n",
    "              'num_leaves':[5, 15, 30],\n",
    "             'learning_rate':[0.03, 0.05, 0.1],\n",
    "             'n_estimators':[100, 200, 500, 1000],\n",
    "             'subsample':[0.3, 0.5, 0.8, 1.0],\n",
    "             'colsample_bytree':[0.3, 0.5, 0.8, 1.0]}\n",
    "grid_search = GridSearchCV(lgbmModel, param_grid, cv=5, n_jobs=-1, verbose=1)\n",
    "grid_result = grid_search.fit(message_notnull[pred_col], message_notnull['from_messages'])\n",
    "print('Best Accuracy :{}\\nUsing {}'.format(grid_result.best_score_, grid_result.best_params_) )"
   ]
  },
  {
   "cell_type": "code",
   "execution_count": 161,
   "metadata": {},
   "outputs": [
    {
     "data": {
      "text/plain": [
       "-3.18053901057063"
      ]
     },
     "execution_count": 161,
     "metadata": {},
     "output_type": "execute_result"
    }
   ],
   "source": [
    "#LGBM\n",
    "lgbmModel = LGBMRegressor(colsample_bytree=0.3, learning_rate=0.03, max_depth=3, n_estimators=100, num_leaves=5, subsample=0.3)\n",
    "lgbmModel.fit(message_notnull[pred_col], message_notnull['from_messages'])\n",
    "cross_val_score(lgbmModel, message_notnull[pred_col], message_notnull['from_messages'], scoring='neg_mean_squared_error', cv=5).mean()"
   ]
  },
  {
   "cell_type": "code",
   "execution_count": 162,
   "metadata": {},
   "outputs": [],
   "source": [
    "message_pred = lgbmModel.predict(message_null[pred_col])\n",
    "message_null.loc[:,'from_messages'] = message_pred"
   ]
  },
  {
   "cell_type": "code",
   "execution_count": 163,
   "metadata": {},
   "outputs": [],
   "source": [
    "#The same way to other features.\n",
    "\n",
    "#['to_messages']\n",
    "lgbmModel.fit(message_notnull[pred_col], message_notnull['to_messages'])\n",
    "message_pred = lgbmModel.predict(message_null[pred_col])\n",
    "message_null.loc[:,'to_messages'] = message_pred\n",
    "\n",
    "#['from_poi_to_this_person']\n",
    "lgbmModel.fit(message_notnull[pred_col], message_notnull['from_poi_to_this_person'])\n",
    "message_pred = lgbmModel.predict(message_null[pred_col])\n",
    "message_null.loc[:,'from_poi_to_this_person'] = message_pred\n",
    "\n",
    "#['from_this_person_to_poi']\n",
    "lgbmModel.fit(message_notnull[pred_col], message_notnull['from_this_person_to_poi'])\n",
    "message_pred = lgbmModel.predict(message_null[pred_col])\n",
    "message_null.loc[:,'from_this_person_to_poi'] = message_pred\n",
    "\n",
    "#['shared_receipt_with_poi']\n",
    "lgbmModel.fit(message_notnull[pred_col], message_notnull['shared_receipt_with_poi'])\n",
    "message_pred = lgbmModel.predict(message_null[pred_col])\n",
    "message_null.loc[:,'shared_receipt_with_poi'] = message_pred"
   ]
  },
  {
   "cell_type": "code",
   "execution_count": 164,
   "metadata": {},
   "outputs": [],
   "source": [
    "#return data\n",
    "data = message_notnull.append(message_null)\n",
    "data.reset_index(inplace=True, drop=True)"
   ]
  },
  {
   "cell_type": "markdown",
   "metadata": {},
   "source": [
    "----"
   ]
  },
  {
   "cell_type": "code",
   "execution_count": 165,
   "metadata": {},
   "outputs": [],
   "source": [
    "#Set train and test datasets\n",
    "train = data[data['poi'].notnull()]\n",
    "\n",
    "test = data[data['poi'].isnull()]\n",
    "test.reset_index(inplace=True, drop=True)"
   ]
  },
  {
   "cell_type": "code",
   "execution_count": 166,
   "metadata": {},
   "outputs": [],
   "source": [
    "#Label ['poi']\n",
    "train['poi'] = train['poi'].apply(lambda x: 0 if x==False else 1)"
   ]
  },
  {
   "cell_type": "code",
   "execution_count": 167,
   "metadata": {},
   "outputs": [
    {
     "data": {
      "text/plain": [
       "<matplotlib.axes._subplots.AxesSubplot at 0x1f8f6d3e8d0>"
      ]
     },
     "execution_count": 167,
     "metadata": {},
     "output_type": "execute_result"
    },
    {
     "data": {
      "image/png": "[encoded data removed]",
      "text/plain": [
       "<Figure size 1080x720 with 2 Axes>"
      ]
     },
     "metadata": {
      "needs_background": "light"
     },
     "output_type": "display_data"
    }
   ],
   "source": [
    "plt.figure(figsize=(15,10))\n",
    "h = train.corr()\n",
    "sns.heatmap(h, vmax=0.8, annot=True, square=True)"
   ]
  },
  {
   "cell_type": "markdown",
   "metadata": {},
   "source": [
    "## Model"
   ]
  },
  {
   "cell_type": "code",
   "execution_count": 37,
   "metadata": {},
   "outputs": [],
   "source": [
    "from sklearn.linear_model import LogisticRegression\n",
    "from sklearn.ensemble import RandomForestClassifier, GradientBoostingClassifier\n",
    "from sklearn.model_selection import cross_val_score, GridSearchCV"
   ]
  },
  {
   "cell_type": "markdown",
   "metadata": {},
   "source": [
    "### LogisticRegression"
   ]
  },
  {
   "cell_type": "code",
   "execution_count": 176,
   "metadata": {},
   "outputs": [
    {
     "data": {
      "text/plain": [
       "0.8581027667984191"
      ]
     },
     "execution_count": 176,
     "metadata": {},
     "output_type": "execute_result"
    }
   ],
   "source": [
    "#basic\n",
    "lr = LogisticRegression()\n",
    "lr.fit(train.iloc[:, 1:21], train['poi'])\n",
    "cross_val_score(lr, train.iloc[:, 1:21], train['poi'], cv=5).mean()"
   ]
  },
  {
   "cell_type": "code",
   "execution_count": 177,
   "metadata": {},
   "outputs": [
    {
     "name": "stdout",
     "output_type": "stream",
     "text": [
      "Fitting 5 folds for each of 14 candidates, totalling 70 fits\n"
     ]
    },
    {
     "name": "stderr",
     "output_type": "stream",
     "text": [
      "[Parallel(n_jobs=-1)]: Using backend LokyBackend with 8 concurrent workers.\n",
      "[Parallel(n_jobs=-1)]: Done  34 tasks      | elapsed:    2.4s\n"
     ]
    },
    {
     "name": "stdout",
     "output_type": "stream",
     "text": [
      "Best Accuracy : 0.8849557522123894\n",
      "Using {'C': 0.001, 'penalty': 'l1'}\n"
     ]
    },
    {
     "name": "stderr",
     "output_type": "stream",
     "text": [
      "[Parallel(n_jobs=-1)]: Done  70 out of  70 | elapsed:    2.6s finished\n"
     ]
    }
   ],
   "source": [
    "#GridSearch\n",
    "param_grid = {'C':np.logspace(-3,3,7),\n",
    "             'penalty':['l1','l2']}\n",
    "grid_search = GridSearchCV(lr, param_grid, cv=5, n_jobs=-1, verbose=1)\n",
    "grid_result = grid_search.fit(train.iloc[:, 1:21], train['poi'])\n",
    "\n",
    "print('Best Accuracy : {}\\nUsing {}'.format(grid_result.best_score_, grid_result.best_params_))"
   ]
  },
  {
   "cell_type": "code",
   "execution_count": 178,
   "metadata": {},
   "outputs": [
    {
     "data": {
      "text/plain": [
       "0.8853754940711462"
      ]
     },
     "execution_count": 178,
     "metadata": {},
     "output_type": "execute_result"
    }
   ],
   "source": [
    "#hyper\n",
    "lr = LogisticRegression(C=0.001, penalty='l1')\n",
    "lr.fit(train.iloc[:, 1:21], train['poi'])\n",
    "cross_val_score(lr, train.iloc[:, 1:21], train['poi'], cv=5).mean()"
   ]
  },
  {
   "cell_type": "markdown",
   "metadata": {},
   "source": [
    "### RandomForestClassifier"
   ]
  },
  {
   "cell_type": "code",
   "execution_count": 41,
   "metadata": {},
   "outputs": [
    {
     "data": {
      "text/plain": [
       "0.8936758893280633"
      ]
     },
     "execution_count": 41,
     "metadata": {},
     "output_type": "execute_result"
    }
   ],
   "source": [
    "#basic\n",
    "rf = RandomForestClassifier(random_state=42)\n",
    "rf.fit(train.iloc[:, 1:21], train['poi'])\n",
    "cross_val_score(rf, train.iloc[:, 1:21], train['poi'], cv=5).mean()"
   ]
  },
  {
   "cell_type": "code",
   "execution_count": 42,
   "metadata": {},
   "outputs": [
    {
     "name": "stdout",
     "output_type": "stream",
     "text": [
      "Fitting 5 folds for each of 81 candidates, totalling 405 fits\n"
     ]
    },
    {
     "name": "stderr",
     "output_type": "stream",
     "text": [
      "[Parallel(n_jobs=-1)]: Using backend LokyBackend with 8 concurrent workers.\n",
      "[Parallel(n_jobs=-1)]: Done  52 tasks      | elapsed:    3.8s\n",
      "[Parallel(n_jobs=-1)]: Done 213 tasks      | elapsed:   16.1s\n"
     ]
    },
    {
     "name": "stdout",
     "output_type": "stream",
     "text": [
      "Best Accuracy : 0.9026548672566371\n",
      "Using {'max_depth': 3, 'min_samples_leaf': 1, 'min_samples_split': 10, 'n_estimators': 100}\n"
     ]
    },
    {
     "name": "stderr",
     "output_type": "stream",
     "text": [
      "[Parallel(n_jobs=-1)]: Done 405 out of 405 | elapsed:   31.6s finished\n",
      "C:\\Users\\camer\\Anaconda3\\lib\\site-packages\\sklearn\\model_selection\\_search.py:813: DeprecationWarning: The default of the `iid` parameter will change from True to False in version 0.22 and will be removed in 0.24. This will change numeric results when test-set sizes are unequal.\n",
      "  DeprecationWarning)\n"
     ]
    }
   ],
   "source": [
    "#GridSearch\n",
    "param_grid={'n_estimators':[100, 500, 1000],\n",
    "           'max_depth':[3, 6, 8],\n",
    "           'min_samples_split':[2, 5, 10],\n",
    "           'min_samples_leaf':[1, 2, 4]}\n",
    "gridsearch = GridSearchCV(rf, param_grid, cv=5, n_jobs=-1, verbose=1)\n",
    "grid_result = gridsearch.fit(train.iloc[:, 1:21], train['poi'])\n",
    "\n",
    "print('Best Accuracy : {}\\nUsing {}'.format(grid_result.best_score_, grid_result.best_params_))"
   ]
  },
  {
   "cell_type": "code",
   "execution_count": 43,
   "metadata": {},
   "outputs": [
    {
     "data": {
      "text/plain": [
       "0.9023715415019762"
      ]
     },
     "execution_count": 43,
     "metadata": {},
     "output_type": "execute_result"
    }
   ],
   "source": [
    "#hyper\n",
    "rf = RandomForestClassifier(n_estimators=100, min_samples_split=10, min_samples_leaf=1, \n",
    "                            max_depth=3, random_state=42)\n",
    "rf.fit(train.iloc[:, 1:21], train['poi'])\n",
    "cross_val_score(rf, train.iloc[:, 1:21], train['poi'], cv=5).mean()"
   ]
  },
  {
   "cell_type": "markdown",
   "metadata": {},
   "source": [
    ">**Feature Importances**"
   ]
  },
  {
   "cell_type": "code",
   "execution_count": null,
   "metadata": {},
   "outputs": [],
   "source": [
    "pd.DataFrame(rf.feature_importances_, index=list(train.columns[1:21]), columns=['Importances']).sort_values(by='Importances',ascending=False)\\\n",
    ".tail()"
   ]
  },
  {
   "cell_type": "markdown",
   "metadata": {},
   "source": [
    "### GradientBoostingClassifier"
   ]
  },
  {
   "cell_type": "code",
   "execution_count": 44,
   "metadata": {},
   "outputs": [
    {
     "data": {
      "text/plain": [
       "0.8241106719367588"
      ]
     },
     "execution_count": 44,
     "metadata": {},
     "output_type": "execute_result"
    }
   ],
   "source": [
    "#basic\n",
    "gb = GradientBoostingClassifier(random_state=42)\n",
    "gb.fit(train.iloc[:, 1:21], train['poi'])\n",
    "cross_val_score(gb, train.iloc[:, 1:21], train['poi'], cv=5).mean()"
   ]
  },
  {
   "cell_type": "markdown",
   "metadata": {},
   "source": [
    "GridSearch cost too much times, try RandomSearch."
   ]
  },
  {
   "cell_type": "code",
   "execution_count": null,
   "metadata": {},
   "outputs": [],
   "source": [
    "# # GridSearch\n",
    "# param_grid = {'learning_rate':[0.1, 0.3, 0.5],\n",
    "#              'n_estimators':[100, 200, 300],\n",
    "#              'subsample':[1.0, 0.5, 0.3, 0.1],\n",
    "#              'min_samples_split':[2, 5, 10],\n",
    "#              'min_samples_leaf':[1, 2, 4],\n",
    "#              'max_depth':[3, 6, 8],\n",
    "#              'tol':[0.01, 0.05, 0.1]}\n",
    "# gridsearch = GridSearchCV(gb, param_grid, n_jobs=-1, verbose=1)\n",
    "# grid_result = gridsearch.fit(train.iloc[:, 1:21], train['poi'])\n",
    "\n",
    "# print('Best Accuracy : {}\\nUsing {}'.format(grid_result.best_score_, grid_result.best_params_))"
   ]
  },
  {
   "cell_type": "code",
   "execution_count": 45,
   "metadata": {},
   "outputs": [
    {
     "name": "stdout",
     "output_type": "stream",
     "text": [
      "Best Accuracy : 0.8936758893280633\n",
      "Using GradientBoostingClassifier(criterion='friedman_mse', init=None,\n",
      "                           learning_rate=0.1, loss='deviance', max_depth=6,\n",
      "                           max_features=None, max_leaf_nodes=None,\n",
      "                           min_impurity_decrease=0.0, min_impurity_split=None,\n",
      "                           min_samples_leaf=4, min_samples_split=2,\n",
      "                           min_weight_fraction_leaf=0.0, n_estimators=300,\n",
      "                           n_iter_no_change=None, presort='auto',\n",
      "                           random_state=42, subsample=1.0, tol=0.01,\n",
      "                           validation_fraction=0.1, verbose=0,\n",
      "                           warm_start=False)\n"
     ]
    }
   ],
   "source": [
    "#RandomSearch\n",
    "from sklearn.model_selection import RandomizedSearchCV\n",
    "param_grid = {'learning_rate':[0.1, 0.3, 0.5],\n",
    "             'n_estimators':[100, 200, 300],\n",
    "             'subsample':[1.0, 0.5, 0.3, 0.1],\n",
    "             'min_samples_split':[2, 5, 10],\n",
    "             'min_samples_leaf':[1, 2, 4],\n",
    "             'max_depth':[3, 6, 8],\n",
    "             'tol':[0.01, 0.05, 0.1]}\n",
    "random_search = RandomizedSearchCV(gb, param_grid, n_iter=20, cv=5, iid=False)\n",
    "random_result = random_search.fit(train.iloc[:, 1:21], train['poi'])\n",
    "\n",
    "print('Best Accuracy : {}\\nUsing {}'.format(random_result.best_score_, random_result.best_estimator_))"
   ]
  },
  {
   "cell_type": "code",
   "execution_count": 46,
   "metadata": {},
   "outputs": [
    {
     "data": {
      "text/plain": [
       "0.8936758893280633"
      ]
     },
     "execution_count": 46,
     "metadata": {},
     "output_type": "execute_result"
    }
   ],
   "source": [
    "#hyper\n",
    "gb = GradientBoostingClassifier(criterion='friedman_mse', init=None,\n",
    "                           learning_rate=0.1, loss='deviance', max_depth=6,\n",
    "                           max_features=None, max_leaf_nodes=None,\n",
    "                           min_impurity_decrease=0.0, min_impurity_split=None,\n",
    "                           min_samples_leaf=4, min_samples_split=2,\n",
    "                           min_weight_fraction_leaf=0.0, n_estimators=300,\n",
    "                           n_iter_no_change=None, presort='auto',\n",
    "                           random_state=42, subsample=1.0, tol=0.01,\n",
    "                           validation_fraction=0.1, verbose=0,\n",
    "                           warm_start=False)\n",
    "gb.fit(train.iloc[:, 1:21], train['poi'])\n",
    "cross_val_score(gb, train.iloc[:, 1:21], train['poi'], cv=5).mean()"
   ]
  },
  {
   "cell_type": "markdown",
   "metadata": {},
   "source": [
    ">**Feature Importances**"
   ]
  },
  {
   "cell_type": "code",
   "execution_count": null,
   "metadata": {},
   "outputs": [],
   "source": [
    "pd.DataFrame(gb.feature_importances_, index=list(train.columns[1:21]), columns=['Importances']).sort_values(by='Importances',ascending=False)\\\n",
    ".tail()"
   ]
  },
  {
   "cell_type": "markdown",
   "metadata": {},
   "source": [
    "### XGB"
   ]
  },
  {
   "cell_type": "code",
   "execution_count": 47,
   "metadata": {},
   "outputs": [
    {
     "data": {
      "text/plain": [
       "0.875889328063241"
      ]
     },
     "execution_count": 47,
     "metadata": {},
     "output_type": "execute_result"
    }
   ],
   "source": [
    "from xgboost import XGBClassifier\n",
    "xgb = XGBClassifier()\n",
    "xgb.fit(train.iloc[:, 1:21], train['poi'])\n",
    "cross_val_score(xgb, train.iloc[:, 1:21], train['poi'], cv=5).mean()"
   ]
  },
  {
   "cell_type": "code",
   "execution_count": 48,
   "metadata": {},
   "outputs": [
    {
     "name": "stdout",
     "output_type": "stream",
     "text": [
      "Fitting 5 folds for each of 405 candidates, totalling 2025 fits\n"
     ]
    },
    {
     "name": "stderr",
     "output_type": "stream",
     "text": [
      "[Parallel(n_jobs=-1)]: Using backend LokyBackend with 8 concurrent workers.\n",
      "[Parallel(n_jobs=-1)]: Done  88 tasks      | elapsed:    0.7s\n",
      "[Parallel(n_jobs=-1)]: Done 688 tasks      | elapsed:    4.8s\n",
      "[Parallel(n_jobs=-1)]: Done 1688 tasks      | elapsed:   13.0s\n"
     ]
    },
    {
     "name": "stdout",
     "output_type": "stream",
     "text": [
      "Best Accuracy : 0.8938053097345132\n",
      "Using {'gamma': 1, 'max_depth': 4, 'min_child_weight': 1, 'n_estimators': 200, 'subsample': 0.8}\n"
     ]
    },
    {
     "name": "stderr",
     "output_type": "stream",
     "text": [
      "[Parallel(n_jobs=-1)]: Done 2025 out of 2025 | elapsed:   15.5s finished\n",
      "C:\\Users\\camer\\Anaconda3\\lib\\site-packages\\sklearn\\model_selection\\_search.py:813: DeprecationWarning: The default of the `iid` parameter will change from True to False in version 0.22 and will be removed in 0.24. This will change numeric results when test-set sizes are unequal.\n",
      "  DeprecationWarning)\n"
     ]
    }
   ],
   "source": [
    "#GridSearch\n",
    "param_grid = {'n_estimators':[100, 200, 300],\n",
    "              'min_child_weight':[1, 5, 10],\n",
    "             'gamma':[0.5, 1, 1.5, 2, 5],\n",
    "             'subsample':[0.6, 0.8, 1.0],\n",
    "             'max_depth':[3, 4, 5]}\n",
    "gridsearch = GridSearchCV(xgb, param_grid, cv=5, n_jobs=-1, verbose=1)\n",
    "grid_result = gridsearch.fit(train.iloc[:,1:21], train['poi'])\n",
    "print('Best Accuracy : {}\\nUsing {}'.format(grid_result.best_score_, grid_result.best_params_) )"
   ]
  },
  {
   "cell_type": "code",
   "execution_count": 49,
   "metadata": {},
   "outputs": [
    {
     "data": {
      "text/plain": [
       "0.8936758893280633"
      ]
     },
     "execution_count": 49,
     "metadata": {},
     "output_type": "execute_result"
    }
   ],
   "source": [
    "#hyper\n",
    "xgb = XGBClassifier(gamma=1, max_depth=4, min_child_weight=1, n_estimators=200, subsample=0.8)\n",
    "xgb.fit(train.iloc[:, 1:21], train['poi'])\n",
    "cross_val_score(xgb, train.iloc[:, 1:21], train['poi'], cv=5).mean()"
   ]
  },
  {
   "cell_type": "markdown",
   "metadata": {},
   "source": [
    ">**Feature Importances**"
   ]
  },
  {
   "cell_type": "code",
   "execution_count": null,
   "metadata": {},
   "outputs": [],
   "source": [
    "pd.DataFrame(xgb.feature_importances_, index=list(train.columns[1:21]), columns=['Importances']).sort_values(by='Importances',ascending=False)\\\n",
    ".head(10)"
   ]
  },
  {
   "cell_type": "markdown",
   "metadata": {},
   "source": [
    "### LightGBM"
   ]
  },
  {
   "cell_type": "code",
   "execution_count": 168,
   "metadata": {},
   "outputs": [
    {
     "data": {
      "text/plain": [
       "0.8770750988142293"
      ]
     },
     "execution_count": 168,
     "metadata": {},
     "output_type": "execute_result"
    }
   ],
   "source": [
    "from lightgbm import LGBMClassifier\n",
    "lgbm = LGBMClassifier(objective='binary')\n",
    "lgbm.fit(train.iloc[:, 1:21], train['poi'])\n",
    "cross_val_score(lgbm, train.iloc[:, 1:21], train['poi'], cv=5).mean()"
   ]
  },
  {
   "cell_type": "code",
   "execution_count": 169,
   "metadata": {},
   "outputs": [
    {
     "name": "stdout",
     "output_type": "stream",
     "text": [
      "Fitting 5 folds for each of 1728 candidates, totalling 8640 fits\n"
     ]
    },
    {
     "name": "stderr",
     "output_type": "stream",
     "text": [
      "[Parallel(n_jobs=-1)]: Using backend LokyBackend with 8 concurrent workers.\n",
      "[Parallel(n_jobs=-1)]: Done 196 tasks      | elapsed:    1.7s\n",
      "[Parallel(n_jobs=-1)]: Done 1696 tasks      | elapsed:   14.3s\n",
      "[Parallel(n_jobs=-1)]: Done 4196 tasks      | elapsed:   35.0s\n",
      "[Parallel(n_jobs=-1)]: Done 7696 tasks      | elapsed:  1.1min\n"
     ]
    },
    {
     "name": "stdout",
     "output_type": "stream",
     "text": [
      "Best Accuracy :0.8849557522123894\n",
      "Using {'colsample_bytree': 0.3, 'learning_rate': 0.03, 'max_depth': 3, 'n_estimators': 100, 'num_leaves': 5, 'subsample': 0.3}\n"
     ]
    },
    {
     "name": "stderr",
     "output_type": "stream",
     "text": [
      "[Parallel(n_jobs=-1)]: Done 8640 out of 8640 | elapsed:  1.3min finished\n"
     ]
    }
   ],
   "source": [
    "#GridSearch\n",
    "param_grid = {'max_depth':[3, 4, 5],\n",
    "              'num_leaves':[5, 15, 30],\n",
    "             'learning_rate':[0.03, 0.05, 0.1],\n",
    "             'n_estimators':[100, 200, 500, 1000],\n",
    "             'subsample':[0.3, 0.5, 0.8, 1.0],\n",
    "             'colsample_bytree':[0.3, 0.5, 0.8, 1.0]}\n",
    "grid_search = GridSearchCV(lgbm, param_grid, cv=5, n_jobs=-1, verbose=1)\n",
    "grid_result = grid_search.fit(train.iloc[:, 1:21], train['poi'])\n",
    "print('Best Accuracy :{}\\nUsing {}'.format(grid_result.best_score_, grid_result.best_params_) )"
   ]
  },
  {
   "cell_type": "code",
   "execution_count": null,
   "metadata": {},
   "outputs": [],
   "source": [
    "#hyper\n",
    "lgbm = LGBMClassifier(objective='binary', learning_rate=0.05, max_depth=3, n_estimators=100, subsample=0.5)\n",
    "lgbm.fit(train.iloc[:, 1:21], train['poi'])\n",
    "cross_val_score(lgbm, train.iloc[:, 1:21], train['poi'], cv=5).mean()"
   ]
  },
  {
   "cell_type": "code",
   "execution_count": 170,
   "metadata": {},
   "outputs": [
    {
     "data": {
      "text/plain": [
       "0.8849802371541502"
      ]
     },
     "execution_count": 170,
     "metadata": {},
     "output_type": "execute_result"
    }
   ],
   "source": [
    "#hyper2\n",
    "lgbm = LGBMClassifier(objective='binary', learning_rate=0.03, max_depth=3, num_leaves=5, n_estimators=100, subsample=0.3, colsample_bytree=0.3)\n",
    "lgbm.fit(train.iloc[:, 1:21], train['poi'])\n",
    "cross_val_score(lgbm, train.iloc[:, 1:21], train['poi'], cv=5).mean()"
   ]
  },
  {
   "cell_type": "code",
   "execution_count": 171,
   "metadata": {},
   "outputs": [
    {
     "data": {
      "text/html": [
       "<div>\n",
       "<style scoped>\n",
       "    .dataframe tbody tr th:only-of-type {\n",
       "        vertical-align: middle;\n",
       "    }\n",
       "\n",
       "    .dataframe tbody tr th {\n",
       "        vertical-align: top;\n",
       "    }\n",
       "\n",
       "    .dataframe thead th {\n",
       "        text-align: right;\n",
       "    }\n",
       "</style>\n",
       "<table border=\"1\" class=\"dataframe\">\n",
       "  <thead>\n",
       "    <tr style=\"text-align: right;\">\n",
       "      <th></th>\n",
       "      <th>Importances</th>\n",
       "    </tr>\n",
       "  </thead>\n",
       "  <tbody>\n",
       "    <tr>\n",
       "      <th>other</th>\n",
       "      <td>40</td>\n",
       "    </tr>\n",
       "    <tr>\n",
       "      <th>from_this_person_to_poi</th>\n",
       "      <td>36</td>\n",
       "    </tr>\n",
       "    <tr>\n",
       "      <th>restricted_stock</th>\n",
       "      <td>26</td>\n",
       "    </tr>\n",
       "    <tr>\n",
       "      <th>shared_receipt_with_poi</th>\n",
       "      <td>25</td>\n",
       "    </tr>\n",
       "    <tr>\n",
       "      <th>from_poi_to_this_person</th>\n",
       "      <td>24</td>\n",
       "    </tr>\n",
       "    <tr>\n",
       "      <th>expenses</th>\n",
       "      <td>23</td>\n",
       "    </tr>\n",
       "    <tr>\n",
       "      <th>from_messages</th>\n",
       "      <td>22</td>\n",
       "    </tr>\n",
       "    <tr>\n",
       "      <th>total_stock_value</th>\n",
       "      <td>21</td>\n",
       "    </tr>\n",
       "    <tr>\n",
       "      <th>exercised_stock_options</th>\n",
       "      <td>21</td>\n",
       "    </tr>\n",
       "    <tr>\n",
       "      <th>to_messages</th>\n",
       "      <td>19</td>\n",
       "    </tr>\n",
       "    <tr>\n",
       "      <th>total_payments</th>\n",
       "      <td>17</td>\n",
       "    </tr>\n",
       "    <tr>\n",
       "      <th>salary</th>\n",
       "      <td>14</td>\n",
       "    </tr>\n",
       "    <tr>\n",
       "      <th>email_address</th>\n",
       "      <td>14</td>\n",
       "    </tr>\n",
       "    <tr>\n",
       "      <th>deferred_income</th>\n",
       "      <td>13</td>\n",
       "    </tr>\n",
       "    <tr>\n",
       "      <th>bonus</th>\n",
       "      <td>3</td>\n",
       "    </tr>\n",
       "    <tr>\n",
       "      <th>long_term_incentive</th>\n",
       "      <td>2</td>\n",
       "    </tr>\n",
       "    <tr>\n",
       "      <th>deferral_payments</th>\n",
       "      <td>0</td>\n",
       "    </tr>\n",
       "    <tr>\n",
       "      <th>restricted_stock_deferred</th>\n",
       "      <td>0</td>\n",
       "    </tr>\n",
       "    <tr>\n",
       "      <th>loan_advances</th>\n",
       "      <td>0</td>\n",
       "    </tr>\n",
       "    <tr>\n",
       "      <th>director_fees</th>\n",
       "      <td>0</td>\n",
       "    </tr>\n",
       "  </tbody>\n",
       "</table>\n",
       "</div>"
      ],
      "text/plain": [
       "                           Importances\n",
       "other                               40\n",
       "from_this_person_to_poi             36\n",
       "restricted_stock                    26\n",
       "shared_receipt_with_poi             25\n",
       "from_poi_to_this_person             24\n",
       "expenses                            23\n",
       "from_messages                       22\n",
       "total_stock_value                   21\n",
       "exercised_stock_options             21\n",
       "to_messages                         19\n",
       "total_payments                      17\n",
       "salary                              14\n",
       "email_address                       14\n",
       "deferred_income                     13\n",
       "bonus                                3\n",
       "long_term_incentive                  2\n",
       "deferral_payments                    0\n",
       "restricted_stock_deferred            0\n",
       "loan_advances                        0\n",
       "director_fees                        0"
      ]
     },
     "execution_count": 171,
     "metadata": {},
     "output_type": "execute_result"
    }
   ],
   "source": [
    "pd.DataFrame(lgbm.feature_importances_, index=list(train.columns[1:21]), columns=['Importances']).sort_values(by='Importances',ascending=False)"
   ]
  },
  {
   "cell_type": "markdown",
   "metadata": {},
   "source": [
    "----\n",
    "## For submit"
   ]
  },
  {
   "cell_type": "code",
   "execution_count": 172,
   "metadata": {},
   "outputs": [
    {
     "data": {
      "text/plain": [
       "array([0.3144446 , 0.21076811, 0.53928842, 0.13123005, 0.5371952 ,\n",
       "       0.15350984, 0.53393922, 0.12047342, 0.05727713, 0.01119118,\n",
       "       0.03958033, 0.47068437, 0.01208471, 0.41192667, 0.03968819,\n",
       "       0.04099959, 0.06335358, 0.24531516, 0.1555769 , 0.01305135,\n",
       "       0.23130732, 0.01208579, 0.07309114, 0.00961503, 0.08357629,\n",
       "       0.18726447, 0.04615399, 0.00758233, 0.37733292, 0.02373364,\n",
       "       0.07776151, 0.01720861, 0.28255908])"
      ]
     },
     "execution_count": 172,
     "metadata": {},
     "output_type": "execute_result"
    }
   ],
   "source": [
    "#hyper2\n",
    "y_predLGBM = lgbm.predict_proba(test.iloc[:, 1:21])[:, 1]\n",
    "y_predLGBM"
   ]
  },
  {
   "cell_type": "code",
   "execution_count": null,
   "metadata": {},
   "outputs": [],
   "source": [
    "y_pred = lgbm.predict_proba(test.iloc[:, 1:21])[:, 1]\n",
    "y_pred"
   ]
  },
  {
   "cell_type": "code",
   "execution_count": 86,
   "metadata": {},
   "outputs": [
    {
     "data": {
      "text/plain": [
       "array([0.24739794, 0.39846393, 0.7804927 , 0.05959484, 0.6354734 ,\n",
       "       0.20070498, 0.79763156, 0.1345942 , 0.04016751, 0.00621949,\n",
       "       0.01861724, 0.5128177 , 0.00665092, 0.6795713 , 0.04979885,\n",
       "       0.01577602, 0.46532384, 0.21725081, 0.1112821 , 0.00755477,\n",
       "       0.5878565 , 0.00754496, 0.04200055, 0.00665092, 0.05421118,\n",
       "       0.11295754, 0.06090789, 0.00665031, 0.82276756, 0.02177704,\n",
       "       0.02251694, 0.01523102, 0.14203408], dtype=float32)"
      ]
     },
     "execution_count": 86,
     "metadata": {},
     "output_type": "execute_result"
    }
   ],
   "source": [
    "y_predXGB = xgb.predict_proba(test.iloc[:, 1:21])[:, 1]\n",
    "y_predXGB"
   ]
  },
  {
   "cell_type": "code",
   "execution_count": 87,
   "metadata": {},
   "outputs": [
    {
     "data": {
      "text/plain": [
       "array([5.85303659e-03, 2.65238978e-01, 9.70653324e-01, 3.89135490e-05,\n",
       "       6.93962323e-01, 4.33342788e-02, 1.12534839e-01, 1.95210467e-02,\n",
       "       5.51979823e-04, 9.95833534e-05, 3.41764201e-05, 6.12528647e-01,\n",
       "       1.48452882e-05, 2.60314388e-01, 1.26447540e-04, 9.16773408e-05,\n",
       "       9.55634870e-01, 2.15876811e-03, 8.48114818e-04, 2.50865599e-05,\n",
       "       2.71485238e-01, 2.91513093e-05, 1.66845624e-04, 1.62785535e-05,\n",
       "       2.94383561e-04, 5.76030332e-03, 2.72349344e-02, 1.63228582e-05,\n",
       "       9.96802467e-01, 1.44684636e-04, 3.12709650e-05, 2.28969607e-05,\n",
       "       1.44493373e-04])"
      ]
     },
     "execution_count": 87,
     "metadata": {},
     "output_type": "execute_result"
    }
   ],
   "source": [
    "y_predGB = gb.predict_proba(test.iloc[:, 1:21])[:,1]\n",
    "y_predGB"
   ]
  },
  {
   "cell_type": "code",
   "execution_count": 88,
   "metadata": {},
   "outputs": [
    {
     "data": {
      "text/plain": [
       "array([0.26913194, 0.24422623, 0.28910954, 0.20918693, 0.37380696,\n",
       "       0.2320333 , 0.57793447, 0.12197405, 0.09643663, 0.02347494,\n",
       "       0.03648096, 0.36103647, 0.01037221, 0.32026251, 0.08602848,\n",
       "       0.02503054, 0.38744812, 0.13271338, 0.39862849, 0.01715186,\n",
       "       0.3232606 , 0.00694363, 0.05661488, 0.00694363, 0.06512999,\n",
       "       0.1372688 , 0.12241826, 0.02112102, 0.79154283, 0.03526665,\n",
       "       0.02250874, 0.02176122, 0.06518726])"
      ]
     },
     "execution_count": 88,
     "metadata": {},
     "output_type": "execute_result"
    }
   ],
   "source": [
    "y_predRF = rf.predict_proba(test.iloc[:, 1:21])[:,1]\n",
    "y_predRF"
   ]
  },
  {
   "cell_type": "code",
   "execution_count": 179,
   "metadata": {},
   "outputs": [
    {
     "data": {
      "text/plain": [
       "array([0.45938724, 0.46908272, 0.47765722, 0.49140174, 0.46736984,\n",
       "       0.48853654, 0.47422555, 0.48452655, 0.46166604, 0.46736984,\n",
       "       0.48395385, 0.4862449 , 0.482236  , 0.482236  , 0.47422555,\n",
       "       0.46851168, 0.46280605, 0.47022504, 0.48109099, 0.49254799,\n",
       "       0.48395385, 0.5       , 0.5       , 0.5       , 0.4588178 ,\n",
       "       0.48166347, 0.48910952, 0.4862449 , 0.5       , 0.48109099,\n",
       "       0.47708512, 0.5       , 0.45824847])"
      ]
     },
     "execution_count": 179,
     "metadata": {},
     "output_type": "execute_result"
    }
   ],
   "source": [
    "y_predLR = lr.predict_proba(test.iloc[:, 1:21])[:,1]\n",
    "y_predLR"
   ]
  },
  {
   "cell_type": "markdown",
   "metadata": {},
   "source": [
    "## Blending"
   ]
  },
  {
   "cell_type": "code",
   "execution_count": 90,
   "metadata": {},
   "outputs": [],
   "source": [
    "y_pred = y_predLGBM *0.67 + y_predRF * 0.03 + y_predLR * 0.30"
   ]
  },
  {
   "cell_type": "code",
   "execution_count": 173,
   "metadata": {},
   "outputs": [
    {
     "data": {
      "text/html": [
       "<div>\n",
       "<style scoped>\n",
       "    .dataframe tbody tr th:only-of-type {\n",
       "        vertical-align: middle;\n",
       "    }\n",
       "\n",
       "    .dataframe tbody tr th {\n",
       "        vertical-align: top;\n",
       "    }\n",
       "\n",
       "    .dataframe thead th {\n",
       "        text-align: right;\n",
       "    }\n",
       "</style>\n",
       "<table border=\"1\" class=\"dataframe\">\n",
       "  <thead>\n",
       "    <tr style=\"text-align: right;\">\n",
       "      <th></th>\n",
       "      <th>name</th>\n",
       "      <th>poi</th>\n",
       "    </tr>\n",
       "  </thead>\n",
       "  <tbody>\n",
       "    <tr>\n",
       "      <th>0</th>\n",
       "      <td>BELDEN TIMOTHY N</td>\n",
       "      <td>0.314445</td>\n",
       "    </tr>\n",
       "    <tr>\n",
       "      <th>1</th>\n",
       "      <td>BOWEN JR RAYMOND M</td>\n",
       "      <td>0.210768</td>\n",
       "    </tr>\n",
       "    <tr>\n",
       "      <th>2</th>\n",
       "      <td>HANNON KEVIN P</td>\n",
       "      <td>0.539288</td>\n",
       "    </tr>\n",
       "    <tr>\n",
       "      <th>3</th>\n",
       "      <td>DELAINEY DAVID W</td>\n",
       "      <td>0.131230</td>\n",
       "    </tr>\n",
       "    <tr>\n",
       "      <th>4</th>\n",
       "      <td>CAUSEY RICHARD A</td>\n",
       "      <td>0.537195</td>\n",
       "    </tr>\n",
       "    <tr>\n",
       "      <th>5</th>\n",
       "      <td>HICKERSON GARY J</td>\n",
       "      <td>0.153510</td>\n",
       "    </tr>\n",
       "    <tr>\n",
       "      <th>6</th>\n",
       "      <td>FREVERT MARK A</td>\n",
       "      <td>0.533939</td>\n",
       "    </tr>\n",
       "    <tr>\n",
       "      <th>7</th>\n",
       "      <td>DONAHUE JR JEFFREY M</td>\n",
       "      <td>0.120473</td>\n",
       "    </tr>\n",
       "    <tr>\n",
       "      <th>8</th>\n",
       "      <td>HORTON STANLEY C</td>\n",
       "      <td>0.057277</td>\n",
       "    </tr>\n",
       "    <tr>\n",
       "      <th>9</th>\n",
       "      <td>LEWIS RICHARD</td>\n",
       "      <td>0.011191</td>\n",
       "    </tr>\n",
       "    <tr>\n",
       "      <th>10</th>\n",
       "      <td>SHERRICK JEFFREY B</td>\n",
       "      <td>0.039580</td>\n",
       "    </tr>\n",
       "    <tr>\n",
       "      <th>11</th>\n",
       "      <td>DERRICK JR. JAMES V</td>\n",
       "      <td>0.470684</td>\n",
       "    </tr>\n",
       "    <tr>\n",
       "      <th>12</th>\n",
       "      <td>PIRO JIM</td>\n",
       "      <td>0.012085</td>\n",
       "    </tr>\n",
       "    <tr>\n",
       "      <th>13</th>\n",
       "      <td>FALLON JAMES B</td>\n",
       "      <td>0.411927</td>\n",
       "    </tr>\n",
       "    <tr>\n",
       "      <th>14</th>\n",
       "      <td>METTS MARK</td>\n",
       "      <td>0.039688</td>\n",
       "    </tr>\n",
       "    <tr>\n",
       "      <th>15</th>\n",
       "      <td>CARTER REBECCA C</td>\n",
       "      <td>0.041000</td>\n",
       "    </tr>\n",
       "    <tr>\n",
       "      <th>16</th>\n",
       "      <td>BHATNAGAR SANJAY</td>\n",
       "      <td>0.063354</td>\n",
       "    </tr>\n",
       "    <tr>\n",
       "      <th>17</th>\n",
       "      <td>BIBI PHILIPPE A</td>\n",
       "      <td>0.245315</td>\n",
       "    </tr>\n",
       "    <tr>\n",
       "      <th>18</th>\n",
       "      <td>SHERRIFF JOHN R</td>\n",
       "      <td>0.155577</td>\n",
       "    </tr>\n",
       "    <tr>\n",
       "      <th>19</th>\n",
       "      <td>GIBBS DANA R</td>\n",
       "      <td>0.013051</td>\n",
       "    </tr>\n",
       "    <tr>\n",
       "      <th>20</th>\n",
       "      <td>MCMAHON JEFFREY</td>\n",
       "      <td>0.231307</td>\n",
       "    </tr>\n",
       "    <tr>\n",
       "      <th>21</th>\n",
       "      <td>CHAN RONNIE</td>\n",
       "      <td>0.012086</td>\n",
       "    </tr>\n",
       "    <tr>\n",
       "      <th>22</th>\n",
       "      <td>REYNOLDS LAWRENCE</td>\n",
       "      <td>0.073091</td>\n",
       "    </tr>\n",
       "    <tr>\n",
       "      <th>23</th>\n",
       "      <td>MEYER JEROME J</td>\n",
       "      <td>0.009615</td>\n",
       "    </tr>\n",
       "    <tr>\n",
       "      <th>24</th>\n",
       "      <td>DETMERING TIMOTHY J</td>\n",
       "      <td>0.083576</td>\n",
       "    </tr>\n",
       "    <tr>\n",
       "      <th>25</th>\n",
       "      <td>KISHKILL JOSEPH G</td>\n",
       "      <td>0.187264</td>\n",
       "    </tr>\n",
       "    <tr>\n",
       "      <th>26</th>\n",
       "      <td>BAY FRANKLIN R</td>\n",
       "      <td>0.046154</td>\n",
       "    </tr>\n",
       "    <tr>\n",
       "      <th>27</th>\n",
       "      <td>PRENTICE JAMES</td>\n",
       "      <td>0.007582</td>\n",
       "    </tr>\n",
       "    <tr>\n",
       "      <th>28</th>\n",
       "      <td>TOTAL</td>\n",
       "      <td>0.377333</td>\n",
       "    </tr>\n",
       "    <tr>\n",
       "      <th>29</th>\n",
       "      <td>WODRASKA JOHN</td>\n",
       "      <td>0.023734</td>\n",
       "    </tr>\n",
       "    <tr>\n",
       "      <th>30</th>\n",
       "      <td>MORDAUNT KRISTINA M</td>\n",
       "      <td>0.077762</td>\n",
       "    </tr>\n",
       "    <tr>\n",
       "      <th>31</th>\n",
       "      <td>WALTERS GARETH W</td>\n",
       "      <td>0.017209</td>\n",
       "    </tr>\n",
       "    <tr>\n",
       "      <th>32</th>\n",
       "      <td>LINDHOLM TOD A</td>\n",
       "      <td>0.282559</td>\n",
       "    </tr>\n",
       "  </tbody>\n",
       "</table>\n",
       "</div>"
      ],
      "text/plain": [
       "                    name       poi\n",
       "0       BELDEN TIMOTHY N  0.314445\n",
       "1     BOWEN JR RAYMOND M  0.210768\n",
       "2         HANNON KEVIN P  0.539288\n",
       "3       DELAINEY DAVID W  0.131230\n",
       "4       CAUSEY RICHARD A  0.537195\n",
       "5       HICKERSON GARY J  0.153510\n",
       "6         FREVERT MARK A  0.533939\n",
       "7   DONAHUE JR JEFFREY M  0.120473\n",
       "8       HORTON STANLEY C  0.057277\n",
       "9          LEWIS RICHARD  0.011191\n",
       "10    SHERRICK JEFFREY B  0.039580\n",
       "11   DERRICK JR. JAMES V  0.470684\n",
       "12              PIRO JIM  0.012085\n",
       "13        FALLON JAMES B  0.411927\n",
       "14            METTS MARK  0.039688\n",
       "15      CARTER REBECCA C  0.041000\n",
       "16      BHATNAGAR SANJAY  0.063354\n",
       "17       BIBI PHILIPPE A  0.245315\n",
       "18       SHERRIFF JOHN R  0.155577\n",
       "19          GIBBS DANA R  0.013051\n",
       "20       MCMAHON JEFFREY  0.231307\n",
       "21           CHAN RONNIE  0.012086\n",
       "22     REYNOLDS LAWRENCE  0.073091\n",
       "23        MEYER JEROME J  0.009615\n",
       "24   DETMERING TIMOTHY J  0.083576\n",
       "25     KISHKILL JOSEPH G  0.187264\n",
       "26        BAY FRANKLIN R  0.046154\n",
       "27        PRENTICE JAMES  0.007582\n",
       "28                 TOTAL  0.377333\n",
       "29         WODRASKA JOHN  0.023734\n",
       "30   MORDAUNT KRISTINA M  0.077762\n",
       "31      WALTERS GARETH W  0.017209\n",
       "32        LINDHOLM TOD A  0.282559"
      ]
     },
     "execution_count": 173,
     "metadata": {},
     "output_type": "execute_result"
    }
   ],
   "source": [
    "submit = pd.DataFrame({'name':test['name'],\n",
    "                     'poi':y_pred})\n",
    "submit"
   ]
  },
  {
   "cell_type": "code",
   "execution_count": 174,
   "metadata": {},
   "outputs": [],
   "source": [
    "submit.to_csv('Kaggle_test_HW.csv', index=False)"
   ]
  },
  {
   "cell_type": "code",
   "execution_count": 175,
   "metadata": {},
   "outputs": [],
   "source": [
    "take = pd.read_csv('./3rd-ml100marathon-midterm/test_features.csv')['name']\n",
    "ending = pd.merge(take, submit, on='name')\n",
    "ending.to_csv('Kaggle_test_HWmessage_pred_LGBM.csv', index=False)"
   ]
  },
  {
   "cell_type": "code",
   "execution_count": null,
   "metadata": {},
   "outputs": [],
   "source": []
  }
 ],
 "metadata": {
  "kernelspec": {
   "display_name": "Python 3",
   "language": "python",
   "name": "python3"
  },
  "language_info": {
   "codemirror_mode": {
    "name": "ipython",
    "version": 3
   },
   "file_extension": ".py",
   "mimetype": "text/x-python",
   "name": "python",
   "nbconvert_exporter": "python",
   "pygments_lexer": "ipython3",
   "version": "3.7.3"
  }
 },
 "nbformat": 4,
 "nbformat_minor": 2
}
