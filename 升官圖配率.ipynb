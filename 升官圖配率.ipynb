{
 "cells": [
  {
   "cell_type": "code",
   "execution_count": 213,
   "metadata": {},
   "outputs": [],
   "source": [
    "import pandas as pd\n",
    "import numpy as np\n",
    "\n",
    "data = pd.read_csv('./備捨棄 - 工作表1.csv')"
   ]
  },
  {
   "cell_type": "code",
   "execution_count": 214,
   "metadata": {},
   "outputs": [
    {
     "data": {
      "text/html": [
       "<div>\n",
       "<style scoped>\n",
       "    .dataframe tbody tr th:only-of-type {\n",
       "        vertical-align: middle;\n",
       "    }\n",
       "\n",
       "    .dataframe tbody tr th {\n",
       "        vertical-align: top;\n",
       "    }\n",
       "\n",
       "    .dataframe thead th {\n",
       "        text-align: right;\n",
       "    }\n",
       "</style>\n",
       "<table border=\"1\" class=\"dataframe\">\n",
       "  <thead>\n",
       "    <tr style=\"text-align: right;\">\n",
       "      <th></th>\n",
       "      <th>組合</th>\n",
       "      <th>組合占比</th>\n",
       "      <th>卡片名稱</th>\n",
       "      <th>卡片種類</th>\n",
       "      <th>卡片總量</th>\n",
       "    </tr>\n",
       "  </thead>\n",
       "  <tbody>\n",
       "    <tr>\n",
       "      <th>0</th>\n",
       "      <td>A</td>\n",
       "      <td>60%</td>\n",
       "      <td>卡片N</td>\n",
       "      <td>6</td>\n",
       "      <td>180000</td>\n",
       "    </tr>\n",
       "    <tr>\n",
       "      <th>1</th>\n",
       "      <td>A</td>\n",
       "      <td>35%</td>\n",
       "      <td>卡片R</td>\n",
       "      <td>6</td>\n",
       "      <td>105000</td>\n",
       "    </tr>\n",
       "    <tr>\n",
       "      <th>2</th>\n",
       "      <td>A</td>\n",
       "      <td>5%</td>\n",
       "      <td>卡片SR</td>\n",
       "      <td>6</td>\n",
       "      <td>15000</td>\n",
       "    </tr>\n",
       "    <tr>\n",
       "      <th>3</th>\n",
       "      <td>B</td>\n",
       "      <td>22.80%</td>\n",
       "      <td>事件卡A</td>\n",
       "      <td>15</td>\n",
       "      <td>91200</td>\n",
       "    </tr>\n",
       "    <tr>\n",
       "      <th>4</th>\n",
       "      <td>B</td>\n",
       "      <td>77.20%</td>\n",
       "      <td>事件卡B</td>\n",
       "      <td>19</td>\n",
       "      <td>308800</td>\n",
       "    </tr>\n",
       "    <tr>\n",
       "      <th>5</th>\n",
       "      <td>C</td>\n",
       "      <td>50%</td>\n",
       "      <td>勝利條件卡N</td>\n",
       "      <td>6</td>\n",
       "      <td>150000</td>\n",
       "    </tr>\n",
       "    <tr>\n",
       "      <th>6</th>\n",
       "      <td>C</td>\n",
       "      <td>50%</td>\n",
       "      <td>勝利條件卡SP</td>\n",
       "      <td>10</td>\n",
       "      <td>150000</td>\n",
       "    </tr>\n",
       "  </tbody>\n",
       "</table>\n",
       "</div>"
      ],
      "text/plain": [
       "  組合    組合占比     卡片名稱  卡片種類    卡片總量\n",
       "0  A     60%      卡片N     6  180000\n",
       "1  A     35%      卡片R     6  105000\n",
       "2  A      5%     卡片SR     6   15000\n",
       "3  B  22.80%     事件卡A    15   91200\n",
       "4  B  77.20%     事件卡B    19  308800\n",
       "5  C     50%   勝利條件卡N     6  150000\n",
       "6  C     50%  勝利條件卡SP    10  150000"
      ]
     },
     "execution_count": 214,
     "metadata": {},
     "output_type": "execute_result"
    }
   ],
   "source": [
    "data = data.drop(columns=['每模張數'])\n",
    "data.columns=['組合', '組合占比', '卡片名稱', '卡片種類', '卡片總量']\n",
    "data['組合'] = ['A', 'A', 'A', 'B', 'B', 'C', 'C']\n",
    "data"
   ]
  },
  {
   "cell_type": "markdown",
   "metadata": {},
   "source": [
    "# A組牌  配率\n",
    ">每包內含張數：3  \n",
    ">同一包卡片不重複，SR最多1張，R最多2張  \n",
    ">**SR為閃卡，獨立一版**"
   ]
  },
  {
   "cell_type": "code",
   "execution_count": 215,
   "metadata": {},
   "outputs": [
    {
     "data": {
      "text/html": [
       "<div>\n",
       "<style scoped>\n",
       "    .dataframe tbody tr th:only-of-type {\n",
       "        vertical-align: middle;\n",
       "    }\n",
       "\n",
       "    .dataframe tbody tr th {\n",
       "        vertical-align: top;\n",
       "    }\n",
       "\n",
       "    .dataframe thead th {\n",
       "        text-align: right;\n",
       "    }\n",
       "</style>\n",
       "<table border=\"1\" class=\"dataframe\">\n",
       "  <thead>\n",
       "    <tr style=\"text-align: right;\">\n",
       "      <th></th>\n",
       "      <th>組合</th>\n",
       "      <th>組合占比</th>\n",
       "      <th>卡片名稱</th>\n",
       "      <th>卡片種類</th>\n",
       "      <th>卡片總量</th>\n",
       "    </tr>\n",
       "  </thead>\n",
       "  <tbody>\n",
       "    <tr>\n",
       "      <th>2</th>\n",
       "      <td>A</td>\n",
       "      <td>5%</td>\n",
       "      <td>卡片SR</td>\n",
       "      <td>6</td>\n",
       "      <td>15000</td>\n",
       "    </tr>\n",
       "    <tr>\n",
       "      <th>1</th>\n",
       "      <td>A</td>\n",
       "      <td>35%</td>\n",
       "      <td>卡片R</td>\n",
       "      <td>6</td>\n",
       "      <td>105000</td>\n",
       "    </tr>\n",
       "    <tr>\n",
       "      <th>0</th>\n",
       "      <td>A</td>\n",
       "      <td>60%</td>\n",
       "      <td>卡片N</td>\n",
       "      <td>6</td>\n",
       "      <td>180000</td>\n",
       "    </tr>\n",
       "  </tbody>\n",
       "</table>\n",
       "</div>"
      ],
      "text/plain": [
       "  組合 組合占比  卡片名稱  卡片種類    卡片總量\n",
       "2  A   5%  卡片SR     6   15000\n",
       "1  A  35%   卡片R     6  105000\n",
       "0  A  60%   卡片N     6  180000"
      ]
     },
     "execution_count": 215,
     "metadata": {},
     "output_type": "execute_result"
    }
   ],
   "source": [
    "data_A = data[data['組合'] == 'A']\n",
    "data_A.sort_values(by='卡片總量')"
   ]
  },
  {
   "cell_type": "code",
   "execution_count": 216,
   "metadata": {},
   "outputs": [
    {
     "data": {
      "text/plain": [
       "'\\nPass this part\\n'"
      ]
     },
     "execution_count": 216,
     "metadata": {},
     "output_type": "execute_result"
    }
   ],
   "source": [
    "'''\n",
    "Pass this part\n",
    "'''"
   ]
  },
  {
   "cell_type": "markdown",
   "metadata": {},
   "source": [
    "# B組牌 配率\n",
    ">每包內含張數：4  \n",
    ">同一包卡片不重複，A最多1張\t"
   ]
  },
  {
   "cell_type": "code",
   "execution_count": 217,
   "metadata": {},
   "outputs": [
    {
     "data": {
      "text/html": [
       "<div>\n",
       "<style scoped>\n",
       "    .dataframe tbody tr th:only-of-type {\n",
       "        vertical-align: middle;\n",
       "    }\n",
       "\n",
       "    .dataframe tbody tr th {\n",
       "        vertical-align: top;\n",
       "    }\n",
       "\n",
       "    .dataframe thead th {\n",
       "        text-align: right;\n",
       "    }\n",
       "</style>\n",
       "<table border=\"1\" class=\"dataframe\">\n",
       "  <thead>\n",
       "    <tr style=\"text-align: right;\">\n",
       "      <th></th>\n",
       "      <th>組合</th>\n",
       "      <th>組合占比</th>\n",
       "      <th>卡片名稱</th>\n",
       "      <th>卡片種類</th>\n",
       "      <th>卡片總量</th>\n",
       "    </tr>\n",
       "  </thead>\n",
       "  <tbody>\n",
       "    <tr>\n",
       "      <th>0</th>\n",
       "      <td>B</td>\n",
       "      <td>22.80%</td>\n",
       "      <td>事件卡A</td>\n",
       "      <td>15</td>\n",
       "      <td>91200</td>\n",
       "    </tr>\n",
       "    <tr>\n",
       "      <th>1</th>\n",
       "      <td>B</td>\n",
       "      <td>77.20%</td>\n",
       "      <td>事件卡B</td>\n",
       "      <td>19</td>\n",
       "      <td>308800</td>\n",
       "    </tr>\n",
       "  </tbody>\n",
       "</table>\n",
       "</div>"
      ],
      "text/plain": [
       "  組合    組合占比  卡片名稱  卡片種類    卡片總量\n",
       "0  B  22.80%  事件卡A    15   91200\n",
       "1  B  77.20%  事件卡B    19  308800"
      ]
     },
     "execution_count": 217,
     "metadata": {},
     "output_type": "execute_result"
    }
   ],
   "source": [
    "data_B = data[data['組合'] == 'B']\n",
    "data_B = data_B.reset_index(drop=True)\n",
    "data_B"
   ]
  },
  {
   "cell_type": "code",
   "execution_count": 218,
   "metadata": {},
   "outputs": [
    {
     "data": {
      "text/plain": [
       "400000"
      ]
     },
     "execution_count": 218,
     "metadata": {},
     "output_type": "execute_result"
    }
   ],
   "source": [
    "total = data_B['卡片總量'].sum()\n",
    "total"
   ]
  },
  {
   "cell_type": "markdown",
   "metadata": {},
   "source": [
    "#### 占比分配"
   ]
  },
  {
   "cell_type": "code",
   "execution_count": 226,
   "metadata": {},
   "outputs": [
    {
     "data": {
      "text/plain": [
       "1700.0"
      ]
     },
     "execution_count": 226,
     "metadata": {},
     "output_type": "execute_result"
    }
   ],
   "source": [
    "'''自變數'''\n",
    "one_set = 4 #一套卡數\n",
    "one_sect = int(81/one_set) #一版套數\n",
    "sect = 3 #總版數\n",
    "\n",
    "\n",
    "'''應變數'''\n",
    "rounds = total / (one_set * one_sect * sect) #車數\n",
    "\n",
    "if rounds %100 != 0:\n",
    "    rounds = (rounds//100+1)*100\n",
    "else:\n",
    "    pass\n",
    "rounds"
   ]
  },
  {
   "cell_type": "code",
   "execution_count": 227,
   "metadata": {},
   "outputs": [
    {
     "data": {
      "text/plain": [
       "408000.0"
      ]
     },
     "execution_count": 227,
     "metadata": {},
     "output_type": "execute_result"
    }
   ],
   "source": [
    "true_total"
   ]
  },
  {
   "cell_type": "code",
   "execution_count": 361,
   "metadata": {},
   "outputs": [
    {
     "name": "stdout",
     "output_type": "stream",
     "text": [
      "A卡落版 3 組+ 10 款\n",
      "A卡實際機率：22.9167%\n",
      "機率差值：0.1167%\n",
      "款式落差百分比為：0.4167%\n"
     ]
    }
   ],
   "source": [
    "true_total = one_sect * sect * one_set * rounds\n",
    "\n",
    "a = (one_sect * sect // data_B['卡片種類'][0])-1 #手動微調\n",
    "b = (one_sect * sect % data_B['卡片種類'][0])+10 #手動微調\n",
    "prob = (a*15+b)*rounds/true_total\n",
    "\n",
    "print('A卡落版',a,'組+',b,'款')\n",
    "print('A卡實際機率：{:.4%}\\n機率差值：{:.4%}'.format(prob, (prob-0.2280)))\n",
    "if b != 0:\n",
    "    print('款式落差百分比為：{:.4%}'.format( (1)*rounds/true_total) )\n",
    "else:\n",
    "    print('款式落差百分比為：{:.4%}'.format( (0)*rounds/true_total) )"
   ]
  },
  {
   "cell_type": "code",
   "execution_count": 362,
   "metadata": {},
   "outputs": [
    {
     "name": "stdout",
     "output_type": "stream",
     "text": [
      "B卡落版 9 組+ 14 款\n",
      "B卡實際機率：77.0833%\n",
      "機率差值：-0.1167%\n",
      "款式落差百分比為：0.4167%\n"
     ]
    }
   ],
   "source": [
    "# true_total = one_sect * sect * one_set * rounds\n",
    "\n",
    "c = (((one_sect * sect * one_set) - (a*15+b)) // data_B['卡片種類'][1])\n",
    "d = (((one_sect * sect * one_set) - (a*15+b))  % data_B['卡片種類'][1])\n",
    "prob = (c*19+d)*rounds/true_total\n",
    "\n",
    "print('B卡落版',c,'組+',d,'款')\n",
    "print('B卡實際機率：{:.4%}\\n機率差值：{:.4%}'.format(prob, (prob-0.772)))\n",
    "if b != 0:\n",
    "    print('款式落差百分比為：{:.4%}'.format( (1)*rounds/true_total) )\n",
    "else:\n",
    "    print('款式落差百分比為：{:.4%}'.format( (0)*rounds/true_total) )"
   ]
  },
  {
   "cell_type": "markdown",
   "metadata": {},
   "source": [
    "#### 卡片分配"
   ]
  },
  {
   "cell_type": "code",
   "execution_count": 372,
   "metadata": {},
   "outputs": [
    {
     "data": {
      "text/plain": [
       "['A8', 'A7', 'A6', 'A5', 'A4', 'A3', 'A15', 'A13', 'A12', 'A10']"
      ]
     },
     "execution_count": 372,
     "metadata": {},
     "output_type": "execute_result"
    }
   ],
   "source": [
    "import random\n",
    "\n",
    "#A卡池\n",
    "while True:\n",
    "    A_base = []\n",
    "    for i in range(data_B['卡片種類'][0]):\n",
    "        A_base.append('A'+str(i+1))\n",
    "    A = A_base*3\n",
    "    random.shuffle(A_base)\n",
    "    for i in range(15-10):\n",
    "        A_base.pop()\n",
    "    A_base.sort(reverse=True)\n",
    "    A.extend(A_base)\n",
    "    \n",
    "    if A_base[-1] != 'A1':\n",
    "        break\n",
    "    else:\n",
    "        continue\n",
    "\n",
    "A_base"
   ]
  },
  {
   "cell_type": "code",
   "execution_count": 373,
   "metadata": {},
   "outputs": [
    {
     "data": {
      "text/plain": [
       "['B8',\n",
       " 'B7',\n",
       " 'B6',\n",
       " 'B5',\n",
       " 'B4',\n",
       " 'B3',\n",
       " 'B2',\n",
       " 'B19',\n",
       " 'B17',\n",
       " 'B16',\n",
       " 'B15',\n",
       " 'B13',\n",
       " 'B12',\n",
       " 'B10']"
      ]
     },
     "execution_count": 373,
     "metadata": {},
     "output_type": "execute_result"
    }
   ],
   "source": [
    "#B卡池\n",
    "while True:\n",
    "    B_base = []\n",
    "    for i in range(data_B['卡片種類'][1]):\n",
    "        B_base.append('B'+str(i+1))\n",
    "    B = B_base*9\n",
    "    random.shuffle(B_base)\n",
    "    for i in range(19-14):\n",
    "        B_base.pop()\n",
    "    B_base.sort(reverse=True)\n",
    "    B.extend(B_base)\n",
    "\n",
    "    if B_base[-1] != 'B1':\n",
    "        break\n",
    "    else:\n",
    "        continue\n",
    "\n",
    "B_base"
   ]
  },
  {
   "cell_type": "code",
   "execution_count": 374,
   "metadata": {},
   "outputs": [
    {
     "data": {
      "text/plain": [
       "[55, 185]"
      ]
     },
     "execution_count": 374,
     "metadata": {},
     "output_type": "execute_result"
    }
   ],
   "source": [
    "tt = [len(A), len(B)]\n",
    "tt"
   ]
  },
  {
   "cell_type": "code",
   "execution_count": 375,
   "metadata": {},
   "outputs": [],
   "source": [
    "submit = []\n",
    "\n",
    "while A != []: #配選ABBB牌\n",
    "    comb = []\n",
    "    comb.append(A.pop())\n",
    "    while len(comb)<4: #隨機組合不重複\n",
    "        B_chosen = random.choice(B)\n",
    "        if B_chosen not in comb:\n",
    "            comb.append(B_chosen)\n",
    "            B.remove(B_chosen)\n",
    "        else:\n",
    "            continue\n",
    "    comb.sort()\n",
    "    if comb not in submit: #退還已存在組合\n",
    "        submit.append(comb)\n",
    "    else:\n",
    "        for i in range(3):\n",
    "            B.append(comb.pop())\n",
    "        A.append(comb.pop())"
   ]
  },
  {
   "cell_type": "code",
   "execution_count": 376,
   "metadata": {},
   "outputs": [
    {
     "data": {
      "text/plain": [
       "[0, 20]"
      ]
     },
     "execution_count": 376,
     "metadata": {},
     "output_type": "execute_result"
    }
   ],
   "source": [
    "tt = [len(A), len(B)]\n",
    "tt"
   ]
  },
  {
   "cell_type": "code",
   "execution_count": 377,
   "metadata": {},
   "outputs": [
    {
     "data": {
      "text/plain": [
       "[['A10', 'B12', 'B15', 'B7'],\n",
       " ['A12', 'B4', 'B5', 'B8'],\n",
       " ['A13', 'B19', 'B6', 'B7'],\n",
       " ['A15', 'B14', 'B19', 'B8'],\n",
       " ['A3', 'B1', 'B4', 'B5'],\n",
       " ['A4', 'B10', 'B17', 'B2'],\n",
       " ['A5', 'B12', 'B16', 'B5'],\n",
       " ['A6', 'B13', 'B18', 'B5'],\n",
       " ['A7', 'B14', 'B17', 'B19'],\n",
       " ['A8', 'B15', 'B18', 'B7'],\n",
       " ['A15', 'B13', 'B14', 'B16'],\n",
       " ['A14', 'B17', 'B18', 'B3'],\n",
       " ['A13', 'B17', 'B6', 'B8'],\n",
       " ['A12', 'B13', 'B14', 'B19'],\n",
       " ['A11', 'B14', 'B19', 'B5'],\n",
       " ['A10', 'B13', 'B19', 'B9'],\n",
       " ['A9', 'B12', 'B15', 'B4'],\n",
       " ['A8', 'B10', 'B15', 'B7'],\n",
       " ['A7', 'B17', 'B8', 'B9'],\n",
       " ['A6', 'B10', 'B14', 'B6'],\n",
       " ['A5', 'B11', 'B13', 'B19'],\n",
       " ['A4', 'B2', 'B5', 'B6'],\n",
       " ['A3', 'B10', 'B15', 'B9'],\n",
       " ['A2', 'B12', 'B14', 'B15'],\n",
       " ['A1', 'B11', 'B12', 'B4'],\n",
       " ['A15', 'B16', 'B2', 'B3'],\n",
       " ['A14', 'B10', 'B3', 'B9'],\n",
       " ['A13', 'B1', 'B12', 'B3'],\n",
       " ['A12', 'B11', 'B17', 'B9'],\n",
       " ['A11', 'B17', 'B4', 'B5'],\n",
       " ['A10', 'B1', 'B19', 'B9'],\n",
       " ['A9', 'B1', 'B19', 'B6'],\n",
       " ['A8', 'B1', 'B17', 'B2'],\n",
       " ['A7', 'B10', 'B4', 'B9'],\n",
       " ['A6', 'B13', 'B16', 'B9'],\n",
       " ['A5', 'B1', 'B15', 'B3'],\n",
       " ['A4', 'B11', 'B6', 'B7'],\n",
       " ['A3', 'B3', 'B5', 'B6'],\n",
       " ['A2', 'B1', 'B13', 'B16'],\n",
       " ['A1', 'B2', 'B3', 'B4'],\n",
       " ['A15', 'B18', 'B3', 'B7'],\n",
       " ['A14', 'B16', 'B2', 'B7'],\n",
       " ['A13', 'B10', 'B15', 'B8'],\n",
       " ['A12', 'B13', 'B6', 'B8'],\n",
       " ['A11', 'B2', 'B4', 'B7'],\n",
       " ['A10', 'B16', 'B18', 'B2'],\n",
       " ['A9', 'B12', 'B14', 'B4'],\n",
       " ['A8', 'B11', 'B2', 'B3'],\n",
       " ['A7', 'B1', 'B13', 'B5'],\n",
       " ['A6', 'B11', 'B3', 'B7'],\n",
       " ['A5', 'B11', 'B2', 'B8'],\n",
       " ['A4', 'B10', 'B12', 'B6'],\n",
       " ['A3', 'B11', 'B15', 'B16'],\n",
       " ['A2', 'B14', 'B15', 'B17'],\n",
       " ['A1', 'B17', 'B4', 'B8']]"
      ]
     },
     "execution_count": 377,
     "metadata": {},
     "output_type": "execute_result"
    }
   ],
   "source": [
    "submit"
   ]
  },
  {
   "cell_type": "code",
   "execution_count": 382,
   "metadata": {},
   "outputs": [
    {
     "data": {
      "text/plain": [
       "['B18',\n",
       " 'B18',\n",
       " 'B18',\n",
       " 'B1',\n",
       " 'B8',\n",
       " 'B9',\n",
       " 'B10',\n",
       " 'B11',\n",
       " 'B12',\n",
       " 'B16',\n",
       " 'B18',\n",
       " 'B8',\n",
       " 'B7',\n",
       " 'B6',\n",
       " 'B5',\n",
       " 'B19',\n",
       " 'B16',\n",
       " 'B13',\n",
       " 'B12',\n",
       " 'B10']"
      ]
     },
     "execution_count": 382,
     "metadata": {},
     "output_type": "execute_result"
    }
   ],
   "source": [
    "B"
   ]
  },
  {
   "cell_type": "markdown",
   "metadata": {},
   "source": [
    "# C組牌 配率\n",
    ">每包內含張數：3\n",
    ">同一包卡片不重複\t"
   ]
  },
  {
   "cell_type": "code",
   "execution_count": 378,
   "metadata": {},
   "outputs": [
    {
     "data": {
      "text/html": [
       "<div>\n",
       "<style scoped>\n",
       "    .dataframe tbody tr th:only-of-type {\n",
       "        vertical-align: middle;\n",
       "    }\n",
       "\n",
       "    .dataframe tbody tr th {\n",
       "        vertical-align: top;\n",
       "    }\n",
       "\n",
       "    .dataframe thead th {\n",
       "        text-align: right;\n",
       "    }\n",
       "</style>\n",
       "<table border=\"1\" class=\"dataframe\">\n",
       "  <thead>\n",
       "    <tr style=\"text-align: right;\">\n",
       "      <th></th>\n",
       "      <th>組合</th>\n",
       "      <th>組合占比</th>\n",
       "      <th>卡片名稱</th>\n",
       "      <th>卡片種類</th>\n",
       "      <th>卡片總量</th>\n",
       "    </tr>\n",
       "  </thead>\n",
       "  <tbody>\n",
       "    <tr>\n",
       "      <th>0</th>\n",
       "      <td>C</td>\n",
       "      <td>50%</td>\n",
       "      <td>勝利條件卡N</td>\n",
       "      <td>6</td>\n",
       "      <td>150000</td>\n",
       "    </tr>\n",
       "    <tr>\n",
       "      <th>1</th>\n",
       "      <td>C</td>\n",
       "      <td>50%</td>\n",
       "      <td>勝利條件卡SP</td>\n",
       "      <td>10</td>\n",
       "      <td>150000</td>\n",
       "    </tr>\n",
       "  </tbody>\n",
       "</table>\n",
       "</div>"
      ],
      "text/plain": [
       "  組合 組合占比     卡片名稱  卡片種類    卡片總量\n",
       "0  C  50%   勝利條件卡N     6  150000\n",
       "1  C  50%  勝利條件卡SP    10  150000"
      ]
     },
     "execution_count": 378,
     "metadata": {},
     "output_type": "execute_result"
    }
   ],
   "source": [
    "data_C = data[data['組合'] == 'C']\n",
    "data_C = data_C.reset_index(drop=True)\n",
    "data_C"
   ]
  },
  {
   "cell_type": "code",
   "execution_count": null,
   "metadata": {},
   "outputs": [],
   "source": []
  }
 ],
 "metadata": {
  "kernelspec": {
   "display_name": "Python 3",
   "language": "python",
   "name": "python3"
  },
  "language_info": {
   "codemirror_mode": {
    "name": "ipython",
    "version": 3
   },
   "file_extension": ".py",
   "mimetype": "text/x-python",
   "name": "python",
   "nbconvert_exporter": "python",
   "pygments_lexer": "ipython3",
   "version": "3.7.3"
  }
 },
 "nbformat": 4,
 "nbformat_minor": 2
}
